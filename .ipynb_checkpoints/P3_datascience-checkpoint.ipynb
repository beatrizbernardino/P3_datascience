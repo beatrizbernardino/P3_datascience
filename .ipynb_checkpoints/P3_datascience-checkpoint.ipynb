{
 "cells": [
  {
   "cell_type": "code",
   "execution_count": 19,
   "metadata": {},
   "outputs": [],
   "source": [
    "import numpy as np\n",
    "import pandas as pd\n",
    "import matplotlib.pyplot as plt\n",
    "import seaborn as sns"
   ]
  },
  {
   "cell_type": "code",
   "execution_count": 5,
   "metadata": {
    "scrolled": true
   },
   "outputs": [],
   "source": [
    "data_suja_completa=pd.read_csv(\"speeddating.csv\")\n"
   ]
  },
  {
   "cell_type": "code",
   "execution_count": 17,
   "metadata": {},
   "outputs": [],
   "source": [
    "data_suja_limpo=data_suja_completa[data_suja_completa!= \"?\" ]\n",
    "data_suja_limpo.dropna(inplace=True)\n"
   ]
  },
  {
   "cell_type": "code",
   "execution_count": 133,
   "metadata": {
    "scrolled": true
   },
   "outputs": [
    {
     "data": {
      "text/plain": [
       "Index(['has_null', 'wave', 'gender', 'age', 'age_o', 'd_age', 'd_d_age',\n",
       "       'race', 'race_o', 'samerace',\n",
       "       ...\n",
       "       'd_expected_num_interested_in_me', 'd_expected_num_matches', 'like',\n",
       "       'guess_prob_liked', 'd_like', 'd_guess_prob_liked', 'met', 'decision',\n",
       "       'decision_o', 'match'],\n",
       "      dtype='object', length=123)"
      ]
     },
     "execution_count": 133,
     "metadata": {},
     "output_type": "execute_result"
    }
   ],
   "source": [
    "data_suja_limpo.columns"
   ]
  },
  {
   "cell_type": "code",
   "execution_count": 39,
   "metadata": {},
   "outputs": [],
   "source": [
    "data=data_suja_limpo.drop(['d_pref_o_funny' ,'d_pref_o_ambitious',\n",
    "                     'd_pref_o_shared_interests','d_pref_o_sincere', 'd_pref_o_intelligence',\n",
    "                     \"wave\",'d_pref_o_attractive',\"has_null\",\"d_age\",'d_importance_same_race',\n",
    "                     'd_importance_same_religion',\"samerace\", \"d_d_age\", \"expected_happy_with_sd_people\", \n",
    "                     \"expected_num_interested_in_me\", \"expected_num_matches\", \"guess_prob_liked\", \"decision\", \n",
    "                     \"decision_o\", 'd_attractive_o',\n",
    " 'd_sinsere_o' ,'d_intelligence_o' ,'d_funny_o', 'd_ambitous_o',\n",
    " 'd_shared_interests_o', 'd_attractive_important' ,'d_sincere_important' ,'d_intellicence_important',\n",
    " 'd_funny_important', 'd_ambtition_important',\n",
    " 'd_shared_interests_important', 'd_attractive', 'd_sincere',\n",
    " 'd_intelligence', 'd_funny' ,'d_ambition', 'd_attractive_partner' ,'d_sincere_partner',\n",
    " 'd_intelligence_partner', 'd_funny_partner', 'd_ambition_partner',\n",
    " 'd_shared_interests_partner', 'd_sports', 'd_tvsports',\n",
    " 'd_exercise' ,'d_dining' ,'d_museums', 'd_art' ,'d_hiking', 'd_gaming',\n",
    " 'd_clubbing' ,'d_reading', 'd_tv' ,'d_theater' ,'d_movies' ,'d_concerts',\n",
    " 'd_music', 'd_shopping', 'd_yoga', 'd_interests_correlate' ,'d_expected_happy_with_sd_people',\n",
    " 'd_expected_num_interested_in_me', 'd_expected_num_matches',\n",
    " 'd_like', 'd_guess_prob_liked'], axis=1)\n"
   ]
  },
  {
   "cell_type": "code",
   "execution_count": 40,
   "metadata": {
    "scrolled": false
   },
   "outputs": [
    {
     "name": "stdout",
     "output_type": "stream",
     "text": [
      "['gender' 'age' 'age_o' 'race' 'race_o' 'importance_same_race'\n",
      " 'importance_same_religion' 'field' 'pref_o_attractive' 'pref_o_sincere'\n",
      " 'pref_o_intelligence' 'pref_o_funny' 'pref_o_ambitious'\n",
      " 'pref_o_shared_interests' 'attractive_o' 'sinsere_o' 'intelligence_o'\n",
      " 'funny_o' 'ambitous_o' 'shared_interests_o' 'attractive_important'\n",
      " 'sincere_important' 'intellicence_important' 'funny_important'\n",
      " 'ambtition_important' 'shared_interests_important' 'attractive' 'sincere'\n",
      " 'intelligence' 'funny' 'ambition' 'attractive_partner' 'sincere_partner'\n",
      " 'intelligence_partner' 'funny_partner' 'ambition_partner'\n",
      " 'shared_interests_partner' 'sports' 'tvsports' 'exercise' 'dining'\n",
      " 'museums' 'art' 'hiking' 'gaming' 'clubbing' 'reading' 'tv' 'theater'\n",
      " 'movies' 'concerts' 'music' 'shopping' 'yoga' 'interests_correlate'\n",
      " 'like' 'met' 'match']\n"
     ]
    }
   ],
   "source": [
    "print(data.columns.values)"
   ]
  },
  {
   "cell_type": "code",
   "execution_count": 53,
   "metadata": {},
   "outputs": [
    {
     "data": {
      "text/plain": [
       "0.5784484648405478"
      ]
     },
     "execution_count": 53,
     "metadata": {},
     "output_type": "execute_result"
    },
    {
     "data": {
      "image/png": "[encoded data removed]",
      "text/plain": [
       "<Figure size 432x288 with 1 Axes>"
      ]
     },
     "metadata": {
      "needs_background": "light"
     },
     "output_type": "display_data"
    }
   ],
   "source": [
    "mesma_raça=data.importance_same_race.astype(int)\n",
    "mesma_rel=data.importance_same_religion.astype(int)\n",
    "sns.regplot(mesma_raça, mesma_rel, color=('red'))\n",
    "a.corr(b)"
   ]
  },
  {
   "cell_type": "code",
   "execution_count": 79,
   "metadata": {},
   "outputs": [
    {
     "data": {
      "text/plain": [
       "0.137921972550661"
      ]
     },
     "execution_count": 79,
     "metadata": {},
     "output_type": "execute_result"
    },
    {
     "data": {
      "image/png": "[encoded data removed]",
      "text/plain": [
       "<Figure size 432x288 with 1 Axes>"
      ]
     },
     "metadata": {
      "needs_background": "light"
     },
     "output_type": "display_data"
    }
   ],
   "source": [
    "sns.regplot(data.funny.astype(int), data.attractive_partner.astype(int), color=('red'))\n",
    "data.funny.astype(int).corr(data.attractive_partner.astype(int))"
   ]
  },
  {
   "cell_type": "code",
   "execution_count": 81,
   "metadata": {},
   "outputs": [
    {
     "data": {
      "text/plain": [
       "<matplotlib.axes._subplots.AxesSubplot at 0x1a265e16d8>"
      ]
     },
     "execution_count": 81,
     "metadata": {},
     "output_type": "execute_result"
    },
    {
     "data": {
      "image/png": "[encoded data removed]",
      "text/plain": [
       "<Figure size 432x288 with 1 Axes>"
      ]
     },
     "metadata": {},
     "output_type": "display_data"
    }
   ],
   "source": [
    "genero=data.gender.value_counts()\n",
    "genero.plot(kind='pie', autopct=\"%.2f\",legend=False)"
   ]
  },
  {
   "cell_type": "code",
   "execution_count": 90,
   "metadata": {},
   "outputs": [
    {
     "data": {
      "text/plain": [
       "count    1048.000000\n",
       "mean       25.005725\n",
       "std         3.270365\n",
       "min        18.000000\n",
       "25%        22.000000\n",
       "50%        25.000000\n",
       "75%        27.000000\n",
       "max        35.000000\n",
       "Name: age, dtype: float64"
      ]
     },
     "execution_count": 90,
     "metadata": {},
     "output_type": "execute_result"
    },
    {
     "data": {
      "image/png": "[encoded data removed]",
      "text/plain": [
       "<Figure size 432x288 with 1 Axes>"
      ]
     },
     "metadata": {
      "needs_background": "light"
     },
     "output_type": "display_data"
    }
   ],
   "source": [
    "idade=data.age.astype(int)\n",
    "plt.boxplot(idade)\n",
    "plt.title('Idade dos participantes')\n",
    "plt.ylabel('idade')\n",
    "plt.grid(which='both')\n",
    "plt.tight_layout()\n",
    "\n",
    "idade.describe()"
   ]
  },
  {
   "cell_type": "code",
   "execution_count": 91,
   "metadata": {},
   "outputs": [
    {
     "data": {
      "text/html": [
       "<div>\n",
       "<style scoped>\n",
       "    .dataframe tbody tr th:only-of-type {\n",
       "        vertical-align: middle;\n",
       "    }\n",
       "\n",
       "    .dataframe tbody tr th {\n",
       "        vertical-align: top;\n",
       "    }\n",
       "\n",
       "    .dataframe thead th {\n",
       "        text-align: right;\n",
       "    }\n",
       "</style>\n",
       "<table border=\"1\" class=\"dataframe\">\n",
       "  <thead>\n",
       "    <tr style=\"text-align: right;\">\n",
       "      <th>match</th>\n",
       "      <th>0</th>\n",
       "      <th>1</th>\n",
       "    </tr>\n",
       "    <tr>\n",
       "      <th>age</th>\n",
       "      <th></th>\n",
       "      <th></th>\n",
       "    </tr>\n",
       "  </thead>\n",
       "  <tbody>\n",
       "    <tr>\n",
       "      <th>18</th>\n",
       "      <td>8</td>\n",
       "      <td>0</td>\n",
       "    </tr>\n",
       "    <tr>\n",
       "      <th>19</th>\n",
       "      <td>5</td>\n",
       "      <td>1</td>\n",
       "    </tr>\n",
       "    <tr>\n",
       "      <th>20</th>\n",
       "      <td>8</td>\n",
       "      <td>8</td>\n",
       "    </tr>\n",
       "    <tr>\n",
       "      <th>21</th>\n",
       "      <td>85</td>\n",
       "      <td>31</td>\n",
       "    </tr>\n",
       "    <tr>\n",
       "      <th>22</th>\n",
       "      <td>103</td>\n",
       "      <td>27</td>\n",
       "    </tr>\n",
       "    <tr>\n",
       "      <th>23</th>\n",
       "      <td>130</td>\n",
       "      <td>15</td>\n",
       "    </tr>\n",
       "    <tr>\n",
       "      <th>24</th>\n",
       "      <td>77</td>\n",
       "      <td>16</td>\n",
       "    </tr>\n",
       "    <tr>\n",
       "      <th>25</th>\n",
       "      <td>69</td>\n",
       "      <td>21</td>\n",
       "    </tr>\n",
       "    <tr>\n",
       "      <th>26</th>\n",
       "      <td>81</td>\n",
       "      <td>17</td>\n",
       "    </tr>\n",
       "    <tr>\n",
       "      <th>27</th>\n",
       "      <td>88</td>\n",
       "      <td>15</td>\n",
       "    </tr>\n",
       "    <tr>\n",
       "      <th>28</th>\n",
       "      <td>88</td>\n",
       "      <td>20</td>\n",
       "    </tr>\n",
       "    <tr>\n",
       "      <th>29</th>\n",
       "      <td>19</td>\n",
       "      <td>5</td>\n",
       "    </tr>\n",
       "    <tr>\n",
       "      <th>30</th>\n",
       "      <td>60</td>\n",
       "      <td>5</td>\n",
       "    </tr>\n",
       "    <tr>\n",
       "      <th>32</th>\n",
       "      <td>28</td>\n",
       "      <td>3</td>\n",
       "    </tr>\n",
       "    <tr>\n",
       "      <th>34</th>\n",
       "      <td>1</td>\n",
       "      <td>0</td>\n",
       "    </tr>\n",
       "    <tr>\n",
       "      <th>35</th>\n",
       "      <td>12</td>\n",
       "      <td>2</td>\n",
       "    </tr>\n",
       "  </tbody>\n",
       "</table>\n",
       "</div>"
      ],
      "text/plain": [
       "match    0   1\n",
       "age           \n",
       "18       8   0\n",
       "19       5   1\n",
       "20       8   8\n",
       "21      85  31\n",
       "22     103  27\n",
       "23     130  15\n",
       "24      77  16\n",
       "25      69  21\n",
       "26      81  17\n",
       "27      88  15\n",
       "28      88  20\n",
       "29      19   5\n",
       "30      60   5\n",
       "32      28   3\n",
       "34       1   0\n",
       "35      12   2"
      ]
     },
     "execution_count": 91,
     "metadata": {},
     "output_type": "execute_result"
    }
   ],
   "source": [
    "pd.crosstab(data.age,data.match)"
   ]
  },
  {
   "cell_type": "code",
   "execution_count": 151,
   "metadata": {
    "scrolled": false
   },
   "outputs": [
    {
     "data": {
      "text/plain": [
       "<BarContainer object of 1048 artists>"
      ]
     },
     "execution_count": 151,
     "metadata": {},
     "output_type": "execute_result"
    },
    {
     "data": {
      "image/png": "[encoded data removed]",
      "text/plain": [
       "<Figure size 1080x576 with 1 Axes>"
      ]
     },
     "metadata": {
      "needs_background": "light"
     },
     "output_type": "display_data"
    }
   ],
   "source": [
    "fig, ax = plt.subplots(figsize=(15, 8))\n",
    "ax.barh( data['race'], data['importance_same_religion'])"
   ]
  },
  {
   "cell_type": "code",
   "execution_count": null,
   "metadata": {},
   "outputs": [],
   "source": []
  },
  {
   "cell_type": "code",
   "execution_count": 8,
   "metadata": {},
   "outputs": [],
   "source": [
    "X_num = data[['age', \"age_o\", 'importance_same_race',\n",
    " 'importance_same_religion',  'pref_o_attractive', 'pref_o_sincere',\n",
    " 'pref_o_intelligence', 'pref_o_funny', 'pref_o_ambitious',\n",
    " 'pref_o_shared_interests',  'attractive_o' ,'sinsere_o' ,'intelligence_o',\n",
    " 'funny_o' ,'ambitous_o', 'shared_interests_o' ,'attractive_important', 'sincere_important' ,'intellicence_important' ,'funny_important',\n",
    " 'ambtition_important' ,'shared_interests_important' ,'attractive', 'sincere',\n",
    " 'intelligence' ,'funny' ,'ambition' ,'attractive_partner', 'sincere_partner',\n",
    " 'intelligence_partner', 'funny_partner' ,'ambition_partner',\n",
    " 'shared_interests_partner', 'sports', 'tvsports' ,'exercise', 'dining',\n",
    " 'museums', 'art' ,'hiking' ,'gaming' ,'clubbing', 'reading', 'tv' ,'theater',\n",
    " 'movies' ,'concerts', 'music' ,'shopping' ,'yoga', \n",
    " 'like'  \n",
    "]]\n",
    "X_cat = data[['gender', 'race', \"race_o\", 'field', 'met'  ]]"
   ]
  },
  {
   "cell_type": "code",
   "execution_count": 9,
   "metadata": {},
   "outputs": [],
   "source": [
    "y = data['match']"
   ]
  },
  {
   "cell_type": "code",
   "execution_count": 10,
   "metadata": {},
   "outputs": [],
   "source": [
    "from sklearn.preprocessing import OneHotEncoder\n",
    "\n",
    "encoder = OneHotEncoder()\n",
    "\n",
    "X_cat_encoded = encoder.fit_transform(X_cat)"
   ]
  },
  {
   "cell_type": "code",
   "execution_count": 11,
   "metadata": {},
   "outputs": [
    {
     "data": {
      "text/plain": [
       "[array(['female', 'male'], dtype=object),\n",
       " array([\"'Asian/Pacific Islander/Asian-American'\",\n",
       "        \"'Black/African American'\", \"'Latino/Hispanic American'\",\n",
       "        'European/Caucasian-American', 'Other'], dtype=object),\n",
       " array([\"'Asian/Pacific Islander/Asian-American'\",\n",
       "        \"'Black/African American'\", \"'Latino/Hispanic American'\",\n",
       "        'European/Caucasian-American', 'Other'], dtype=object),\n",
       " array([\"'Applied Maths/Econs'\", \"'Art History/medicine'\",\n",
       "        \"'Biomedical Engineering'\", \"'Business & International Affairs'\",\n",
       "        \"'Business [MBA]'\", \"'Business- MBA'\", \"'Computer Science'\",\n",
       "        \"'Economics and Political Science'\", \"'Economics; Sociology'\",\n",
       "        \"'Educational Psychology'\", \"'Electrical Engineering'\",\n",
       "        \"'Elementary/Childhood Education [MA]'\", \"'German Literature'\",\n",
       "        \"'International Educational Development'\",\n",
       "        \"'Masters in Public Administration'\", \"'Masters of Social Work'\",\n",
       "        \"'Mathematical Finance'\", \"'Mechanical Engineering'\",\n",
       "        \"'Operations Research [SEAS]'\", \"'Operations Research'\",\n",
       "        \"'Organizational Psychology'\", \"'Social Work'\",\n",
       "        \"'Speech Language Pathology'\", \"'TC [Health Ed]'\",\n",
       "        \"'Undergrad - GS'\", \"'financial math'\", \"'political science'\",\n",
       "        \"'psychology and english'\", \"'social work'\", 'Business',\n",
       "        'Chemistry', 'Classics', 'Communications', 'Economics',\n",
       "        'Engineering', 'English', 'Film', 'Finanace', 'Finance',\n",
       "        'Finance&Economics', 'Journalism', 'LAW', 'Law', 'MBA',\n",
       "        'Marketing', 'Mathematics', 'Medicine', 'Polish', 'Psychology',\n",
       "        'Sociology', 'Statistics', 'chemistry', 'law', 'microbiology',\n",
       "        'philosophy', 'psychology'], dtype=object),\n",
       " array(['0', '1', '3'], dtype=object)]"
      ]
     },
     "execution_count": 11,
     "metadata": {},
     "output_type": "execute_result"
    }
   ],
   "source": [
    "encoder.categories_"
   ]
  },
  {
   "cell_type": "code",
   "execution_count": 12,
   "metadata": {},
   "outputs": [
    {
     "data": {
      "text/plain": [
       "array([1., 0., 1., 0., 0., 0., 0., 0., 0., 0., 1., 0., 0., 0., 0., 0., 0.,\n",
       "       0., 0., 0., 0., 0., 0., 0., 0., 0., 0., 0., 0., 0., 0., 0., 0., 0.,\n",
       "       0., 0., 0., 0., 0., 0., 0., 0., 0., 0., 0., 0., 0., 0., 0., 0., 0.,\n",
       "       0., 0., 0., 1., 0., 0., 0., 0., 0., 0., 0., 0., 0., 0., 0., 0., 0.,\n",
       "       1., 0., 0.])"
      ]
     },
     "execution_count": 12,
     "metadata": {},
     "output_type": "execute_result"
    }
   ],
   "source": [
    "X_cat_encoded.toarray()[0]"
   ]
  },
  {
   "cell_type": "code",
   "execution_count": 13,
   "metadata": {},
   "outputs": [],
   "source": [
    "X_num_array = X_num.values"
   ]
  },
  {
   "cell_type": "code",
   "execution_count": null,
   "metadata": {},
   "outputs": [],
   "source": [
    "X_cat_encoded_array = X_cat_encoded.toarray()"
   ]
  },
  {
   "cell_type": "code",
   "execution_count": null,
   "metadata": {},
   "outputs": [],
   "source": [
    "X = np.concatenate((X_num_array, X_cat_encoded_array), axis=1)"
   ]
  },
  {
   "cell_type": "code",
   "execution_count": null,
   "metadata": {},
   "outputs": [],
   "source": [
    "X[0]"
   ]
  },
  {
   "cell_type": "code",
   "execution_count": null,
   "metadata": {},
   "outputs": [],
   "source": [
    "y[0]"
   ]
  },
  {
   "cell_type": "code",
   "execution_count": null,
   "metadata": {},
   "outputs": [],
   "source": [
    "from sklearn.ensemble import RandomForestClassifier\n",
    "from sklearn.model_selection import train_test_split\n",
    "from sklearn.metrics import accuracy_score\n",
    "\n",
    "X_train, X_test, y_train, y_test = train_test_split(X, y)\n",
    "\n",
    "model = RandomForestClassifier()\n",
    "model.fit(X_train, y_train)\n",
    "y_pred = model.predict(X_test)\n",
    "\n",
    "print(accuracy_score(y_test, y_pred))"
   ]
  },
  {
   "cell_type": "code",
   "execution_count": null,
   "metadata": {},
   "outputs": [],
   "source": [
    "novo_dado = [\"female\", 18, 18,'Latino/Hispanic American', 'Latino/Hispanic American','Engineering', 80, 100, 80, 60, 70, 100, 100, 100, 100, 100, 100, 60, 100, 70, 70, 70, 80, 6, 8, 7, 5, 7, 8, 9, 7.5, 9, 8, 6, 0, 8, 10, 5, 7, 0, 7, 0, 6, 10, 6, 10, 8, 10, 8, 3, 10, 1]  \n",
    "novo_x_num = np.array([novo_dado[0]]).reshape(-1,1)\n",
    "novo_x_cat = [novo_dado[1:]]"
   ]
  },
  {
   "cell_type": "code",
   "execution_count": null,
   "metadata": {
    "scrolled": true
   },
   "outputs": [],
   "source": [
    "novo_x_num"
   ]
  },
  {
   "cell_type": "code",
   "execution_count": null,
   "metadata": {},
   "outputs": [],
   "source": [
    "novo_x_cat"
   ]
  },
  {
   "cell_type": "code",
   "execution_count": null,
   "metadata": {},
   "outputs": [],
   "source": []
  },
  {
   "cell_type": "code",
   "execution_count": null,
   "metadata": {},
   "outputs": [],
   "source": []
  },
  {
   "cell_type": "code",
   "execution_count": null,
   "metadata": {},
   "outputs": [],
   "source": [
    "data_suja_completa.attractive.value_counts()"
   ]
  },
  {
   "cell_type": "code",
   "execution_count": null,
   "metadata": {},
   "outputs": [],
   "source": []
  }
 ],
 "metadata": {
  "kernelspec": {
   "display_name": "Python 3",
   "language": "python",
   "name": "python3"
  },
  "language_info": {
   "codemirror_mode": {
    "name": "ipython",
    "version": 3
   },
   "file_extension": ".py",
   "mimetype": "text/x-python",
   "name": "python",
   "nbconvert_exporter": "python",
   "pygments_lexer": "ipython3",
   "version": "3.7.3"
  }
 },
 "nbformat": 4,
 "nbformat_minor": 2
}
