{
 "cells": [
  {
   "cell_type": "markdown",
   "metadata": {},
   "source": [
    "\n",
    "# Projeto 3 - Speed Dating\n"
   ]
  },
  {
   "cell_type": "code",
<<<<<<< HEAD
   "execution_count": 144,
=======
   "execution_count": 19,
>>>>>>> 0434f3007b8046249b0d06316e02cb9aa48c2f77
   "metadata": {},
   "outputs": [],
   "source": [
    "#importando as bibliotecas\n",
    "import numpy as np\n",
    "import pandas as pd\n",
    "import matplotlib.pyplot as plt\n",
<<<<<<< HEAD
    "import seaborn as sns\n",
    "from math import pi\n",
    " \n",
    "\n"
   ]
  },
  {
   "cell_type": "markdown",
   "metadata": {},
   "source": [
    "  ##### O primeiro passo, foi procurar um dataset ideal para trabalharmos, ou seja, que contenha dados o suficiente para chegar em uma conclusão. \n",
    "#####   Encontramos ele no OpenML."
=======
    "import seaborn as sns"
>>>>>>> 0434f3007b8046249b0d06316e02cb9aa48c2f77
   ]
  },
  {
   "cell_type": "code",
<<<<<<< HEAD
   "execution_count": 145,
=======
   "execution_count": 5,
>>>>>>> 0434f3007b8046249b0d06316e02cb9aa48c2f77
   "metadata": {
    "scrolled": false
   },
<<<<<<< HEAD
   "outputs": [
    {
     "name": "stderr",
     "output_type": "stream",
     "text": [
      "C:\\Users\\julia\\Anaconda3\\lib\\site-packages\\IPython\\core\\interactiveshell.py:3020: DtypeWarning: Columns (3,10,11,15,16,17,18,19,39,40,41,42,43,44,51,52,53,54,55,73,74,75,76,77,78,79,80,81,82,83,84,85,86,87,88,89,107,109) have mixed types. Specify dtype option on import or set low_memory=False.\n",
      "  interactivity=interactivity, compiler=compiler, result=result)\n"
     ]
    }
   ],
=======
   "outputs": [],
>>>>>>> 0434f3007b8046249b0d06316e02cb9aa48c2f77
   "source": [
    "data_suja_completa=pd.read_csv(\"speeddating.csv\")"
   ]
  },
  {
<<<<<<< HEAD
   "cell_type": "markdown",
   "metadata": {},
   "source": [
    "##### Nosso objetivo é classificar, a partir dos dados já existentes no Dataset, se um casal vai dar \"Match\" ou não, para isso, escolhemos colunas com dados mais relevantes para tal objetivo, colunas como \"wave\", foi retirada, já que conta em qual rodada o casal esta e no nosso \"Speed Dating\" não vão ter rodadas.  "
=======
   "cell_type": "code",
   "execution_count": 17,
   "metadata": {},
   "outputs": [],
   "source": [
    "data_suja_limpo=data_suja_completa[data_suja_completa!= \"?\" ]\n",
    "data_suja_limpo.dropna(inplace=True)\n"
>>>>>>> 0434f3007b8046249b0d06316e02cb9aa48c2f77
   ]
  },
  {
   "cell_type": "code",
<<<<<<< HEAD
   "execution_count": 146,
   "metadata": {},
=======
   "execution_count": 133,
   "metadata": {
    "scrolled": true
   },
>>>>>>> 0434f3007b8046249b0d06316e02cb9aa48c2f77
   "outputs": [
    {
     "data": {
      "text/html": [
       "<div>\n",
       "<style scoped>\n",
       "    .dataframe tbody tr th:only-of-type {\n",
       "        vertical-align: middle;\n",
       "    }\n",
       "\n",
       "    .dataframe tbody tr th {\n",
       "        vertical-align: top;\n",
       "    }\n",
       "\n",
       "    .dataframe thead th {\n",
       "        text-align: right;\n",
       "    }\n",
       "</style>\n",
       "<table border=\"1\" class=\"dataframe\">\n",
       "  <thead>\n",
       "    <tr style=\"text-align: right;\">\n",
       "      <th></th>\n",
       "      <th>gender</th>\n",
       "      <th>age</th>\n",
       "      <th>age_o</th>\n",
       "      <th>race</th>\n",
       "      <th>race_o</th>\n",
       "      <th>importance_same_race</th>\n",
       "      <th>importance_same_religion</th>\n",
       "      <th>field</th>\n",
       "      <th>pref_o_attractive</th>\n",
       "      <th>pref_o_sincere</th>\n",
       "      <th>...</th>\n",
       "      <th>theater</th>\n",
       "      <th>movies</th>\n",
       "      <th>concerts</th>\n",
       "      <th>music</th>\n",
       "      <th>shopping</th>\n",
       "      <th>yoga</th>\n",
       "      <th>interests_correlate</th>\n",
       "      <th>like</th>\n",
       "      <th>met</th>\n",
       "      <th>match</th>\n",
       "    </tr>\n",
       "  </thead>\n",
       "  <tbody>\n",
       "    <tr>\n",
       "      <th>0</th>\n",
       "      <td>female</td>\n",
       "      <td>21</td>\n",
       "      <td>27</td>\n",
       "      <td>'Asian/Pacific Islander/Asian-American'</td>\n",
       "      <td>European/Caucasian-American</td>\n",
       "      <td>2</td>\n",
       "      <td>4</td>\n",
       "      <td>Law</td>\n",
       "      <td>35</td>\n",
       "      <td>20</td>\n",
       "      <td>...</td>\n",
       "      <td>1</td>\n",
       "      <td>10</td>\n",
       "      <td>10</td>\n",
       "      <td>9</td>\n",
       "      <td>8</td>\n",
       "      <td>1</td>\n",
       "      <td>0.14</td>\n",
       "      <td>7</td>\n",
       "      <td>0</td>\n",
       "      <td>0</td>\n",
       "    </tr>\n",
       "    <tr>\n",
       "      <th>1</th>\n",
       "      <td>female</td>\n",
       "      <td>21</td>\n",
       "      <td>22</td>\n",
       "      <td>'Asian/Pacific Islander/Asian-American'</td>\n",
       "      <td>European/Caucasian-American</td>\n",
       "      <td>2</td>\n",
       "      <td>4</td>\n",
       "      <td>Law</td>\n",
       "      <td>60</td>\n",
       "      <td>0</td>\n",
       "      <td>...</td>\n",
       "      <td>1</td>\n",
       "      <td>10</td>\n",
       "      <td>10</td>\n",
       "      <td>9</td>\n",
       "      <td>8</td>\n",
       "      <td>1</td>\n",
       "      <td>0.54</td>\n",
       "      <td>7</td>\n",
       "      <td>1</td>\n",
       "      <td>0</td>\n",
       "    </tr>\n",
       "    <tr>\n",
       "      <th>3</th>\n",
       "      <td>female</td>\n",
       "      <td>21</td>\n",
       "      <td>23</td>\n",
       "      <td>'Asian/Pacific Islander/Asian-American'</td>\n",
       "      <td>European/Caucasian-American</td>\n",
       "      <td>2</td>\n",
       "      <td>4</td>\n",
       "      <td>Law</td>\n",
       "      <td>30</td>\n",
       "      <td>5</td>\n",
       "      <td>...</td>\n",
       "      <td>1</td>\n",
       "      <td>10</td>\n",
       "      <td>10</td>\n",
       "      <td>9</td>\n",
       "      <td>8</td>\n",
       "      <td>1</td>\n",
       "      <td>0.61</td>\n",
       "      <td>7</td>\n",
       "      <td>0</td>\n",
       "      <td>1</td>\n",
       "    </tr>\n",
       "    <tr>\n",
       "      <th>4</th>\n",
       "      <td>female</td>\n",
       "      <td>21</td>\n",
       "      <td>24</td>\n",
       "      <td>'Asian/Pacific Islander/Asian-American'</td>\n",
       "      <td>'Latino/Hispanic American'</td>\n",
       "      <td>2</td>\n",
       "      <td>4</td>\n",
       "      <td>Law</td>\n",
       "      <td>30</td>\n",
       "      <td>10</td>\n",
       "      <td>...</td>\n",
       "      <td>1</td>\n",
       "      <td>10</td>\n",
       "      <td>10</td>\n",
       "      <td>9</td>\n",
       "      <td>8</td>\n",
       "      <td>1</td>\n",
       "      <td>0.21</td>\n",
       "      <td>6</td>\n",
       "      <td>0</td>\n",
       "      <td>1</td>\n",
       "    </tr>\n",
       "    <tr>\n",
       "      <th>5</th>\n",
       "      <td>female</td>\n",
       "      <td>21</td>\n",
       "      <td>25</td>\n",
       "      <td>'Asian/Pacific Islander/Asian-American'</td>\n",
       "      <td>European/Caucasian-American</td>\n",
       "      <td>2</td>\n",
       "      <td>4</td>\n",
       "      <td>Law</td>\n",
       "      <td>50</td>\n",
       "      <td>0</td>\n",
       "      <td>...</td>\n",
       "      <td>1</td>\n",
       "      <td>10</td>\n",
       "      <td>10</td>\n",
       "      <td>9</td>\n",
       "      <td>8</td>\n",
       "      <td>1</td>\n",
       "      <td>0.25</td>\n",
       "      <td>6</td>\n",
       "      <td>0</td>\n",
       "      <td>0</td>\n",
       "    </tr>\n",
       "  </tbody>\n",
       "</table>\n",
       "<p>5 rows × 58 columns</p>\n",
       "</div>"
      ],
      "text/plain": [
       "   gender age age_o                                     race  \\\n",
       "0  female  21    27  'Asian/Pacific Islander/Asian-American'   \n",
       "1  female  21    22  'Asian/Pacific Islander/Asian-American'   \n",
       "3  female  21    23  'Asian/Pacific Islander/Asian-American'   \n",
       "4  female  21    24  'Asian/Pacific Islander/Asian-American'   \n",
       "5  female  21    25  'Asian/Pacific Islander/Asian-American'   \n",
       "\n",
       "                        race_o importance_same_race importance_same_religion  \\\n",
       "0  European/Caucasian-American                    2                        4   \n",
       "1  European/Caucasian-American                    2                        4   \n",
       "3  European/Caucasian-American                    2                        4   \n",
       "4   'Latino/Hispanic American'                    2                        4   \n",
       "5  European/Caucasian-American                    2                        4   \n",
       "\n",
       "  field pref_o_attractive pref_o_sincere  ...  theater movies concerts music  \\\n",
       "0   Law                35             20  ...        1     10       10     9   \n",
       "1   Law                60              0  ...        1     10       10     9   \n",
       "3   Law                30              5  ...        1     10       10     9   \n",
       "4   Law                30             10  ...        1     10       10     9   \n",
       "5   Law                50              0  ...        1     10       10     9   \n",
       "\n",
       "  shopping yoga interests_correlate like met match  \n",
       "0        8    1                0.14    7   0     0  \n",
       "1        8    1                0.54    7   1     0  \n",
       "3        8    1                0.61    7   0     1  \n",
       "4        8    1                0.21    6   0     1  \n",
       "5        8    1                0.25    6   0     0  \n",
       "\n",
       "[5 rows x 58 columns]"
      ]
     },
<<<<<<< HEAD
     "execution_count": 146,
=======
     "execution_count": 133,
>>>>>>> 0434f3007b8046249b0d06316e02cb9aa48c2f77
     "metadata": {},
     "output_type": "execute_result"
    }
   ],
   "source": [
<<<<<<< HEAD
    "data_suja_limpo=data_suja_completa[data_suja_completa!= \"?\" ]\n",
    "data_suja_limpo.dropna(inplace=True)\n",
    "data_suja_limpo.columns\n",
=======
    "data_suja_limpo.columns"
   ]
  },
  {
   "cell_type": "code",
   "execution_count": 39,
   "metadata": {},
   "outputs": [],
   "source": [
>>>>>>> 0434f3007b8046249b0d06316e02cb9aa48c2f77
    "data=data_suja_limpo.drop(['d_pref_o_funny' ,'d_pref_o_ambitious',\n",
    "                     'd_pref_o_shared_interests','d_pref_o_sincere', 'd_pref_o_intelligence',\n",
    "                     \"wave\",'d_pref_o_attractive',\"has_null\",\"d_age\",'d_importance_same_race',\n",
    "                     'd_importance_same_religion',\"samerace\", \"d_d_age\", \"expected_happy_with_sd_people\", \n",
    "                     \"expected_num_interested_in_me\", \"expected_num_matches\", \"guess_prob_liked\", \"decision\", \n",
    "                     \"decision_o\", 'd_attractive_o',\n",
    " 'd_sinsere_o' ,'d_intelligence_o' ,'d_funny_o', 'd_ambitous_o',\n",
    " 'd_shared_interests_o', 'd_attractive_important' ,'d_sincere_important' ,'d_intellicence_important',\n",
    " 'd_funny_important', 'd_ambtition_important',\n",
    " 'd_shared_interests_important', 'd_attractive', 'd_sincere',\n",
    " 'd_intelligence', 'd_funny' ,'d_ambition', 'd_attractive_partner' ,'d_sincere_partner',\n",
    " 'd_intelligence_partner', 'd_funny_partner', 'd_ambition_partner',\n",
    " 'd_shared_interests_partner', 'd_sports', 'd_tvsports',\n",
    " 'd_exercise' ,'d_dining' ,'d_museums', 'd_art' ,'d_hiking', 'd_gaming',\n",
    " 'd_clubbing' ,'d_reading', 'd_tv' ,'d_theater' ,'d_movies' ,'d_concerts',\n",
    " 'd_music', 'd_shopping', 'd_yoga', 'd_interests_correlate' ,'d_expected_happy_with_sd_people',\n",
    " 'd_expected_num_interested_in_me', 'd_expected_num_matches',\n",
    " 'd_like', 'd_guess_prob_liked'], axis=1)\n",
    "data.head()\n"
   ]
  },
  {
   "cell_type": "code",
<<<<<<< HEAD
   "execution_count": 147,
   "metadata": {},
   "outputs": [
    {
     "name": "stderr",
     "output_type": "stream",
     "text": [
      "C:\\Users\\julia\\Anaconda3\\lib\\site-packages\\ipykernel_launcher.py:16: UserWarning: Pandas doesn't allow columns to be created via a new attribute name - see https://pandas.pydata.org/pandas-docs/stable/indexing.html#attribute-access\n",
      "  app.launch_new_instance()\n"
     ]
    }
   ],
   "source": [
    "#mudando de string para int\n",
    "data.age = data.age.astype(int)\n",
    "data.age_o = data.age_o.astype(int)\n",
    "data.match  = data.match.astype(int)\n",
    "data.exercise = data.exercise.astype(int)\n",
    "data.interests_correlate = data.interests_correlate.astype(float)\n",
    "data.pref_o_attractive = data.pref_o_attractive.astype(float)\n",
    "data.pref_o_sincere = data.pref_o_sincere.astype(float)\n",
    "data.pref_o_intelligence = data.pref_o_intelligence.astype(float)\n",
    "data.pref_o_funny = data.pref_o_funny.astype(float)\n",
    "data.pref_o_ambitious = data.pref_o_ambitious.astype(float)\n",
    "data.attractive = data.pref_o_attractive.astype(float)\n",
    "data.sincere = data.pref_o_sincere.astype(float)\n",
    "data.intelligence = data.pref_o_intelligence.astype(float)\n",
    "data.funny = data.pref_o_funny.astype(float)\n",
    "data.ambitious = data.pref_o_ambitious.astype(float)"
   ]
  },
  {
   "cell_type": "code",
   "execution_count": 148,
=======
   "execution_count": 40,
>>>>>>> 0434f3007b8046249b0d06316e02cb9aa48c2f77
   "metadata": {
    "scrolled": false
   },
   "outputs": [
    {
     "name": "stdout",
     "output_type": "stream",
     "text": [
      "<class 'pandas.core.frame.DataFrame'>\n",
      "Int64Index: 1048 entries, 0 to 1843\n",
      "Data columns (total 58 columns):\n",
      "gender                        1048 non-null object\n",
      "age                           1048 non-null int32\n",
      "age_o                         1048 non-null int32\n",
      "race                          1048 non-null object\n",
      "race_o                        1048 non-null object\n",
      "importance_same_race          1048 non-null object\n",
      "importance_same_religion      1048 non-null object\n",
      "field                         1048 non-null object\n",
      "pref_o_attractive             1048 non-null float64\n",
      "pref_o_sincere                1048 non-null float64\n",
      "pref_o_intelligence           1048 non-null float64\n",
      "pref_o_funny                  1048 non-null float64\n",
      "pref_o_ambitious              1048 non-null float64\n",
      "pref_o_shared_interests       1048 non-null object\n",
      "attractive_o                  1048 non-null object\n",
      "sinsere_o                     1048 non-null object\n",
      "intelligence_o                1048 non-null object\n",
      "funny_o                       1048 non-null object\n",
      "ambitous_o                    1048 non-null object\n",
      "shared_interests_o            1048 non-null object\n",
      "attractive_important          1048 non-null object\n",
      "sincere_important             1048 non-null object\n",
      "intellicence_important        1048 non-null object\n",
      "funny_important               1048 non-null object\n",
      "ambtition_important           1048 non-null object\n",
      "shared_interests_important    1048 non-null object\n",
      "attractive                    1048 non-null float64\n",
      "sincere                       1048 non-null float64\n",
      "intelligence                  1048 non-null float64\n",
      "funny                         1048 non-null float64\n",
      "ambition                      1048 non-null object\n",
      "attractive_partner            1048 non-null object\n",
      "sincere_partner               1048 non-null object\n",
      "intelligence_partner          1048 non-null object\n",
      "funny_partner                 1048 non-null object\n",
      "ambition_partner              1048 non-null object\n",
      "shared_interests_partner      1048 non-null object\n",
      "sports                        1048 non-null object\n",
      "tvsports                      1048 non-null object\n",
      "exercise                      1048 non-null int32\n",
      "dining                        1048 non-null object\n",
      "museums                       1048 non-null object\n",
      "art                           1048 non-null object\n",
      "hiking                        1048 non-null object\n",
      "gaming                        1048 non-null object\n",
      "clubbing                      1048 non-null object\n",
      "reading                       1048 non-null object\n",
      "tv                            1048 non-null object\n",
      "theater                       1048 non-null object\n",
      "movies                        1048 non-null object\n",
      "concerts                      1048 non-null object\n",
      "music                         1048 non-null object\n",
      "shopping                      1048 non-null object\n",
      "yoga                          1048 non-null object\n",
      "interests_correlate           1048 non-null float64\n",
      "like                          1048 non-null object\n",
      "met                           1048 non-null object\n",
      "match                         1048 non-null int32\n",
      "dtypes: float64(10), int32(4), object(44)\n",
      "memory usage: 466.7+ KB\n"
     ]
    }
   ],
   "source": [
    "data.info()"
   ]
  },
  {
   "cell_type": "code",
<<<<<<< HEAD
   "execution_count": 152,
   "metadata": {
    "scrolled": true
   },
   "outputs": [
    {
     "data": {
      "image/png": "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\n",
      "text/plain": [
       "<Figure size 432x288 with 2 Axes>"
      ]
     },
     "metadata": {},
=======
   "execution_count": 53,
   "metadata": {},
   "outputs": [
    {
     "data": {
      "text/plain": [
       "0.5784484648405478"
      ]
     },
     "execution_count": 53,
     "metadata": {},
     "output_type": "execute_result"
    },
    {
     "data": {
      "image/png": "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\n",
      "text/plain": [
       "<Figure size 432x288 with 1 Axes>"
      ]
     },
     "metadata": {
      "needs_background": "light"
     },
>>>>>>> 0434f3007b8046249b0d06316e02cb9aa48c2f77
     "output_type": "display_data"
    }
   ],
   "source": [
<<<<<<< HEAD
    "\n",
    "#sns.regplot(data.interests_correlate.value_counts(),data.match.value_counts(), color=('red'))\n",
    "relacao = data[[\"match\",ambition ,ambition_partner,attractive ,attractive_partner, ]]\n",
    "\n",
    "cols = data.corr().nlargest(k, 'match')['match'].index\n",
    "cm = np.corrcoef(data[cols].values.T)\n",
    "sns.set(font_scale=1.25)\n",
    "hm = sns.heatmap(cm, cbar=True, annot=True, square=True, fmt='.2f', annot_kws={'size': 8}, yticklabels=cols.values, xticklabels=cols.values)\n",
    "plt.show()\n",
    "\n"
=======
    "mesma_raça=data.importance_same_race.astype(int)\n",
    "mesma_rel=data.importance_same_religion.astype(int)\n",
    "sns.regplot(mesma_raça, mesma_rel, color=('red'))\n",
    "a.corr(b)"
>>>>>>> 0434f3007b8046249b0d06316e02cb9aa48c2f77
   ]
  },
  {
   "cell_type": "code",
<<<<<<< HEAD
   "execution_count": 150,
=======
   "execution_count": 79,
>>>>>>> 0434f3007b8046249b0d06316e02cb9aa48c2f77
   "metadata": {},
   "outputs": [
    {
     "data": {
      "text/plain": [
<<<<<<< HEAD
       "<matplotlib.axes._subplots.AxesSubplot at 0x1bf5a702fd0>"
      ]
     },
     "execution_count": 150,
=======
       "0.137921972550661"
      ]
     },
     "execution_count": 79,
>>>>>>> 0434f3007b8046249b0d06316e02cb9aa48c2f77
     "metadata": {},
     "output_type": "execute_result"
    },
    {
     "data": {
<<<<<<< HEAD
      "image/png": "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\n",
=======
      "image/png": "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\n",
>>>>>>> 0434f3007b8046249b0d06316e02cb9aa48c2f77
      "text/plain": [
       "<Figure size 432x288 with 1 Axes>"
      ]
     },
<<<<<<< HEAD
     "metadata": {},
=======
     "metadata": {
      "needs_background": "light"
     },
>>>>>>> 0434f3007b8046249b0d06316e02cb9aa48c2f77
     "output_type": "display_data"
    }
   ],
   "source": [
<<<<<<< HEAD
    "grafico=data.match.value_counts()\n",
    "grafico.plot(kind='pie', colors=('pink', 'gold'), autopct=\"%0.2f\",legend=False)"
=======
    "sns.regplot(data.funny.astype(int), data.attractive_partner.astype(int), color=('red'))\n",
    "data.funny.astype(int).corr(data.attractive_partner.astype(int))"
>>>>>>> 0434f3007b8046249b0d06316e02cb9aa48c2f77
   ]
  },
  {
   "cell_type": "code",
<<<<<<< HEAD
   "execution_count": 151,
   "metadata": {},
   "outputs": [
    {
     "ename": "KeyError",
     "evalue": "'the label [0] is not in the [index]'",
     "output_type": "error",
     "traceback": [
      "\u001b[1;31m---------------------------------------------------------------------------\u001b[0m",
      "\u001b[1;31mKeyError\u001b[0m                                  Traceback (most recent call last)",
      "\u001b[1;32m~\\Anaconda3\\lib\\site-packages\\pandas\\core\\indexing.py\u001b[0m in \u001b[0;36m_validate_key\u001b[1;34m(self, key, axis)\u001b[0m\n\u001b[0;32m   1789\u001b[0m                 \u001b[1;32mif\u001b[0m \u001b[1;32mnot\u001b[0m \u001b[0max\u001b[0m\u001b[1;33m.\u001b[0m\u001b[0mcontains\u001b[0m\u001b[1;33m(\u001b[0m\u001b[0mkey\u001b[0m\u001b[1;33m)\u001b[0m\u001b[1;33m:\u001b[0m\u001b[1;33m\u001b[0m\u001b[1;33m\u001b[0m\u001b[0m\n\u001b[1;32m-> 1790\u001b[1;33m                     \u001b[0merror\u001b[0m\u001b[1;33m(\u001b[0m\u001b[1;33m)\u001b[0m\u001b[1;33m\u001b[0m\u001b[1;33m\u001b[0m\u001b[0m\n\u001b[0m\u001b[0;32m   1791\u001b[0m             \u001b[1;32mexcept\u001b[0m \u001b[0mTypeError\u001b[0m \u001b[1;32mas\u001b[0m \u001b[0me\u001b[0m\u001b[1;33m:\u001b[0m\u001b[1;33m\u001b[0m\u001b[1;33m\u001b[0m\u001b[0m\n",
      "\u001b[1;32m~\\Anaconda3\\lib\\site-packages\\pandas\\core\\indexing.py\u001b[0m in \u001b[0;36merror\u001b[1;34m()\u001b[0m\n\u001b[0;32m   1784\u001b[0m                                .format(key=key,\n\u001b[1;32m-> 1785\u001b[1;33m                                        axis=self.obj._get_axis_name(axis)))\n\u001b[0m\u001b[0;32m   1786\u001b[0m \u001b[1;33m\u001b[0m\u001b[0m\n",
      "\u001b[1;31mKeyError\u001b[0m: 'the label [0] is not in the [index]'",
      "\nDuring handling of the above exception, another exception occurred:\n",
      "\u001b[1;31mKeyError\u001b[0m                                  Traceback (most recent call last)",
      "\u001b[1;32m<ipython-input-151-b4ffdafed32e>\u001b[0m in \u001b[0;36m<module>\u001b[1;34m\u001b[0m\n\u001b[0;32m     66\u001b[0m \u001b[1;33m\u001b[0m\u001b[0m\n\u001b[0;32m     67\u001b[0m \u001b[1;31m# Ind1\u001b[0m\u001b[1;33m\u001b[0m\u001b[1;33m\u001b[0m\u001b[1;33m\u001b[0m\u001b[0m\n\u001b[1;32m---> 68\u001b[1;33m \u001b[0mvalues\u001b[0m\u001b[1;33m=\u001b[0m\u001b[0mdf\u001b[0m\u001b[1;33m.\u001b[0m\u001b[0mloc\u001b[0m\u001b[1;33m[\u001b[0m\u001b[1;36m0\u001b[0m\u001b[1;33m]\u001b[0m\u001b[1;33m.\u001b[0m\u001b[0mdrop\u001b[0m\u001b[1;33m(\u001b[0m\u001b[1;34m'group'\u001b[0m\u001b[1;33m)\u001b[0m\u001b[1;33m.\u001b[0m\u001b[0mvalues\u001b[0m\u001b[1;33m.\u001b[0m\u001b[0mflatten\u001b[0m\u001b[1;33m(\u001b[0m\u001b[1;33m)\u001b[0m\u001b[1;33m.\u001b[0m\u001b[0mtolist\u001b[0m\u001b[1;33m(\u001b[0m\u001b[1;33m)\u001b[0m\u001b[1;33m\u001b[0m\u001b[1;33m\u001b[0m\u001b[0m\n\u001b[0m\u001b[0;32m     69\u001b[0m \u001b[0mvalues\u001b[0m \u001b[1;33m+=\u001b[0m \u001b[0mvalues\u001b[0m\u001b[1;33m[\u001b[0m\u001b[1;33m:\u001b[0m\u001b[1;36m1\u001b[0m\u001b[1;33m]\u001b[0m\u001b[1;33m\u001b[0m\u001b[1;33m\u001b[0m\u001b[0m\n\u001b[0;32m     70\u001b[0m \u001b[0max\u001b[0m\u001b[1;33m.\u001b[0m\u001b[0mplot\u001b[0m\u001b[1;33m(\u001b[0m\u001b[0mangles\u001b[0m\u001b[1;33m,\u001b[0m \u001b[0mvalues\u001b[0m\u001b[1;33m,\u001b[0m \u001b[0mlinewidth\u001b[0m\u001b[1;33m=\u001b[0m\u001b[1;36m1\u001b[0m\u001b[1;33m,\u001b[0m \u001b[0mlinestyle\u001b[0m\u001b[1;33m=\u001b[0m\u001b[1;34m'solid'\u001b[0m\u001b[1;33m,\u001b[0m \u001b[0mlabel\u001b[0m\u001b[1;33m=\u001b[0m\u001b[1;34m\"group A\"\u001b[0m\u001b[1;33m)\u001b[0m\u001b[1;33m\u001b[0m\u001b[1;33m\u001b[0m\u001b[0m\n",
      "\u001b[1;32m~\\Anaconda3\\lib\\site-packages\\pandas\\core\\indexing.py\u001b[0m in \u001b[0;36m__getitem__\u001b[1;34m(self, key)\u001b[0m\n\u001b[0;32m   1476\u001b[0m \u001b[1;33m\u001b[0m\u001b[0m\n\u001b[0;32m   1477\u001b[0m             \u001b[0mmaybe_callable\u001b[0m \u001b[1;33m=\u001b[0m \u001b[0mcom\u001b[0m\u001b[1;33m.\u001b[0m\u001b[0m_apply_if_callable\u001b[0m\u001b[1;33m(\u001b[0m\u001b[0mkey\u001b[0m\u001b[1;33m,\u001b[0m \u001b[0mself\u001b[0m\u001b[1;33m.\u001b[0m\u001b[0mobj\u001b[0m\u001b[1;33m)\u001b[0m\u001b[1;33m\u001b[0m\u001b[1;33m\u001b[0m\u001b[0m\n\u001b[1;32m-> 1478\u001b[1;33m             \u001b[1;32mreturn\u001b[0m \u001b[0mself\u001b[0m\u001b[1;33m.\u001b[0m\u001b[0m_getitem_axis\u001b[0m\u001b[1;33m(\u001b[0m\u001b[0mmaybe_callable\u001b[0m\u001b[1;33m,\u001b[0m \u001b[0maxis\u001b[0m\u001b[1;33m=\u001b[0m\u001b[0maxis\u001b[0m\u001b[1;33m)\u001b[0m\u001b[1;33m\u001b[0m\u001b[1;33m\u001b[0m\u001b[0m\n\u001b[0m\u001b[0;32m   1479\u001b[0m \u001b[1;33m\u001b[0m\u001b[0m\n\u001b[0;32m   1480\u001b[0m     \u001b[1;32mdef\u001b[0m \u001b[0m_is_scalar_access\u001b[0m\u001b[1;33m(\u001b[0m\u001b[0mself\u001b[0m\u001b[1;33m,\u001b[0m \u001b[0mkey\u001b[0m\u001b[1;33m)\u001b[0m\u001b[1;33m:\u001b[0m\u001b[1;33m\u001b[0m\u001b[1;33m\u001b[0m\u001b[0m\n",
      "\u001b[1;32m~\\Anaconda3\\lib\\site-packages\\pandas\\core\\indexing.py\u001b[0m in \u001b[0;36m_getitem_axis\u001b[1;34m(self, key, axis)\u001b[0m\n\u001b[0;32m   1909\u001b[0m \u001b[1;33m\u001b[0m\u001b[0m\n\u001b[0;32m   1910\u001b[0m         \u001b[1;31m# fall thru to straight lookup\u001b[0m\u001b[1;33m\u001b[0m\u001b[1;33m\u001b[0m\u001b[1;33m\u001b[0m\u001b[0m\n\u001b[1;32m-> 1911\u001b[1;33m         \u001b[0mself\u001b[0m\u001b[1;33m.\u001b[0m\u001b[0m_validate_key\u001b[0m\u001b[1;33m(\u001b[0m\u001b[0mkey\u001b[0m\u001b[1;33m,\u001b[0m \u001b[0maxis\u001b[0m\u001b[1;33m)\u001b[0m\u001b[1;33m\u001b[0m\u001b[1;33m\u001b[0m\u001b[0m\n\u001b[0m\u001b[0;32m   1912\u001b[0m         \u001b[1;32mreturn\u001b[0m \u001b[0mself\u001b[0m\u001b[1;33m.\u001b[0m\u001b[0m_get_label\u001b[0m\u001b[1;33m(\u001b[0m\u001b[0mkey\u001b[0m\u001b[1;33m,\u001b[0m \u001b[0maxis\u001b[0m\u001b[1;33m=\u001b[0m\u001b[0maxis\u001b[0m\u001b[1;33m)\u001b[0m\u001b[1;33m\u001b[0m\u001b[1;33m\u001b[0m\u001b[0m\n\u001b[0;32m   1913\u001b[0m \u001b[1;33m\u001b[0m\u001b[0m\n",
      "\u001b[1;32m~\\Anaconda3\\lib\\site-packages\\pandas\\core\\indexing.py\u001b[0m in \u001b[0;36m_validate_key\u001b[1;34m(self, key, axis)\u001b[0m\n\u001b[0;32m   1796\u001b[0m                 \u001b[1;32mraise\u001b[0m\u001b[1;33m\u001b[0m\u001b[1;33m\u001b[0m\u001b[0m\n\u001b[0;32m   1797\u001b[0m             \u001b[1;32mexcept\u001b[0m\u001b[1;33m:\u001b[0m\u001b[1;33m\u001b[0m\u001b[1;33m\u001b[0m\u001b[0m\n\u001b[1;32m-> 1798\u001b[1;33m                 \u001b[0merror\u001b[0m\u001b[1;33m(\u001b[0m\u001b[1;33m)\u001b[0m\u001b[1;33m\u001b[0m\u001b[1;33m\u001b[0m\u001b[0m\n\u001b[0m\u001b[0;32m   1799\u001b[0m \u001b[1;33m\u001b[0m\u001b[0m\n\u001b[0;32m   1800\u001b[0m     \u001b[1;32mdef\u001b[0m \u001b[0m_is_scalar_access\u001b[0m\u001b[1;33m(\u001b[0m\u001b[0mself\u001b[0m\u001b[1;33m,\u001b[0m \u001b[0mkey\u001b[0m\u001b[1;33m)\u001b[0m\u001b[1;33m:\u001b[0m\u001b[1;33m\u001b[0m\u001b[1;33m\u001b[0m\u001b[0m\n",
      "\u001b[1;32m~\\Anaconda3\\lib\\site-packages\\pandas\\core\\indexing.py\u001b[0m in \u001b[0;36merror\u001b[1;34m()\u001b[0m\n\u001b[0;32m   1783\u001b[0m                 raise KeyError(u\"the label [{key}] is not in the [{axis}]\"\n\u001b[0;32m   1784\u001b[0m                                .format(key=key,\n\u001b[1;32m-> 1785\u001b[1;33m                                        axis=self.obj._get_axis_name(axis)))\n\u001b[0m\u001b[0;32m   1786\u001b[0m \u001b[1;33m\u001b[0m\u001b[0m\n\u001b[0;32m   1787\u001b[0m             \u001b[1;32mtry\u001b[0m\u001b[1;33m:\u001b[0m\u001b[1;33m\u001b[0m\u001b[1;33m\u001b[0m\u001b[0m\n",
      "\u001b[1;31mKeyError\u001b[0m: 'the label [0] is not in the [index]'"
     ]
    },
    {
     "data": {
      "image/png": "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\n",
=======
   "execution_count": 81,
   "metadata": {},
   "outputs": [
    {
     "data": {
      "text/plain": [
       "<matplotlib.axes._subplots.AxesSubplot at 0x1a265e16d8>"
      ]
     },
     "execution_count": 81,
     "metadata": {},
     "output_type": "execute_result"
    },
    {
     "data": {
      "image/png": "iVBORw0KGgoAAAANSUhEUgAAAPUAAADnCAYAAADGrxD1AAAABHNCSVQICAgIfAhkiAAAAAlwSFlzAAALEgAACxIB0t1+/AAAADh0RVh0U29mdHdhcmUAbWF0cGxvdGxpYiB2ZXJzaW9uMy4xLjAsIGh0dHA6Ly9tYXRwbG90bGliLm9yZy+17YcXAAAYfUlEQVR4nO3deXxcZb3H8c8vk33pAC0FygWGHWsBkRYoKrKJQAQqUNllR7jKXmEQxeMFIYAieAUUFOGK7DsdKl4pXKGAyE5ZizZsbaFlOWkyWWee+8czoWmaNNN05jxzzvzer9e8kklmcr7T5ptz5izPI8YYlFLRUeE6gFKqsLTUSkWMllqpiNFSKxUxWmqlIkZLrVTEaKmVihgttVIRo6VWKmK01EpFjJZaqYjRUisVMVpqpSJGS61UxGipHRKR00TkdRH5c5F+viciM4rxs1XpqnQdoMz9J7CPMWa+6yAqOrTUjojIb4FNgAdE5DZgU2Br7P+JZ4y5X0SOAaYBMWAS8EugGjgK6Ab2NcZ8IiInAiflvvc2cJQxJj1oeZsCVwNrA2ngRGPMG0V/oSpwuvntiDHmZGABsBvQAMw2xkzJ3b9cRBpyD50EHA7sAPwcSBtjtgOeAr6be8w9xpgpxphtgdeB44dY5HXAqcaY7YEZwDXFeWXKNV1Tl4a9gP0HvP+tBTbMff6oMWYpsFREfODB3NdfAbbJfT5JRC4C1gAagYcH/nARaQR2Bu4Ukf4v1xTjhSj3tNSlQYCDjDFvLvdFkR2xm9n9sgPuZ1n2/3cjMM0Y81Juk33XQT+/AvjMGPOlwsZWpUg3v0vDw8CpkluNish2q/j8JmChiFQBRwz+pjGmDZgvItNzP19EZNvVzKxKlJa6NFwIVAEvi8jc3P1V8RPgH8D/AsPt/DoCOF5EXgJeBQ4YZVZV4kSHCFYqWnRNrVTEaKmVihgttVIRo6VWKmL0OHVEJZKpsUAC2GjAbUPsCSr1QF3uYxX2j7vkbhngU2BJ7rZ4wOf9t/nA/NaWZt3LWoJ073fIJZKpccBOwFTgSywrcsNKnlYI7cBc4OWBt9aWZr/Iy1Uj0FKHSCKZ6r+wY+qA2+ZOQ63oXeAF7DHzWa0tzf92nKfsaKlLXCKZWhN7pdZBwC7Ys8fCZB4wK3d7rLWluctxnsjTUpeg3PvhacB0YHfs+94o6AQewxb8rtaW5oVu40STlrpE5Ip8ILbIuxH9nZgZ7DnvNwL3t7Y097iNEx1aascSydQOwKnAd7CDHJSjT4CbgGtbW5rnuQ4TdlpqBxLJVCW2xKdjBz9QlgH+hh2h5cHWluas4zyhpKUOUCKZqseOSnI29rCTGt5c4KetLc33uA4SNlrqACSSqVrgTOAsYJzjOGHzHHBBa0vzQ66DhIWWusgSydShwKUsG55Ijc6TwI9bW5ofdR2k1GmpiySRTE0BrsSODaYKZzZwfmtL89Oug5QqLXWBJZKpCUALcCT2XGpVeAb4HXBOa0vzUtdhSo2WukASyVQ1cG7uVuzzrpX1HnCyvt9enpa6ABLJ1BeAW7AXVKjg3QKc3trSvMR1kFKg11OvpkQy9X3sHlottDuHA6/ldkqWPV1Tj1IimRoP3AA0u86ilvMAcFxrS/PHroO4oqUehUQytQ/wR2Ad11nUkFqBaa0tzS+5DuKClnoV5HaG/QJ7rrYqbWnghNaW5ltdBwmaljpPiWRqDeBeVpzSRpW2XwLntrY0Z1wHCYqWOg+JZGoj4CFgoussalT+BhxaLu+ztdQjSCRT2wMzgXVdZ1GrpZUyeZ+th7RWIpFMNQP/hxY6ChLAE4lkalfHOYpOSz2MRDJ1CnA/enZYlDQCDyWSqX1dBykmLfUQEsnUhcA1QMx1FlVwdcB9iWRquusgxaKlHiSRTHnAj13nUEVVBdyaSKYOcR2kGHRH2QCJZOo84GLXOVRg+oDDWlua73IdpJC01DmJZOpM4ArXOVTg+oBDojRskpYaSCRTR2FHs9Trn8tTD7Bna0vz466DFELZlzp3HvcDRH+cbbVyS4AdWlua57sOsrrKutS5Mbdno4etlPUqsHNrS3Ob6yCro2xLnUim1sZO5La+6yyF9P61x1FRXQcVFUhFjPWOvpJM51KW3H8pfW0fUjlmHcZNSxKrbVzhuX1tH/HxrP+mr20xIsL46R6V8XVY9OdzyPZ0ApBN+1SvtwXjD4zsAYJZwH5hPle8LDc5E8lUBXa0jEgVut86h11MrD7++f22p++kNrEt8Z2m4z99J21P38maux67wvOWzLyC+NRDqNt4O1tisbsY1j3iss8fs/jei6nbfMfivwh39sFeiXem6yCjVa7HqX8G7Ok6RFDSb/+Dhkl7ANAwaQ/S81YciLNnybuQzVK38XYAVFTXUVFVu9xjst1put55ifrNpxY/tFtnJJKpE12HGK2yK3UimdobON91jqIR4aM7LmDhjaez9MW/AJDp+IzKxrUAqGxci2zHZys8re+TD6iobeCje3/Ogj+exqeP3oDJLr8Fmp73FLUbbUtFTX3xX4d7VyeSqV1chxiNsip1IpnaELiZCB+6WveIy1jvmKsYP/1nLH1+Jl3vzc3reSaboeu9V1lzt+NZ7+hf0ffZItpfeWS5x3S89nfqJ369GLFLURXwp0QyNcZ1kFVVNqXOjVpyJzDWdZZiqmyyLy/WsAb1W0yle8FbxBrWoK/9EwD62j+homGNIZ43jup1NqFqjXWRihh1m+9Ez4f/+vz7mc42eha+Rf2mU4J5IaVhQ+yEDKFSNqUGLifiM0xme7rIdqc//7xr/gtUr70R9ZvtSMdcu9btmPsI9ZutuKOrer3NyXa1k0n7AHS98zLV4zb4/PvpN56gbrMpSGXZzbZ7bCKZ+pbrEKuiLA5pJZKpqcAcIrzZDdD72SIW33ORvZPN0jDx68R3PoRMZxtL7m+hr20xlWPWZtwB5xGra6J74TzaX5zF2H1OA6Bz/gt8+ugfwBiq192MsXv/AIlVAbDoliTxnaZTt8n2rl6eS4uAL7a2NH/iOkg+Il/q3FzQzwNbu86iQu321pbmUIwrXg6b32eihVar75BEMvUd1yHyEek1dW5v92voaaCqMD7GboZ/6DrIykR9Tf0btNCqcMYC/+U6xEgiu6ZOJFPTsON0K1VIGWBSa0vzG66DDCeSa+pEMtUI/Np1DhVJMeAS1yFWJpKlBs4ANhjxUUqNzrREMvUV1yGGE7lS59bSZ7jOoSLvspEf4kbkSg18n4ifCqpKws65/TYlJ1I7yhLJVD12epW1HUdR5eEN7E6zkhpQIWpr6pPRQqvgbAUc7TrEYJEpdSKZqgV+6DqHKjtnuQ4wWGRKDZyATmSngvfFRDL1DdchBopEqRPJVBVwruscqmyV1HhmkSg1cADwH65DqLK1dyKZ2tJ1iH5RKfUJrgOosibASa5D9Av9Ia3clVjzic4fKBVOHwPrt7Y0d7sOEoUiHEs0XocKt7HAQa5DQDTKcJTrAErlHOc6AIR88zuRTO0IrDgyvVJu9AHjW1uaP3UZIuxr6sNdB1BqgEpgX9chQlvqRDIVAw5xnUOpQQ5wHSC0pQYmA+u4DqHUIHvnJo5wJsyl3sN1AKWG0ATs7jKAllqpwtvf5cJDufc7d0XWp0DtSI9VyoEPgA1aW5qdlCusa+qvoIVWpWt94MuuFh7WUuumtyp1U10tWEutVHFMdrXg0JU6kUzFgbKcelGFirPf0dCVGtgJO6C6UqXsC7mBMAMXxlJPdB1AqTzEgO1cLDiMpd7KdQCl8uRkE3zEUotITERKaQymL7gOoFSenOwsG7HUxpgMJXCS+gBaahUWTtbUeZ1RJiI/B+LA7UBH/9eNMc8XL9qKEsnUWGBJkMtUajVkgJqgZ/CozPNxO+c+Dpxw2xD8ieu6llZhEgPGAwuDXGhepTbG7FbsIHnSnWQqbCYQcKnz2vstIuuIyB9EZFbu/kQROb640YakpVZhs17QC8z3kNaNwMPYvzoAb+FmDujxDpap1OqYMPJDCivfUo8zxtwBZAGMMX3YnQBBiztYplKro2TX1B0iMha7cwwR2Qnwi5ZqeFpqFTaBr6nz3ft9FvAAsKmIzMHOAX1w0VINT0utwqY0S22MeV5Evg5siZ036E1jTG9Rkw1tjINlKrU6At/8XmmpReTAYb61hYhgjLmnCJlWRtfUKmwCv1JrpDX1frmP47EnoMzO3d8NeAzQUiu1cvm+xQ1mgcaYYwFEZCYw0RizMHd/PeDq4sdbJndtauD/QEqtpsB/Z/Pd+53oL3TOh8AWRcizMg0BL0+pQiitNfUAj4nIw8Ct2MNahwKPFi3V0FzsmCs5VfT11tGVbqQr3SidXY109jRKZ/cY0r1jpKN3DOlsk6QzY0hnx0jaNNJJo3RW1NMl9XTHaqWnsobeqmp6q6rI1FSSqakgWyu6FVQUWaTNjmYdnHz3fv8gt9Psa7kvXWeMubd4sYbUE/DyRqWCbKaero5GujobpLO7kc6upuVLl+kvXZOkTROd0kAnDdJVUU9XRZ30VNXQG6umt7qKvupKMrUxsjUVmDqgQYQq7L4F3b8QAhWYtqCXmfdf59ye7qB3jA3UXYgfImSz9XSn6+nqapCuziY6u5ok3dNEumeMpPua6OwdIx22dKRpkk7TSKc0SKfU0x2roydWKz2VA0pXEyNbW0G2TqBehGrsoTc9/KbATm8bqHyvpz4QuBS7F1xyN2OMCfQX94wfnfd0XNqzcbu2yzaRzjZJJ02kpUG6pJ7uijq7iVlVQ29VFX1VVWRqYmRqKzB1gqkToS7IzKrsvYHnB3rJcL5r6suA/YwxrxczzEiurL5mS2ANlxmUWkWdQS8w373fH7oudI6L882VWh2Lgl5gvmvqZ0XkduA+Bry3dXBGmZZahU2gAyRA/qUeA6SBvQZ8zRD8jjMttQqbBUEvMN9DWscWO0ieAv+rp9RqCvx3Nt/hjLYQkUdEZG7u/jYi8uPiRhvS2w6WqdTqKM1SA9cD55E7q8sY8zL2rLKgaalV2JRsqeuNMc8M+lrgB9XRUqvwKdlSLxGRTVk2nNHBuHl/q6VWYWJw0JN8zyjbBLgOe031p8B84AhjzDvFjTcEL96OXrGlwmEenh/01Yx5H9KaBjyEvTKrAjv1zp4i8pwx5sVihRvGv4BtAl6mUqPxnIuF5rv5PRk4GVgTe5rmScCuwPUick5xog1LN8FVWAQ611y/fEs9FviyMWaGMeZsbMnXBnYBjilStuG8FvDylBqtkl5Tb8jy1zP3AhsZYzop0CWRq2BOwMtTarScrKnzfU99C/C0iNyfu78fcKuINBD8mnMOdnaQWMDLVWpVzMfzP3Ox4Lz2fgOIyPbAV7HXUj9hjHm2mMFWyos/i6MJvZXK0114/nQXC16VkU+ew9F7hCH8HS21Km1ONr0h//fUpeZx1wGUGsFjrhYc5lLn975BqeAtBv7hauHhLLXnLwFKYSQWpYbyEJ6fdbXwcJbaCnrccaXy9aDLhYe51He6DqDUEHqAv7oMEOZSPw584DqEUoM8hucvdRkgvKW271nucB1DqUGcbnpDmEtt3eY6gFKDzHQdINyl9vxnsJdiKlUKnsLzW12HCHeprdtdB1Aq57euA0A0Sn2r6wBKAZ9QIvt4wl9qz58LBD36ilKD3Yjnd7kOAVEotXWF6wCqrBlKZNMbolPq24D3XIdQZWs2nj/PdYh+0Si15/cCV7qOocrWta4DDBSNUlvXoxPoqeAtAO4f8VEBik6p7al5JfO+RpWNFjzfxWw1w4pOqa2rWH6ARKWK6R3gd65DDBatUnv+QuBm1zFU2fDw/JJbiUSr1NZFBD9ssSo/rwN/ch1iKNErtefPR49bq+L7CZ6fcR1iKNErtXUxdq+kUsXwLJ5/t+sQw4lmqT2/HUi6jqEi63zXAVYmmqW2bgaedh1CRc4sPN/pcEUjiW6pPd8Ap6NDCavCaQO+5zrESKJbaugfROF/XMdQkXEOnl/y1xhEu9TWucAS1yFU6D0KXOc6RD7yniAv1Lz4fsADrmMELZM1TL6+g/WbKph5eD2z5/cx469d9GRg+wkx/rB/LZUVstxz3vksy4F3pMlkoTcLp+5QzcmTqwHY++YOFrYb+rLwtQ1jXL1vLbFBz4+oNLA1nv9v10HyUR6lBvDi1wCnuI4RpCue6ubZBRnauuGBw+rY6Mp2HvluPVuMjXHBo11sFK/g+C9XL/ecnozBGKipFNp7DJOuaefJ4xuY0FRBW7dhTI1gjOHgOzuZPrGKQydVOXp1gToTzw/NVYDlsPnd72zgVdchgvJ+W5bUvD5OyJX247ShJgZbjLXTen9jk0rufn3F6xCqY0JNpV37dvcZsgP+5o+psV/vy0JPxs5pXAaeBH7tOsSqKJ9Se34ncBhlcgrpGX/p4rI9a+nfOh5XL/Rm4dkF9iSou17r4722oad7es/Pss217Wzwq3bO/UoNE5qW/Zp88+YOxv9iKU3VcPDEvGdCDisfOMblvFijUT6lBvD8V7A7ziJt5lu9jG8Qtp8Q+/xrIsJtB9Vx5sNd7HB9O001UDnM//4G8QpePqWRt09r5KaXeviwfdnv9MNHNrDw7Ca6MzB7fkmeJVkoWeDwUhrRJF/lVWoAz78KeMh1jGKa826GB97sI3HlUg69q5PZ8/s48p5Opm5QyePHNvDMiY3sslElm6+18v/+CU0VfHF8jMffXb68tZXC/ltUcv+bvcV8Ga5dgOeH8vek/EptHQ287TpEsVyyZy3vn9VE6xlN3HZwHbtvXMnNB9bxUYdd43b3GS6d0/35Xu2B3m/L0tlr30h/2mmY826GLcdW0N5jWLjUPr8va3jo7T62Ghdb4fkRcTf2+oFQivyboiF5/hK8+L7YnSDjXMcJyuVzepg5r4+sgVMmV7H7xva//9kFGX77bA+/37+O1xdnOfuvXYiAMTBj52q2XifGh+1Z9r8tTXcfZAzsnohx8uRI7vmei30fHdrDQuVzSGsoXnwqMBuodR1FlYRPgSl4fqincirXzW/L858CjsDuFFHlLQMcFvZCQ7mXGsDz7wFmuI6hnDLA8Xj+w66DFIKWGsDzf4UdtFCVp1Px/JtchygULfUyZ1EiE5ypQJ2H51/tOkQhaan72bOGDkdn0SwnP8HzW1yHKDQt9UB2ILkjgRsdJ1HF9yM8/yLXIYpBSz2YXWMfR4nNj6QKKonnX+I6RLGU93HqkXhxD/ip6xiqYHqAk6K0U2woWuqRePFTgN+gWzVhtwT4Np7/hOsgxaalzocXnwbcBIxxHUWNymvAt3ITPUSern3y4fn3AVOw5wWrcPkLMLVcCg1a6vx5/lvAjpTo/ElqSFdh19BtroMESTe/R8OLfw/7C1PjOooaUjtwOp5/g+sgLmipR8uLbw/cBSQcJ1HLexx76WQoRv4sBt38Hi3Pfw7oL7Zyrxv4IbBrORcadE1dGHZc8d8AG7qOUqZeAI7C88tmtNiV0TV1IXj+g8BE7LzYkR6Nr8RkgIuAHbXQy+iautC8+HbY6Vkmu44ScY8AM/D8F10HKTVa6mLw4hXAD7BrkSbHaaLmVeCHeP4s10FKlZa6mLz42thRVb4PNDhOE3YLgQuAP+auplPD0FIHwYuPw+6Z1XKvug7gF8DleH6H6zBhoKUOki13/5q70XGaUrcY+B1wNZ6/yHWYMNFSu+DFx2In7PsesJbjNKXmRezZerfi+WUx71mhaald8uI1wAHA8cCelO8hxgxwH3AVnv+46zBhp6UuFV58A+AY4FhgY7dhAjMPuBO4Ds9/x3WYqNBSlxovLsBu2HLvS/Q2z1/BzlV1N56vl7IWgZa6lNnj3VOAb+ZuOwJhnJXun9gi3xPGqWHDRksdJl48DuyBLfhelOYVYmngOeDp3O0pPH+h20jlRUsdZvYQ2daDbpMI7lh4DzAfeIZlJX4Zz+8LaPlqCFrqqLHvyTfGFnwT7FS9Y4f4OBZYcYJqqxu7xu3EDtj3DvBu7uPAzxeFecrXqNJSlzMv3gAIdoI4g539syc39rkKKS21UhFTric7KBVZWmqlIkZLrVTEaKlVQYnIriIy03WOcqalVipitNRqBSKSEJE3ROT3IjJXRP4sInuKyBwRmSciO+RuT4rIC7mPWw7xcxpE5AYR+WfucQe4eD3lRkuthrMZ9rrmbYCtgMOBr2IHefgR8AawizFmO+wwQxcP8TPOB2YbY6ZgL1K5XER05Jciq3QdQJWs+caYVwBE5FXgEWOMEZFXsOecx4GbRGRz7IkrVUP8jL2A/UVkRu5+LXZs9NeLHb6caanVcAaOOpIdcD+L/b25EHjUGPNtEUkAjw3xMwQ4yBjzZvFiqsF081uNVhz4IPf5McM85mHgVBERABHZLoBcZU9LrUbrMuASEZnD8Nd4X4jdLH9ZRObm7qsi03O/lYoYXVMrFTFaaqUiRkutVMRoqZWKGC21UhGjpVYqYrTUSkWMllqpiNFSKxUxWmqlIkZLrVTEaKmVihgttVIRo6VWKmK01EpFzP8Dt/sWenvUklMAAAAASUVORK5CYII=\n",
>>>>>>> 0434f3007b8046249b0d06316e02cb9aa48c2f77
      "text/plain": [
       "<Figure size 432x288 with 1 Axes>"
      ]
     },
     "metadata": {},
     "output_type": "display_data"
    }
   ],
   "source": [
<<<<<<< HEAD
    "# labels=['data.pref_o_attractive', 'data.pref_o_ambitious', 'data.pref_o_funny', 'data.pref_o_intelligence', 'data.pref_o_sincere']\n",
    "# markers = [0, 1, 2, 3, 4, 5]\n",
    "# str_markers = [\"0\", \"1\", \"2\", \"3\", \"4\", \"5\"]\n",
    "\n",
    "# def make_radar_chart(name, stats, attribute_labels = labels, plot_markers = markers, plot_str_markers = str_markers):\n",
    "\n",
    "#     labels = np.array(attribute_labels)\n",
    "\n",
    "#     angles = np.linspace(0, 2*np.pi, len(labels), endpoint=False)\n",
    "#     stats = np.concatenate((stats,[stats[0]]))\n",
    "#     angles = np.concatenate((angles,[angles[0]]))\n",
    "\n",
    "#     fig= plt.figure()\n",
    "#     ax = fig.add_subplot(111, polar=True)\n",
    "#     ax.plot(angles, stats, 'o-', linewidth=2)\n",
    "#     ax.fill(angles, stats, alpha=0.25)\n",
    "#     ax.set_thetagrids(angles * 180/np.pi, labels)\n",
    "#     plt.yticks(markers)\n",
    "#     ax.set_title(name)\n",
    "#     ax.grid(True)\n",
    "\n",
    "#     fig.savefig(\"static/images/%s.png\" % name)\n",
    "\n",
    "# return plt.show()\n",
    "\n",
    "# make_radar_chart(\"Agni\", [2,3,4,4,5])\n",
    "\n",
    " \n",
    "# Set data\n",
    "df = pd.DataFrame({\n",
    "\n",
    "})\n",
    " \n",
    " \n",
    " \n",
    "# ------- PART 1: Create background\n",
    " \n",
    "# number of variable\n",
    "categories=list(df)[1:]\n",
    "N = len(categories)\n",
    " \n",
    "# What will be the angle of each axis in the plot? (we divide the plot / number of variable)\n",
    "angles = [n / float(N) * 2 * pi for n in range(N)]\n",
    "angles += angles[:1]\n",
    " \n",
    "# Initialise the spider plot\n",
    "ax = plt.subplot(111, polar=True)\n",
    " \n",
    "# If you want the first axis to be on top:\n",
    "ax.set_theta_offset(pi / 2)\n",
    "ax.set_theta_direction(-1)\n",
    " \n",
    "# Draw one axe per variable + add labels labels yet\n",
    "plt.xticks(angles[:-1], categories)\n",
    " \n",
    "# Draw ylabels\n",
    "ax.set_rlabel_position(0)\n",
    "plt.yticks([10,20,30], [\"10\",\"20\",\"30\"], color=\"grey\", size=7)\n",
    "plt.ylim(0,40)\n",
    " \n",
    " \n",
    "# ------- PART 2: Add plots\n",
    " \n",
    "# Plot each individual = each line of the data\n",
    "# I don't do a loop, because plotting more than 3 groups makes the chart unreadable\n",
    " \n",
    "# Ind1\n",
    "values=df.loc[0].drop('group').values.flatten().tolist()\n",
    "values += values[:1]\n",
    "ax.plot(angles, values, linewidth=1, linestyle='solid', label=\"group A\")\n",
    "ax.fill(angles, values, 'b', alpha=0.1)\n",
    " \n",
    "# Ind2\n",
    "values=df.loc[1].drop('group').values.flatten().tolist()\n",
    "values += values[:1]\n",
    "ax.plot(angles, values, linewidth=1, linestyle='solid', label=\"group B\")\n",
    "ax.fill(angles, values, 'r', alpha=0.1)\n",
    " \n",
    "# Add legend\n",
    "plt.legend(loc='upper right', bbox_to_anchor=(0.1, 0.1))\n"
   ]
  },
  {
   "cell_type": "markdown",
   "metadata": {},
   "source": [
    "##### Para achar nossa acuracia, usamos a técnica de random forest"
=======
    "genero=data.gender.value_counts()\n",
    "genero.plot(kind='pie', autopct=\"%.2f\",legend=False)"
   ]
  },
  {
   "cell_type": "code",
   "execution_count": 90,
   "metadata": {},
   "outputs": [
    {
     "data": {
      "text/plain": [
       "count    1048.000000\n",
       "mean       25.005725\n",
       "std         3.270365\n",
       "min        18.000000\n",
       "25%        22.000000\n",
       "50%        25.000000\n",
       "75%        27.000000\n",
       "max        35.000000\n",
       "Name: age, dtype: float64"
      ]
     },
     "execution_count": 90,
     "metadata": {},
     "output_type": "execute_result"
    },
    {
     "data": {
      "image/png": "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\n",
      "text/plain": [
       "<Figure size 432x288 with 1 Axes>"
      ]
     },
     "metadata": {
      "needs_background": "light"
     },
     "output_type": "display_data"
    }
   ],
   "source": [
    "idade=data.age.astype(int)\n",
    "plt.boxplot(idade)\n",
    "plt.title('Idade dos participantes')\n",
    "plt.ylabel('idade')\n",
    "plt.grid(which='both')\n",
    "plt.tight_layout()\n",
    "\n",
    "idade.describe()"
   ]
  },
  {
   "cell_type": "code",
   "execution_count": 91,
   "metadata": {},
   "outputs": [
    {
     "data": {
      "text/html": [
       "<div>\n",
       "<style scoped>\n",
       "    .dataframe tbody tr th:only-of-type {\n",
       "        vertical-align: middle;\n",
       "    }\n",
       "\n",
       "    .dataframe tbody tr th {\n",
       "        vertical-align: top;\n",
       "    }\n",
       "\n",
       "    .dataframe thead th {\n",
       "        text-align: right;\n",
       "    }\n",
       "</style>\n",
       "<table border=\"1\" class=\"dataframe\">\n",
       "  <thead>\n",
       "    <tr style=\"text-align: right;\">\n",
       "      <th>match</th>\n",
       "      <th>0</th>\n",
       "      <th>1</th>\n",
       "    </tr>\n",
       "    <tr>\n",
       "      <th>age</th>\n",
       "      <th></th>\n",
       "      <th></th>\n",
       "    </tr>\n",
       "  </thead>\n",
       "  <tbody>\n",
       "    <tr>\n",
       "      <th>18</th>\n",
       "      <td>8</td>\n",
       "      <td>0</td>\n",
       "    </tr>\n",
       "    <tr>\n",
       "      <th>19</th>\n",
       "      <td>5</td>\n",
       "      <td>1</td>\n",
       "    </tr>\n",
       "    <tr>\n",
       "      <th>20</th>\n",
       "      <td>8</td>\n",
       "      <td>8</td>\n",
       "    </tr>\n",
       "    <tr>\n",
       "      <th>21</th>\n",
       "      <td>85</td>\n",
       "      <td>31</td>\n",
       "    </tr>\n",
       "    <tr>\n",
       "      <th>22</th>\n",
       "      <td>103</td>\n",
       "      <td>27</td>\n",
       "    </tr>\n",
       "    <tr>\n",
       "      <th>23</th>\n",
       "      <td>130</td>\n",
       "      <td>15</td>\n",
       "    </tr>\n",
       "    <tr>\n",
       "      <th>24</th>\n",
       "      <td>77</td>\n",
       "      <td>16</td>\n",
       "    </tr>\n",
       "    <tr>\n",
       "      <th>25</th>\n",
       "      <td>69</td>\n",
       "      <td>21</td>\n",
       "    </tr>\n",
       "    <tr>\n",
       "      <th>26</th>\n",
       "      <td>81</td>\n",
       "      <td>17</td>\n",
       "    </tr>\n",
       "    <tr>\n",
       "      <th>27</th>\n",
       "      <td>88</td>\n",
       "      <td>15</td>\n",
       "    </tr>\n",
       "    <tr>\n",
       "      <th>28</th>\n",
       "      <td>88</td>\n",
       "      <td>20</td>\n",
       "    </tr>\n",
       "    <tr>\n",
       "      <th>29</th>\n",
       "      <td>19</td>\n",
       "      <td>5</td>\n",
       "    </tr>\n",
       "    <tr>\n",
       "      <th>30</th>\n",
       "      <td>60</td>\n",
       "      <td>5</td>\n",
       "    </tr>\n",
       "    <tr>\n",
       "      <th>32</th>\n",
       "      <td>28</td>\n",
       "      <td>3</td>\n",
       "    </tr>\n",
       "    <tr>\n",
       "      <th>34</th>\n",
       "      <td>1</td>\n",
       "      <td>0</td>\n",
       "    </tr>\n",
       "    <tr>\n",
       "      <th>35</th>\n",
       "      <td>12</td>\n",
       "      <td>2</td>\n",
       "    </tr>\n",
       "  </tbody>\n",
       "</table>\n",
       "</div>"
      ],
      "text/plain": [
       "match    0   1\n",
       "age           \n",
       "18       8   0\n",
       "19       5   1\n",
       "20       8   8\n",
       "21      85  31\n",
       "22     103  27\n",
       "23     130  15\n",
       "24      77  16\n",
       "25      69  21\n",
       "26      81  17\n",
       "27      88  15\n",
       "28      88  20\n",
       "29      19   5\n",
       "30      60   5\n",
       "32      28   3\n",
       "34       1   0\n",
       "35      12   2"
      ]
     },
     "execution_count": 91,
     "metadata": {},
     "output_type": "execute_result"
    }
   ],
   "source": [
    "pd.crosstab(data.age,data.match)"
   ]
  },
  {
   "cell_type": "code",
   "execution_count": 151,
   "metadata": {
    "scrolled": false
   },
   "outputs": [
    {
     "data": {
      "text/plain": [
       "<BarContainer object of 1048 artists>"
      ]
     },
     "execution_count": 151,
     "metadata": {},
     "output_type": "execute_result"
    },
    {
     "data": {
      "image/png": "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\n",
      "text/plain": [
       "<Figure size 1080x576 with 1 Axes>"
      ]
     },
     "metadata": {
      "needs_background": "light"
     },
     "output_type": "display_data"
    }
   ],
   "source": [
    "fig, ax = plt.subplots(figsize=(15, 8))\n",
    "ax.barh( data['race'], data['importance_same_religion'])"
>>>>>>> 0434f3007b8046249b0d06316e02cb9aa48c2f77
   ]
  },
  {
   "cell_type": "code",
   "execution_count": null,
<<<<<<< HEAD
=======
   "metadata": {},
   "outputs": [],
   "source": []
  },
  {
   "cell_type": "code",
   "execution_count": 8,
>>>>>>> 0434f3007b8046249b0d06316e02cb9aa48c2f77
   "metadata": {},
   "outputs": [],
   "source": [
    "X_num = data[['age', \"age_o\", 'importance_same_race',\n",
    " 'importance_same_religion',  'pref_o_attractive', 'pref_o_sincere',\n",
    " 'pref_o_intelligence', 'pref_o_funny', 'pref_o_ambitious',\n",
    " 'pref_o_shared_interests',  'attractive_o' ,'sinsere_o' ,'intelligence_o',\n",
    " 'funny_o' ,'ambitous_o', 'shared_interests_o' ,'attractive_important', 'sincere_important' ,'intellicence_important' ,'funny_important',\n",
    " 'ambtition_important' ,'shared_interests_important' ,'attractive', 'sincere',\n",
    " 'intelligence' ,'funny' ,'ambition' ,'attractive_partner', 'sincere_partner',\n",
    " 'intelligence_partner', 'funny_partner' ,'ambition_partner',\n",
    " 'shared_interests_partner', 'sports', 'tvsports' ,'exercise', 'dining',\n",
    " 'museums', 'art' ,'hiking' ,'gaming' ,'clubbing', 'reading', 'tv' ,'theater',\n",
    " 'movies' ,'concerts', 'music' ,'shopping' ,'yoga', \n",
    " 'like'  \n",
    "]]\n",
<<<<<<< HEAD
    "X_cat = data[['gender', 'race', \"race_o\", 'field', 'met'  ]]\n",
    "#o resultado que queremos obter no final do \"teste\"\n",
=======
    "X_cat = data[['gender', 'race', \"race_o\", 'field', 'met'  ]]"
   ]
  },
  {
   "cell_type": "code",
   "execution_count": 9,
   "metadata": {},
   "outputs": [],
   "source": [
>>>>>>> 0434f3007b8046249b0d06316e02cb9aa48c2f77
    "y = data['match']"
   ]
  },
  {
   "cell_type": "code",
<<<<<<< HEAD
   "execution_count": null,
=======
   "execution_count": 10,
>>>>>>> 0434f3007b8046249b0d06316e02cb9aa48c2f77
   "metadata": {},
   "outputs": [],
   "source": [
    "from sklearn.preprocessing import OneHotEncoder\n",
    "\n",
    "encoder = OneHotEncoder()\n",
    "\n",
    "X_cat_encoded = encoder.fit_transform(X_cat)"
   ]
  },
  {
   "cell_type": "code",
<<<<<<< HEAD
   "execution_count": null,
   "metadata": {},
   "outputs": [],
=======
   "execution_count": 11,
   "metadata": {},
   "outputs": [
    {
     "data": {
      "text/plain": [
       "[array(['female', 'male'], dtype=object),\n",
       " array([\"'Asian/Pacific Islander/Asian-American'\",\n",
       "        \"'Black/African American'\", \"'Latino/Hispanic American'\",\n",
       "        'European/Caucasian-American', 'Other'], dtype=object),\n",
       " array([\"'Asian/Pacific Islander/Asian-American'\",\n",
       "        \"'Black/African American'\", \"'Latino/Hispanic American'\",\n",
       "        'European/Caucasian-American', 'Other'], dtype=object),\n",
       " array([\"'Applied Maths/Econs'\", \"'Art History/medicine'\",\n",
       "        \"'Biomedical Engineering'\", \"'Business & International Affairs'\",\n",
       "        \"'Business [MBA]'\", \"'Business- MBA'\", \"'Computer Science'\",\n",
       "        \"'Economics and Political Science'\", \"'Economics; Sociology'\",\n",
       "        \"'Educational Psychology'\", \"'Electrical Engineering'\",\n",
       "        \"'Elementary/Childhood Education [MA]'\", \"'German Literature'\",\n",
       "        \"'International Educational Development'\",\n",
       "        \"'Masters in Public Administration'\", \"'Masters of Social Work'\",\n",
       "        \"'Mathematical Finance'\", \"'Mechanical Engineering'\",\n",
       "        \"'Operations Research [SEAS]'\", \"'Operations Research'\",\n",
       "        \"'Organizational Psychology'\", \"'Social Work'\",\n",
       "        \"'Speech Language Pathology'\", \"'TC [Health Ed]'\",\n",
       "        \"'Undergrad - GS'\", \"'financial math'\", \"'political science'\",\n",
       "        \"'psychology and english'\", \"'social work'\", 'Business',\n",
       "        'Chemistry', 'Classics', 'Communications', 'Economics',\n",
       "        'Engineering', 'English', 'Film', 'Finanace', 'Finance',\n",
       "        'Finance&Economics', 'Journalism', 'LAW', 'Law', 'MBA',\n",
       "        'Marketing', 'Mathematics', 'Medicine', 'Polish', 'Psychology',\n",
       "        'Sociology', 'Statistics', 'chemistry', 'law', 'microbiology',\n",
       "        'philosophy', 'psychology'], dtype=object),\n",
       " array(['0', '1', '3'], dtype=object)]"
      ]
     },
     "execution_count": 11,
     "metadata": {},
     "output_type": "execute_result"
    }
   ],
>>>>>>> 0434f3007b8046249b0d06316e02cb9aa48c2f77
   "source": [
    "encoder.categories_"
   ]
  },
  {
   "cell_type": "code",
<<<<<<< HEAD
   "execution_count": null,
   "metadata": {},
   "outputs": [],
=======
   "execution_count": 12,
   "metadata": {},
   "outputs": [
    {
     "data": {
      "text/plain": [
       "array([1., 0., 1., 0., 0., 0., 0., 0., 0., 0., 1., 0., 0., 0., 0., 0., 0.,\n",
       "       0., 0., 0., 0., 0., 0., 0., 0., 0., 0., 0., 0., 0., 0., 0., 0., 0.,\n",
       "       0., 0., 0., 0., 0., 0., 0., 0., 0., 0., 0., 0., 0., 0., 0., 0., 0.,\n",
       "       0., 0., 0., 1., 0., 0., 0., 0., 0., 0., 0., 0., 0., 0., 0., 0., 0.,\n",
       "       1., 0., 0.])"
      ]
     },
     "execution_count": 12,
     "metadata": {},
     "output_type": "execute_result"
    }
   ],
>>>>>>> 0434f3007b8046249b0d06316e02cb9aa48c2f77
   "source": [
    "X_cat_encoded.toarray()[0]"
   ]
  },
  {
   "cell_type": "code",
<<<<<<< HEAD
   "execution_count": null,
=======
   "execution_count": 13,
>>>>>>> 0434f3007b8046249b0d06316e02cb9aa48c2f77
   "metadata": {},
   "outputs": [],
   "source": [
    "X_num_array = X_num.values"
   ]
  },
  {
   "cell_type": "code",
   "execution_count": null,
   "metadata": {},
   "outputs": [],
   "source": [
    "X_cat_encoded_array = X_cat_encoded.toarray()"
   ]
  },
  {
   "cell_type": "code",
   "execution_count": null,
   "metadata": {},
   "outputs": [],
   "source": [
    "X = np.concatenate((X_num_array, X_cat_encoded_array), axis=1)"
   ]
  },
  {
   "cell_type": "code",
   "execution_count": null,
<<<<<<< HEAD
   "metadata": {
    "scrolled": true
   },
=======
   "metadata": {},
>>>>>>> 0434f3007b8046249b0d06316e02cb9aa48c2f77
   "outputs": [],
   "source": [
    "X[0]"
   ]
  },
  {
   "cell_type": "code",
   "execution_count": null,
   "metadata": {},
   "outputs": [],
   "source": [
    "y[0]"
   ]
  },
  {
   "cell_type": "code",
   "execution_count": null,
   "metadata": {},
   "outputs": [],
   "source": [
    "from sklearn.ensemble import RandomForestClassifier\n",
    "from sklearn.model_selection import train_test_split\n",
    "from sklearn.metrics import accuracy_score\n",
    "\n",
    "X_train, X_test, y_train, y_test = train_test_split(X, y)\n",
    "\n",
    "model = RandomForestClassifier()\n",
    "model.fit(X_train, y_train)\n",
    "y_pred = model.predict(X_test)\n",
    "\n",
    "print(accuracy_score(y_test, y_pred))"
   ]
  },
  {
   "cell_type": "code",
   "execution_count": null,
   "metadata": {},
   "outputs": [],
   "source": [
    "novo_dado = [\"female\", 18, 18,'Latino/Hispanic American', 'Latino/Hispanic American','Engineering', 80, 100, 80, 60, 70, 100, 100, 100, 100, 100, 100, 60, 100, 70, 70, 70, 80, 6, 8, 7, 5, 7, 8, 9, 7.5, 9, 8, 6, 0, 8, 10, 5, 7, 0, 7, 0, 6, 10, 6, 10, 8, 10, 8, 3, 10, 1]  \n",
    "novo_x_num = np.array([novo_dado[0]]).reshape(-1,1)\n",
    "novo_x_cat = [novo_dado[1:]]\n",
    "novo_x_num\n",
    "novo_x_cat"
   ]
  },
  {
   "cell_type": "code",
   "execution_count": null,
<<<<<<< HEAD
   "metadata": {},
=======
   "metadata": {
    "scrolled": true
   },
>>>>>>> 0434f3007b8046249b0d06316e02cb9aa48c2f77
   "outputs": [],
   "source": [
    "partnere_attractive = data.pref_o_attractive.astype(float)\n",
    "you_attractive = data.attractive_important.astype(float)\n",
    "\n",
    "sns.scatterplot(you_attractive,partnere_attractive)\n",
    "plt.title('Ser atraente visualmente.')\n",
    "plt.xlabel('Quão importante é para você.')\n",
    "plt.ylabel('Quão importante é para o parceiro.')\n",
    "plt.show()"
   ]
  },
  {
   "cell_type": "code",
   "execution_count": null,
   "metadata": {},
   "outputs": [],
   "source": [
    "partnere_intelligence = data.pref_o_intelligence.astype(float)\n",
    "you_intelligence = data.intellicence_important.astype(float)\n",
    "\n",
    "sns.scatterplot(you_intelligence,partnere_intelligence)\n",
    "plt.title('Ser inteligente.')\n",
    "plt.xlabel('Quão importante é para você.')\n",
    "plt.ylabel('Quão importante é para o parceiro.')\n",
    "plt.show()"
   ]
  },
  {
   "cell_type": "code",
   "execution_count": null,
   "metadata": {},
   "outputs": [],
   "source": [
    "partnere_interes = data.pref_o_shared_interests\n",
    "you_interes = data.shared_interests_important\n",
    "\n",
    "sns.scatterplot(you_interes,partnere_interes)\n",
    "plt.title('Interesses compartilhados.')\n",
    "plt.xlabel('Quão importante é para você.')\n",
    "plt.ylabel('Quão importante é para o parceiro.')\n",
    "plt.show()"
   ]
  },
  {
   "cell_type": "code",
   "execution_count": null,
   "metadata": {},
   "outputs": [],
   "source": [
    "match = data.match.value_counts()\n",
    "match_rate = match*0.1\n",
    "match_rate = match_rate.rename(index={0: 'No match',1: 'Match'})\n",
    "\n",
    "match_rate.plot.bar()"
   ]
  },
  {
   "cell_type": "code",
   "execution_count": null,
   "metadata": {},
   "outputs": [],
   "source": []
  },
  {
   "cell_type": "code",
   "execution_count": null,
   "metadata": {},
   "outputs": [],
   "source": []
  }
 ],
 "metadata": {
  "kernelspec": {
   "display_name": "Python 3",
   "language": "python",
   "name": "python3"
  },
  "language_info": {
   "codemirror_mode": {
    "name": "ipython",
    "version": 3
   },
   "file_extension": ".py",
   "mimetype": "text/x-python",
   "name": "python",
   "nbconvert_exporter": "python",
   "pygments_lexer": "ipython3",
   "version": "3.7.1"
  }
 },
 "nbformat": 4,
 "nbformat_minor": 2
}
