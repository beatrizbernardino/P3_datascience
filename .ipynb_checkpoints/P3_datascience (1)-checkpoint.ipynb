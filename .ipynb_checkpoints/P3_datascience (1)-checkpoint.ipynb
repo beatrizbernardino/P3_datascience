{
 "cells": [
  {
   "cell_type": "markdown",
   "metadata": {},
   "source": [
    "\n",
    "# Projeto 3 - Speed Dating\n"
   ]
  },
  {
   "cell_type": "code",
   "execution_count": 1,
   "metadata": {},
   "outputs": [],
   "source": [
    "#importando as bibliotecas\n",
    "import numpy as np\n",
    "import pandas as pd\n",
    "import matplotlib.pyplot as plt\n",
    "import seaborn as sns\n",
    "from math import pi\n",
    " \n",
    "\n"
   ]
  },
  {
   "cell_type": "markdown",
   "metadata": {},
   "source": [
    "  ##### O primeiro passo, foi procurar um dataset ideal para trabalharmos, ou seja, que contenha dados o suficiente para chegar em uma conclusão. \n",
    "#####   Encontramos ele no OpenML."
   ]
  },
  {
   "cell_type": "code",
   "execution_count": 2,
   "metadata": {
    "scrolled": false
   },
   "outputs": [
    {
     "name": "stderr",
     "output_type": "stream",
     "text": [
      "C:\\Users\\Vitor Bandeira\\AppData\\Local\\Continuum\\anaconda3\\lib\\site-packages\\IPython\\core\\interactiveshell.py:3020: DtypeWarning: Columns (3,10,11,15,16,17,18,19,39,40,41,42,43,44,51,52,53,54,55,73,74,75,76,77,78,79,80,81,82,83,84,85,86,87,88,89,107,109) have mixed types. Specify dtype option on import or set low_memory=False.\n",
      "  interactivity=interactivity, compiler=compiler, result=result)\n"
     ]
    }
   ],
   "source": [
    "data_suja_completa=pd.read_csv(\"speeddating.csv\")"
   ]
  },
  {
   "cell_type": "markdown",
   "metadata": {},
   "source": [
    "##### Nosso objetivo é classificar, a partir dos dados já existentes no Dataset, se um casal vai dar \"Match\" ou não, para isso, escolhemos colunas com dados mais relevantes para tal objetivo, colunas como \"wave\", foi retirada, já que conta em qual rodada o casal esta e no nosso \"Speed Dating\" não vão ter rodadas.  "
   ]
  },
  {
   "cell_type": "code",
   "execution_count": 3,
   "metadata": {},
   "outputs": [
    {
     "data": {
      "text/html": [
       "<div>\n",
       "<style scoped>\n",
       "    .dataframe tbody tr th:only-of-type {\n",
       "        vertical-align: middle;\n",
       "    }\n",
       "\n",
       "    .dataframe tbody tr th {\n",
       "        vertical-align: top;\n",
       "    }\n",
       "\n",
       "    .dataframe thead th {\n",
       "        text-align: right;\n",
       "    }\n",
       "</style>\n",
       "<table border=\"1\" class=\"dataframe\">\n",
       "  <thead>\n",
       "    <tr style=\"text-align: right;\">\n",
       "      <th></th>\n",
       "      <th>gender</th>\n",
       "      <th>age</th>\n",
       "      <th>age_o</th>\n",
       "      <th>race</th>\n",
       "      <th>race_o</th>\n",
       "      <th>importance_same_race</th>\n",
       "      <th>importance_same_religion</th>\n",
       "      <th>field</th>\n",
       "      <th>pref_o_attractive</th>\n",
       "      <th>pref_o_sincere</th>\n",
       "      <th>...</th>\n",
       "      <th>theater</th>\n",
       "      <th>movies</th>\n",
       "      <th>concerts</th>\n",
       "      <th>music</th>\n",
       "      <th>shopping</th>\n",
       "      <th>yoga</th>\n",
       "      <th>interests_correlate</th>\n",
       "      <th>like</th>\n",
       "      <th>met</th>\n",
       "      <th>match</th>\n",
       "    </tr>\n",
       "  </thead>\n",
       "  <tbody>\n",
       "    <tr>\n",
       "      <th>0</th>\n",
       "      <td>female</td>\n",
       "      <td>21</td>\n",
       "      <td>27</td>\n",
       "      <td>'Asian/Pacific Islander/Asian-American'</td>\n",
       "      <td>European/Caucasian-American</td>\n",
       "      <td>2</td>\n",
       "      <td>4</td>\n",
       "      <td>Law</td>\n",
       "      <td>35</td>\n",
       "      <td>20</td>\n",
       "      <td>...</td>\n",
       "      <td>1</td>\n",
       "      <td>10</td>\n",
       "      <td>10</td>\n",
       "      <td>9</td>\n",
       "      <td>8</td>\n",
       "      <td>1</td>\n",
       "      <td>0.14</td>\n",
       "      <td>7</td>\n",
       "      <td>0</td>\n",
       "      <td>0</td>\n",
       "    </tr>\n",
       "    <tr>\n",
       "      <th>1</th>\n",
       "      <td>female</td>\n",
       "      <td>21</td>\n",
       "      <td>22</td>\n",
       "      <td>'Asian/Pacific Islander/Asian-American'</td>\n",
       "      <td>European/Caucasian-American</td>\n",
       "      <td>2</td>\n",
       "      <td>4</td>\n",
       "      <td>Law</td>\n",
       "      <td>60</td>\n",
       "      <td>0</td>\n",
       "      <td>...</td>\n",
       "      <td>1</td>\n",
       "      <td>10</td>\n",
       "      <td>10</td>\n",
       "      <td>9</td>\n",
       "      <td>8</td>\n",
       "      <td>1</td>\n",
       "      <td>0.54</td>\n",
       "      <td>7</td>\n",
       "      <td>1</td>\n",
       "      <td>0</td>\n",
       "    </tr>\n",
       "    <tr>\n",
       "      <th>3</th>\n",
       "      <td>female</td>\n",
       "      <td>21</td>\n",
       "      <td>23</td>\n",
       "      <td>'Asian/Pacific Islander/Asian-American'</td>\n",
       "      <td>European/Caucasian-American</td>\n",
       "      <td>2</td>\n",
       "      <td>4</td>\n",
       "      <td>Law</td>\n",
       "      <td>30</td>\n",
       "      <td>5</td>\n",
       "      <td>...</td>\n",
       "      <td>1</td>\n",
       "      <td>10</td>\n",
       "      <td>10</td>\n",
       "      <td>9</td>\n",
       "      <td>8</td>\n",
       "      <td>1</td>\n",
       "      <td>0.61</td>\n",
       "      <td>7</td>\n",
       "      <td>0</td>\n",
       "      <td>1</td>\n",
       "    </tr>\n",
       "    <tr>\n",
       "      <th>4</th>\n",
       "      <td>female</td>\n",
       "      <td>21</td>\n",
       "      <td>24</td>\n",
       "      <td>'Asian/Pacific Islander/Asian-American'</td>\n",
       "      <td>'Latino/Hispanic American'</td>\n",
       "      <td>2</td>\n",
       "      <td>4</td>\n",
       "      <td>Law</td>\n",
       "      <td>30</td>\n",
       "      <td>10</td>\n",
       "      <td>...</td>\n",
       "      <td>1</td>\n",
       "      <td>10</td>\n",
       "      <td>10</td>\n",
       "      <td>9</td>\n",
       "      <td>8</td>\n",
       "      <td>1</td>\n",
       "      <td>0.21</td>\n",
       "      <td>6</td>\n",
       "      <td>0</td>\n",
       "      <td>1</td>\n",
       "    </tr>\n",
       "    <tr>\n",
       "      <th>5</th>\n",
       "      <td>female</td>\n",
       "      <td>21</td>\n",
       "      <td>25</td>\n",
       "      <td>'Asian/Pacific Islander/Asian-American'</td>\n",
       "      <td>European/Caucasian-American</td>\n",
       "      <td>2</td>\n",
       "      <td>4</td>\n",
       "      <td>Law</td>\n",
       "      <td>50</td>\n",
       "      <td>0</td>\n",
       "      <td>...</td>\n",
       "      <td>1</td>\n",
       "      <td>10</td>\n",
       "      <td>10</td>\n",
       "      <td>9</td>\n",
       "      <td>8</td>\n",
       "      <td>1</td>\n",
       "      <td>0.25</td>\n",
       "      <td>6</td>\n",
       "      <td>0</td>\n",
       "      <td>0</td>\n",
       "    </tr>\n",
       "  </tbody>\n",
       "</table>\n",
       "<p>5 rows × 58 columns</p>\n",
       "</div>"
      ],
      "text/plain": [
       "   gender age age_o                                     race  \\\n",
       "0  female  21    27  'Asian/Pacific Islander/Asian-American'   \n",
       "1  female  21    22  'Asian/Pacific Islander/Asian-American'   \n",
       "3  female  21    23  'Asian/Pacific Islander/Asian-American'   \n",
       "4  female  21    24  'Asian/Pacific Islander/Asian-American'   \n",
       "5  female  21    25  'Asian/Pacific Islander/Asian-American'   \n",
       "\n",
       "                        race_o importance_same_race importance_same_religion  \\\n",
       "0  European/Caucasian-American                    2                        4   \n",
       "1  European/Caucasian-American                    2                        4   \n",
       "3  European/Caucasian-American                    2                        4   \n",
       "4   'Latino/Hispanic American'                    2                        4   \n",
       "5  European/Caucasian-American                    2                        4   \n",
       "\n",
       "  field pref_o_attractive pref_o_sincere  ...  theater movies concerts music  \\\n",
       "0   Law                35             20  ...        1     10       10     9   \n",
       "1   Law                60              0  ...        1     10       10     9   \n",
       "3   Law                30              5  ...        1     10       10     9   \n",
       "4   Law                30             10  ...        1     10       10     9   \n",
       "5   Law                50              0  ...        1     10       10     9   \n",
       "\n",
       "  shopping yoga interests_correlate like met match  \n",
       "0        8    1                0.14    7   0     0  \n",
       "1        8    1                0.54    7   1     0  \n",
       "3        8    1                0.61    7   0     1  \n",
       "4        8    1                0.21    6   0     1  \n",
       "5        8    1                0.25    6   0     0  \n",
       "\n",
       "[5 rows x 58 columns]"
      ]
     },
     "execution_count": 3,
     "metadata": {},
     "output_type": "execute_result"
    }
   ],
   "source": [
    "data_suja_limpo=data_suja_completa[data_suja_completa!= \"?\" ]\n",
    "data_suja_limpo.dropna(inplace=True)\n",
    "data_suja_limpo.columns\n",
    "data=data_suja_limpo.drop(['d_pref_o_funny' ,'d_pref_o_ambitious',\n",
    "                     'd_pref_o_shared_interests','d_pref_o_sincere', 'd_pref_o_intelligence',\n",
    "                     \"wave\",'d_pref_o_attractive',\"has_null\",\"d_age\",'d_importance_same_race',\n",
    "                     'd_importance_same_religion',\"samerace\", \"d_d_age\", \"expected_happy_with_sd_people\", \n",
    "                     \"expected_num_interested_in_me\", \"expected_num_matches\", \"guess_prob_liked\", \"decision\", \n",
    "                     \"decision_o\", 'd_attractive_o',\n",
    " 'd_sinsere_o' ,'d_intelligence_o' ,'d_funny_o', 'd_ambitous_o',\n",
    " 'd_shared_interests_o', 'd_attractive_important' ,'d_sincere_important' ,'d_intellicence_important',\n",
    " 'd_funny_important', 'd_ambtition_important',\n",
    " 'd_shared_interests_important', 'd_attractive', 'd_sincere',\n",
    " 'd_intelligence', 'd_funny' ,'d_ambition', 'd_attractive_partner' ,'d_sincere_partner',\n",
    " 'd_intelligence_partner', 'd_funny_partner', 'd_ambition_partner',\n",
    " 'd_shared_interests_partner', 'd_sports', 'd_tvsports',\n",
    " 'd_exercise' ,'d_dining' ,'d_museums', 'd_art' ,'d_hiking', 'd_gaming',\n",
    " 'd_clubbing' ,'d_reading', 'd_tv' ,'d_theater' ,'d_movies' ,'d_concerts',\n",
    " 'd_music', 'd_shopping', 'd_yoga', 'd_interests_correlate' ,'d_expected_happy_with_sd_people',\n",
    " 'd_expected_num_interested_in_me', 'd_expected_num_matches',\n",
    " 'd_like', 'd_guess_prob_liked'], axis=1)\n",
    "data.head()\n"
   ]
  },
  {
   "cell_type": "code",
   "execution_count": 4,
   "metadata": {},
   "outputs": [
    {
     "name": "stderr",
     "output_type": "stream",
     "text": [
      "C:\\Users\\Vitor Bandeira\\AppData\\Local\\Continuum\\anaconda3\\lib\\site-packages\\ipykernel_launcher.py:16: UserWarning: Pandas doesn't allow columns to be created via a new attribute name - see https://pandas.pydata.org/pandas-docs/stable/indexing.html#attribute-access\n",
      "  app.launch_new_instance()\n"
     ]
    }
   ],
   "source": [
    "#mudando de string para int\n",
    "data.age = data.age.astype(int)\n",
    "data.age_o = data.age_o.astype(int)\n",
    "data.match  = data.match.astype(int)\n",
    "data.exercise = data.exercise.astype(int)\n",
    "data.interests_correlate = data.interests_correlate.astype(float)\n",
    "data.pref_o_attractive = data.pref_o_attractive.astype(float)\n",
    "data.pref_o_sincere = data.pref_o_sincere.astype(float)\n",
    "data.pref_o_intelligence = data.pref_o_intelligence.astype(float)\n",
    "data.pref_o_funny = data.pref_o_funny.astype(float)\n",
    "data.pref_o_ambitious = data.pref_o_ambitious.astype(float)\n",
    "data.attractive = data.pref_o_attractive.astype(float)\n",
    "data.sincere = data.pref_o_sincere.astype(float)\n",
    "data.intelligence = data.pref_o_intelligence.astype(float)\n",
    "data.funny = data.pref_o_funny.astype(float)\n",
    "data.ambitious = data.pref_o_ambitious.astype(float)"
   ]
  },
  {
   "cell_type": "code",
   "execution_count": 5,
   "metadata": {
    "scrolled": true
   },
   "outputs": [
    {
     "name": "stdout",
     "output_type": "stream",
     "text": [
      "<class 'pandas.core.frame.DataFrame'>\n",
      "Int64Index: 1048 entries, 0 to 1843\n",
      "Data columns (total 58 columns):\n",
      "gender                        1048 non-null object\n",
      "age                           1048 non-null int32\n",
      "age_o                         1048 non-null int32\n",
      "race                          1048 non-null object\n",
      "race_o                        1048 non-null object\n",
      "importance_same_race          1048 non-null object\n",
      "importance_same_religion      1048 non-null object\n",
      "field                         1048 non-null object\n",
      "pref_o_attractive             1048 non-null float64\n",
      "pref_o_sincere                1048 non-null float64\n",
      "pref_o_intelligence           1048 non-null float64\n",
      "pref_o_funny                  1048 non-null float64\n",
      "pref_o_ambitious              1048 non-null float64\n",
      "pref_o_shared_interests       1048 non-null object\n",
      "attractive_o                  1048 non-null object\n",
      "sinsere_o                     1048 non-null object\n",
      "intelligence_o                1048 non-null object\n",
      "funny_o                       1048 non-null object\n",
      "ambitous_o                    1048 non-null object\n",
      "shared_interests_o            1048 non-null object\n",
      "attractive_important          1048 non-null object\n",
      "sincere_important             1048 non-null object\n",
      "intellicence_important        1048 non-null object\n",
      "funny_important               1048 non-null object\n",
      "ambtition_important           1048 non-null object\n",
      "shared_interests_important    1048 non-null object\n",
      "attractive                    1048 non-null float64\n",
      "sincere                       1048 non-null float64\n",
      "intelligence                  1048 non-null float64\n",
      "funny                         1048 non-null float64\n",
      "ambition                      1048 non-null object\n",
      "attractive_partner            1048 non-null object\n",
      "sincere_partner               1048 non-null object\n",
      "intelligence_partner          1048 non-null object\n",
      "funny_partner                 1048 non-null object\n",
      "ambition_partner              1048 non-null object\n",
      "shared_interests_partner      1048 non-null object\n",
      "sports                        1048 non-null object\n",
      "tvsports                      1048 non-null object\n",
      "exercise                      1048 non-null int32\n",
      "dining                        1048 non-null object\n",
      "museums                       1048 non-null object\n",
      "art                           1048 non-null object\n",
      "hiking                        1048 non-null object\n",
      "gaming                        1048 non-null object\n",
      "clubbing                      1048 non-null object\n",
      "reading                       1048 non-null object\n",
      "tv                            1048 non-null object\n",
      "theater                       1048 non-null object\n",
      "movies                        1048 non-null object\n",
      "concerts                      1048 non-null object\n",
      "music                         1048 non-null object\n",
      "shopping                      1048 non-null object\n",
      "yoga                          1048 non-null object\n",
      "interests_correlate           1048 non-null float64\n",
      "like                          1048 non-null object\n",
      "met                           1048 non-null object\n",
      "match                         1048 non-null int32\n",
      "dtypes: float64(10), int32(4), object(44)\n",
      "memory usage: 466.7+ KB\n"
     ]
    }
   ],
   "source": [
    "data.info()"
   ]
  },
  {
   "cell_type": "code",
   "execution_count": 8,
   "metadata": {},
   "outputs": [
    {
     "ename": "ValueError",
     "evalue": "all the input array dimensions except for the concatenation axis must match exactly",
     "output_type": "error",
     "traceback": [
      "\u001b[1;31m---------------------------------------------------------------------------\u001b[0m",
      "\u001b[1;31mValueError\u001b[0m                                Traceback (most recent call last)",
      "\u001b[1;32m<ipython-input-8-c4996ccf9489>\u001b[0m in \u001b[0;36m<module>\u001b[1;34m\u001b[0m\n\u001b[0;32m      1\u001b[0m \u001b[1;33m\u001b[0m\u001b[0m\n\u001b[1;32m----> 2\u001b[1;33m \u001b[0msns\u001b[0m\u001b[1;33m.\u001b[0m\u001b[0mregplot\u001b[0m\u001b[1;33m(\u001b[0m\u001b[0mdata\u001b[0m\u001b[1;33m.\u001b[0m\u001b[0minterests_correlate\u001b[0m\u001b[1;33m.\u001b[0m\u001b[0mvalue_counts\u001b[0m\u001b[1;33m(\u001b[0m\u001b[1;33m)\u001b[0m\u001b[1;33m,\u001b[0m\u001b[0mdata\u001b[0m\u001b[1;33m.\u001b[0m\u001b[0mmatch\u001b[0m\u001b[1;33m.\u001b[0m\u001b[0mvalue_counts\u001b[0m\u001b[1;33m(\u001b[0m\u001b[1;33m)\u001b[0m\u001b[1;33m,\u001b[0m \u001b[0mcolor\u001b[0m\u001b[1;33m=\u001b[0m\u001b[1;33m(\u001b[0m\u001b[1;34m'red'\u001b[0m\u001b[1;33m)\u001b[0m\u001b[1;33m)\u001b[0m\u001b[1;33m\u001b[0m\u001b[1;33m\u001b[0m\u001b[0m\n\u001b[0m\u001b[0;32m      3\u001b[0m \u001b[1;33m\u001b[0m\u001b[0m\n\u001b[0;32m      4\u001b[0m \u001b[1;33m\u001b[0m\u001b[0m\n\u001b[0;32m      5\u001b[0m \u001b[0mcols\u001b[0m \u001b[1;33m=\u001b[0m \u001b[0mdata\u001b[0m\u001b[1;33m.\u001b[0m\u001b[0mcorr\u001b[0m\u001b[1;33m(\u001b[0m\u001b[1;33m)\u001b[0m\u001b[1;33m.\u001b[0m\u001b[0mnlargest\u001b[0m\u001b[1;33m(\u001b[0m\u001b[0mk\u001b[0m\u001b[1;33m,\u001b[0m \u001b[1;34m'match'\u001b[0m\u001b[1;33m)\u001b[0m\u001b[1;33m[\u001b[0m\u001b[1;34m'match'\u001b[0m\u001b[1;33m]\u001b[0m\u001b[1;33m.\u001b[0m\u001b[0mindex\u001b[0m\u001b[1;33m\u001b[0m\u001b[1;33m\u001b[0m\u001b[0m\n",
      "\u001b[1;32m~\\AppData\\Local\\Continuum\\anaconda3\\lib\\site-packages\\seaborn\\regression.py\u001b[0m in \u001b[0;36mregplot\u001b[1;34m(x, y, data, x_estimator, x_bins, x_ci, scatter, fit_reg, ci, n_boot, units, order, logistic, lowess, robust, logx, x_partial, y_partial, truncate, dropna, x_jitter, y_jitter, label, color, marker, scatter_kws, line_kws, ax)\u001b[0m\n\u001b[0;32m    779\u001b[0m                                  \u001b[0morder\u001b[0m\u001b[1;33m,\u001b[0m \u001b[0mlogistic\u001b[0m\u001b[1;33m,\u001b[0m \u001b[0mlowess\u001b[0m\u001b[1;33m,\u001b[0m \u001b[0mrobust\u001b[0m\u001b[1;33m,\u001b[0m \u001b[0mlogx\u001b[0m\u001b[1;33m,\u001b[0m\u001b[1;33m\u001b[0m\u001b[1;33m\u001b[0m\u001b[0m\n\u001b[0;32m    780\u001b[0m                                  \u001b[0mx_partial\u001b[0m\u001b[1;33m,\u001b[0m \u001b[0my_partial\u001b[0m\u001b[1;33m,\u001b[0m \u001b[0mtruncate\u001b[0m\u001b[1;33m,\u001b[0m \u001b[0mdropna\u001b[0m\u001b[1;33m,\u001b[0m\u001b[1;33m\u001b[0m\u001b[1;33m\u001b[0m\u001b[0m\n\u001b[1;32m--> 781\u001b[1;33m                                  x_jitter, y_jitter, color, label)\n\u001b[0m\u001b[0;32m    782\u001b[0m \u001b[1;33m\u001b[0m\u001b[0m\n\u001b[0;32m    783\u001b[0m     \u001b[1;32mif\u001b[0m \u001b[0max\u001b[0m \u001b[1;32mis\u001b[0m \u001b[1;32mNone\u001b[0m\u001b[1;33m:\u001b[0m\u001b[1;33m\u001b[0m\u001b[1;33m\u001b[0m\u001b[0m\n",
      "\u001b[1;32m~\\AppData\\Local\\Continuum\\anaconda3\\lib\\site-packages\\seaborn\\regression.py\u001b[0m in \u001b[0;36m__init__\u001b[1;34m(self, x, y, data, x_estimator, x_bins, x_ci, scatter, fit_reg, ci, n_boot, units, order, logistic, lowess, robust, logx, x_partial, y_partial, truncate, dropna, x_jitter, y_jitter, color, label)\u001b[0m\n\u001b[0;32m    107\u001b[0m         \u001b[1;31m# Drop null observations\u001b[0m\u001b[1;33m\u001b[0m\u001b[1;33m\u001b[0m\u001b[1;33m\u001b[0m\u001b[0m\n\u001b[0;32m    108\u001b[0m         \u001b[1;32mif\u001b[0m \u001b[0mdropna\u001b[0m\u001b[1;33m:\u001b[0m\u001b[1;33m\u001b[0m\u001b[1;33m\u001b[0m\u001b[0m\n\u001b[1;32m--> 109\u001b[1;33m             \u001b[0mself\u001b[0m\u001b[1;33m.\u001b[0m\u001b[0mdropna\u001b[0m\u001b[1;33m(\u001b[0m\u001b[1;34m\"x\"\u001b[0m\u001b[1;33m,\u001b[0m \u001b[1;34m\"y\"\u001b[0m\u001b[1;33m,\u001b[0m \u001b[1;34m\"units\"\u001b[0m\u001b[1;33m,\u001b[0m \u001b[1;34m\"x_partial\"\u001b[0m\u001b[1;33m,\u001b[0m \u001b[1;34m\"y_partial\"\u001b[0m\u001b[1;33m)\u001b[0m\u001b[1;33m\u001b[0m\u001b[1;33m\u001b[0m\u001b[0m\n\u001b[0m\u001b[0;32m    110\u001b[0m \u001b[1;33m\u001b[0m\u001b[0m\n\u001b[0;32m    111\u001b[0m         \u001b[1;31m# Regress nuisance variables out of the data\u001b[0m\u001b[1;33m\u001b[0m\u001b[1;33m\u001b[0m\u001b[1;33m\u001b[0m\u001b[0m\n",
      "\u001b[1;32m~\\AppData\\Local\\Continuum\\anaconda3\\lib\\site-packages\\seaborn\\regression.py\u001b[0m in \u001b[0;36mdropna\u001b[1;34m(self, *vars)\u001b[0m\n\u001b[0;32m     56\u001b[0m         \u001b[0mvals\u001b[0m \u001b[1;33m=\u001b[0m \u001b[1;33m[\u001b[0m\u001b[0mgetattr\u001b[0m\u001b[1;33m(\u001b[0m\u001b[0mself\u001b[0m\u001b[1;33m,\u001b[0m \u001b[0mvar\u001b[0m\u001b[1;33m)\u001b[0m \u001b[1;32mfor\u001b[0m \u001b[0mvar\u001b[0m \u001b[1;32min\u001b[0m \u001b[0mvars\u001b[0m\u001b[1;33m]\u001b[0m\u001b[1;33m\u001b[0m\u001b[1;33m\u001b[0m\u001b[0m\n\u001b[0;32m     57\u001b[0m         \u001b[0mvals\u001b[0m \u001b[1;33m=\u001b[0m \u001b[1;33m[\u001b[0m\u001b[0mv\u001b[0m \u001b[1;32mfor\u001b[0m \u001b[0mv\u001b[0m \u001b[1;32min\u001b[0m \u001b[0mvals\u001b[0m \u001b[1;32mif\u001b[0m \u001b[0mv\u001b[0m \u001b[1;32mis\u001b[0m \u001b[1;32mnot\u001b[0m \u001b[1;32mNone\u001b[0m\u001b[1;33m]\u001b[0m\u001b[1;33m\u001b[0m\u001b[1;33m\u001b[0m\u001b[0m\n\u001b[1;32m---> 58\u001b[1;33m         \u001b[0mnot_na\u001b[0m \u001b[1;33m=\u001b[0m \u001b[0mnp\u001b[0m\u001b[1;33m.\u001b[0m\u001b[0mall\u001b[0m\u001b[1;33m(\u001b[0m\u001b[0mnp\u001b[0m\u001b[1;33m.\u001b[0m\u001b[0mcolumn_stack\u001b[0m\u001b[1;33m(\u001b[0m\u001b[1;33m[\u001b[0m\u001b[0mpd\u001b[0m\u001b[1;33m.\u001b[0m\u001b[0mnotnull\u001b[0m\u001b[1;33m(\u001b[0m\u001b[0mv\u001b[0m\u001b[1;33m)\u001b[0m \u001b[1;32mfor\u001b[0m \u001b[0mv\u001b[0m \u001b[1;32min\u001b[0m \u001b[0mvals\u001b[0m\u001b[1;33m]\u001b[0m\u001b[1;33m)\u001b[0m\u001b[1;33m,\u001b[0m \u001b[0maxis\u001b[0m\u001b[1;33m=\u001b[0m\u001b[1;36m1\u001b[0m\u001b[1;33m)\u001b[0m\u001b[1;33m\u001b[0m\u001b[1;33m\u001b[0m\u001b[0m\n\u001b[0m\u001b[0;32m     59\u001b[0m         \u001b[1;32mfor\u001b[0m \u001b[0mvar\u001b[0m \u001b[1;32min\u001b[0m \u001b[0mvars\u001b[0m\u001b[1;33m:\u001b[0m\u001b[1;33m\u001b[0m\u001b[1;33m\u001b[0m\u001b[0m\n\u001b[0;32m     60\u001b[0m             \u001b[0mval\u001b[0m \u001b[1;33m=\u001b[0m \u001b[0mgetattr\u001b[0m\u001b[1;33m(\u001b[0m\u001b[0mself\u001b[0m\u001b[1;33m,\u001b[0m \u001b[0mvar\u001b[0m\u001b[1;33m)\u001b[0m\u001b[1;33m\u001b[0m\u001b[1;33m\u001b[0m\u001b[0m\n",
      "\u001b[1;32m~\\AppData\\Local\\Continuum\\anaconda3\\lib\\site-packages\\numpy\\lib\\shape_base.py\u001b[0m in \u001b[0;36mcolumn_stack\u001b[1;34m(tup)\u001b[0m\n\u001b[0;32m    592\u001b[0m             \u001b[0marr\u001b[0m \u001b[1;33m=\u001b[0m \u001b[0marray\u001b[0m\u001b[1;33m(\u001b[0m\u001b[0marr\u001b[0m\u001b[1;33m,\u001b[0m \u001b[0mcopy\u001b[0m\u001b[1;33m=\u001b[0m\u001b[1;32mFalse\u001b[0m\u001b[1;33m,\u001b[0m \u001b[0msubok\u001b[0m\u001b[1;33m=\u001b[0m\u001b[1;32mTrue\u001b[0m\u001b[1;33m,\u001b[0m \u001b[0mndmin\u001b[0m\u001b[1;33m=\u001b[0m\u001b[1;36m2\u001b[0m\u001b[1;33m)\u001b[0m\u001b[1;33m.\u001b[0m\u001b[0mT\u001b[0m\u001b[1;33m\u001b[0m\u001b[1;33m\u001b[0m\u001b[0m\n\u001b[0;32m    593\u001b[0m         \u001b[0marrays\u001b[0m\u001b[1;33m.\u001b[0m\u001b[0mappend\u001b[0m\u001b[1;33m(\u001b[0m\u001b[0marr\u001b[0m\u001b[1;33m)\u001b[0m\u001b[1;33m\u001b[0m\u001b[1;33m\u001b[0m\u001b[0m\n\u001b[1;32m--> 594\u001b[1;33m     \u001b[1;32mreturn\u001b[0m \u001b[0m_nx\u001b[0m\u001b[1;33m.\u001b[0m\u001b[0mconcatenate\u001b[0m\u001b[1;33m(\u001b[0m\u001b[0marrays\u001b[0m\u001b[1;33m,\u001b[0m \u001b[1;36m1\u001b[0m\u001b[1;33m)\u001b[0m\u001b[1;33m\u001b[0m\u001b[1;33m\u001b[0m\u001b[0m\n\u001b[0m\u001b[0;32m    595\u001b[0m \u001b[1;33m\u001b[0m\u001b[0m\n\u001b[0;32m    596\u001b[0m \u001b[1;32mdef\u001b[0m \u001b[0mdstack\u001b[0m\u001b[1;33m(\u001b[0m\u001b[0mtup\u001b[0m\u001b[1;33m)\u001b[0m\u001b[1;33m:\u001b[0m\u001b[1;33m\u001b[0m\u001b[1;33m\u001b[0m\u001b[0m\n",
      "\u001b[1;31mValueError\u001b[0m: all the input array dimensions except for the concatenation axis must match exactly"
     ]
    }
   ],
   "source": [
    "\n",
    "sns.regplot(data.interests_correlate.value_counts(),data.match.value_counts(), color=('red'))\n",
    "\n",
    "\n",
    "cols = data.corr().nlargest(k, 'match')['match'].index\n",
    "cm = np.corrcoef(data[cols].values.T)\n",
    "sns.set(font_scale=1.25)\n",
    "hm = sns.heatmap(cm, cbar=True, annot=True, square=True, fmt='.2f', annot_kws={'size': 8}, yticklabels=cols.values, xticklabels=cols.values)\n",
    "plt.show()\n",
    "\n"
   ]
  },
  {
   "cell_type": "code",
   "execution_count": 9,
   "metadata": {},
   "outputs": [
    {
     "data": {
      "text/plain": [
       "<matplotlib.axes._subplots.AxesSubplot at 0x211d4c826d8>"
      ]
     },
     "execution_count": 9,
     "metadata": {},
     "output_type": "execute_result"
    },
    {
     "data": {
      "image/png": "[encoded data removed]",
      "text/plain": [
       "<Figure size 432x288 with 1 Axes>"
      ]
     },
     "metadata": {},
     "output_type": "display_data"
    }
   ],
   "source": [
    "grafico=data.match.value_counts()\n",
    "grafico.plot(kind='pie', colors=('pink', 'gold'), autopct=\"%0.2f\",legend=False)"
   ]
  },
  {
   "cell_type": "code",
   "execution_count": null,
   "metadata": {},
   "outputs": [],
   "source": [
    "# labels=['data.pref_o_attractive', 'data.pref_o_ambitious', 'data.pref_o_funny', 'data.pref_o_intelligence', 'data.pref_o_sincere']\n",
    "# markers = [0, 1, 2, 3, 4, 5]\n",
    "# str_markers = [\"0\", \"1\", \"2\", \"3\", \"4\", \"5\"]\n",
    "\n",
    "# def make_radar_chart(name, stats, attribute_labels = labels, plot_markers = markers, plot_str_markers = str_markers):\n",
    "\n",
    "#     labels = np.array(attribute_labels)\n",
    "\n",
    "#     angles = np.linspace(0, 2*np.pi, len(labels), endpoint=False)\n",
    "#     stats = np.concatenate((stats,[stats[0]]))\n",
    "#     angles = np.concatenate((angles,[angles[0]]))\n",
    "\n",
    "#     fig= plt.figure()\n",
    "#     ax = fig.add_subplot(111, polar=True)\n",
    "#     ax.plot(angles, stats, 'o-', linewidth=2)\n",
    "#     ax.fill(angles, stats, alpha=0.25)\n",
    "#     ax.set_thetagrids(angles * 180/np.pi, labels)\n",
    "#     plt.yticks(markers)\n",
    "#     ax.set_title(name)\n",
    "#     ax.grid(True)\n",
    "\n",
    "#     fig.savefig(\"static/images/%s.png\" % name)\n",
    "\n",
    "# return plt.show()\n",
    "\n",
    "# make_radar_chart(\"Agni\", [2,3,4,4,5])\n",
    "\n",
    " \n",
    "# Set data\n",
    "df = pd.DataFrame({\n",
    "\n",
    "})\n",
    " \n",
    " \n",
    " \n",
    "# ------- PART 1: Create background\n",
    " \n",
    "# number of variable\n",
    "categories=list(df)[1:]\n",
    "N = len(categories)\n",
    " \n",
    "# What will be the angle of each axis in the plot? (we divide the plot / number of variable)\n",
    "angles = [n / float(N) * 2 * pi for n in range(N)]\n",
    "angles += angles[:1]\n",
    " \n",
    "# Initialise the spider plot\n",
    "ax = plt.subplot(111, polar=True)\n",
    " \n",
    "# If you want the first axis to be on top:\n",
    "ax.set_theta_offset(pi / 2)\n",
    "ax.set_theta_direction(-1)\n",
    " \n",
    "# Draw one axe per variable + add labels labels yet\n",
    "plt.xticks(angles[:-1], categories)\n",
    " \n",
    "# Draw ylabels\n",
    "ax.set_rlabel_position(0)\n",
    "plt.yticks([10,20,30], [\"10\",\"20\",\"30\"], color=\"grey\", size=7)\n",
    "plt.ylim(0,40)\n",
    " \n",
    " \n",
    "# ------- PART 2: Add plots\n",
    " \n",
    "# Plot each individual = each line of the data\n",
    "# I don't do a loop, because plotting more than 3 groups makes the chart unreadable\n",
    " \n",
    "# Ind1\n",
    "values=df.loc[0].drop('group').values.flatten().tolist()\n",
    "values += values[:1]\n",
    "ax.plot(angles, values, linewidth=1, linestyle='solid', label=\"group A\")\n",
    "ax.fill(angles, values, 'b', alpha=0.1)\n",
    " \n",
    "# Ind2\n",
    "values=df.loc[1].drop('group').values.flatten().tolist()\n",
    "values += values[:1]\n",
    "ax.plot(angles, values, linewidth=1, linestyle='solid', label=\"group B\")\n",
    "ax.fill(angles, values, 'r', alpha=0.1)\n",
    " \n",
    "# Add legend\n",
    "plt.legend(loc='upper right', bbox_to_anchor=(0.1, 0.1))\n"
   ]
  },
  {
   "cell_type": "markdown",
   "metadata": {},
   "source": [
    "##### Para achar nossa acuracia, usamos a técnica de random forest"
   ]
  },
  {
   "cell_type": "code",
   "execution_count": null,
   "metadata": {},
   "outputs": [],
   "source": [
    "X_num = data[['age', \"age_o\", 'importance_same_race',\n",
    " 'importance_same_religion',  'pref_o_attractive', 'pref_o_sincere',\n",
    " 'pref_o_intelligence', 'pref_o_funny', 'pref_o_ambitious',\n",
    " 'pref_o_shared_interests',  'attractive_o' ,'sinsere_o' ,'intelligence_o',\n",
    " 'funny_o' ,'ambitous_o', 'shared_interests_o' ,'attractive_important', 'sincere_important' ,'intellicence_important' ,'funny_important',\n",
    " 'ambtition_important' ,'shared_interests_important' ,'attractive', 'sincere',\n",
    " 'intelligence' ,'funny' ,'ambition' ,'attractive_partner', 'sincere_partner',\n",
    " 'intelligence_partner', 'funny_partner' ,'ambition_partner',\n",
    " 'shared_interests_partner', 'sports', 'tvsports' ,'exercise', 'dining',\n",
    " 'museums', 'art' ,'hiking' ,'gaming' ,'clubbing', 'reading', 'tv' ,'theater',\n",
    " 'movies' ,'concerts', 'music' ,'shopping' ,'yoga', \n",
    " 'like'  \n",
    "]]\n",
    "X_cat = data[['gender', 'race', \"race_o\", 'field', 'met'  ]]\n",
    "#o resultado que queremos obter no final do \"teste\"\n",
    "y = data['match']"
   ]
  },
  {
   "cell_type": "code",
   "execution_count": null,
   "metadata": {},
   "outputs": [],
   "source": [
    "from sklearn.preprocessing import OneHotEncoder\n",
    "\n",
    "encoder = OneHotEncoder()\n",
    "\n",
    "X_cat_encoded = encoder.fit_transform(X_cat)"
   ]
  },
  {
   "cell_type": "code",
   "execution_count": null,
   "metadata": {},
   "outputs": [],
   "source": [
    "encoder.categories_"
   ]
  },
  {
   "cell_type": "code",
   "execution_count": null,
   "metadata": {},
   "outputs": [],
   "source": [
    "X_cat_encoded.toarray()[0]"
   ]
  },
  {
   "cell_type": "code",
   "execution_count": null,
   "metadata": {},
   "outputs": [],
   "source": [
    "X_num_array = X_num.values"
   ]
  },
  {
   "cell_type": "code",
   "execution_count": null,
   "metadata": {},
   "outputs": [],
   "source": [
    "X_cat_encoded_array = X_cat_encoded.toarray()"
   ]
  },
  {
   "cell_type": "code",
   "execution_count": null,
   "metadata": {},
   "outputs": [],
   "source": [
    "X = np.concatenate((X_num_array, X_cat_encoded_array), axis=1)"
   ]
  },
  {
   "cell_type": "code",
   "execution_count": null,
   "metadata": {
    "scrolled": true
   },
   "outputs": [],
   "source": [
    "X[0]"
   ]
  },
  {
   "cell_type": "code",
   "execution_count": null,
   "metadata": {},
   "outputs": [],
   "source": [
    "y[0]"
   ]
  },
  {
   "cell_type": "code",
   "execution_count": null,
   "metadata": {},
   "outputs": [],
   "source": [
    "from sklearn.ensemble import RandomForestClassifier\n",
    "from sklearn.model_selection import train_test_split\n",
    "from sklearn.metrics import accuracy_score\n",
    "\n",
    "X_train, X_test, y_train, y_test = train_test_split(X, y)\n",
    "\n",
    "model = RandomForestClassifier()\n",
    "model.fit(X_train, y_train)\n",
    "y_pred = model.predict(X_test)\n",
    "\n",
    "print(accuracy_score(y_test, y_pred))"
   ]
  },
  {
   "cell_type": "code",
   "execution_count": null,
   "metadata": {},
   "outputs": [],
   "source": [
    "novo_dado = [\"female\", 18, 18,'Latino/Hispanic American', 'Latino/Hispanic American','Engineering', 80, 100, 80, 60, 70, 100, 100, 100, 100, 100, 100, 60, 100, 70, 70, 70, 80, 6, 8, 7, 5, 7, 8, 9, 7.5, 9, 8, 6, 0, 8, 10, 5, 7, 0, 7, 0, 6, 10, 6, 10, 8, 10, 8, 3, 10, 1]  \n",
    "novo_x_num = np.array([novo_dado[0]]).reshape(-1,1)\n",
    "novo_x_cat = [novo_dado[1:]]\n",
    "novo_x_num\n",
    "novo_x_cat"
   ]
  }
 ],
 "metadata": {
  "kernelspec": {
   "display_name": "Python 3",
   "language": "python",
   "name": "python3"
  },
  "language_info": {
   "codemirror_mode": {
    "name": "ipython",
    "version": 3
   },
   "file_extension": ".py",
   "mimetype": "text/x-python",
   "name": "python",
   "nbconvert_exporter": "python",
   "pygments_lexer": "ipython3",
   "version": "3.7.1"
  }
 },
 "nbformat": 4,
 "nbformat_minor": 2
}
