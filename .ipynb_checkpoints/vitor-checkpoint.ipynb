{
 "cells": [
  {
   "cell_type": "code",
   "execution_count": 58,
   "metadata": {
    "scrolled": true
   },
   "outputs": [
    {
     "name": "stderr",
     "output_type": "stream",
     "text": [
      "C:\\Users\\Vitor Bandeira\\AppData\\Local\\Continuum\\anaconda3\\lib\\site-packages\\IPython\\core\\interactiveshell.py:3020: DtypeWarning: Columns (3,10,11,15,16,17,18,19,39,40,41,42,43,44,51,52,53,54,55,73,74,75,76,77,78,79,80,81,82,83,84,85,86,87,88,89,107,109) have mixed types. Specify dtype option on import or set low_memory=False.\n",
      "  interactivity=interactivity, compiler=compiler, result=result)\n"
     ]
    }
   ],
   "source": [
    "import numpy as np\n",
    "import pandas as pd\n",
    "import matplotlib.pyplot as plt\n",
    "import seaborn as sns\n",
    "\n",
    "data_suja_completa=pd.read_csv(\"speeddating.csv\")\n",
    "\n",
    "\n",
    "data_suja_limpo=data_suja_completa[data_suja_completa!= \"?\" ]\n",
    "data_suja_limpo.dropna(inplace=True)\n",
    "\n",
    "\n",
    "data_suja_limpo.columns\n",
    "\n",
    "# data=data_suja_limpo.drop(['d_pref_o_funny' ,'d_pref_o_ambitious',\n",
    "#                      'd_pref_o_shared_interests','d_pref_o_sincere', 'd_pref_o_intelligence',\n",
    "#                      \"wave\",'d_pref_o_attractive',\"has_null\",\"d_age\",'d_importance_same_race',\n",
    "#                      'd_importance_same_religion',\"samerace\", \"d_d_age\", \"expected_happy_with_sd_people\", \n",
    "#                      \"expected_num_interested_in_me\", \"expected_num_matches\", \"guess_prob_liked\", \"decision\", \n",
    "#                      \"decision_o\", 'd_attractive_o',\n",
    "#  'd_sinsere_o' ,'d_intelligence_o' ,'d_funny_o', 'd_ambitous_o',\n",
    "#  'd_shared_interests_o', 'd_attractive_important' ,'d_sincere_important' ,'d_intellicence_important',\n",
    "#  'd_funny_important', 'd_ambtition_important',\n",
    "#  'd_shared_interests_important', 'd_attractive', 'd_sincere',\n",
    "#  'd_intelligence', 'd_funny' ,'d_ambition', 'd_attractive_partner' ,'d_sincere_partner',\n",
    "#  'd_intelligence_partner', 'd_funny_partner', 'd_ambition_partner',\n",
    "#  'd_shared_interests_partner', 'd_sports', 'd_tvsports',\n",
    "#  'd_exercise' ,'d_dining' ,'d_museums', 'd_art' ,'d_hiking', 'd_gaming',\n",
    "#  'd_clubbing' ,'d_reading', 'd_tv' ,'d_theater' ,'d_movies' ,'d_concerts',\n",
    "#  'd_music', 'd_shopping', 'd_yoga', 'd_interests_correlate' ,'d_expected_happy_with_sd_people',\n",
    "#  'd_expected_num_interested_in_me', 'd_expected_num_matches',\n",
    "#  'd_like', 'd_guess_prob_liked'], axis=1)\n",
    "\n",
    "\n",
    "#mudando de string para int\n",
    "data.age = data.age.astype(int)\n",
    "data.age_o = data.age_o.astype(int)\n",
    "data.match  = data.match.astype(int)\n",
    "data.exercise = data.exercise.astype(int)\n",
    "data.interests_correlate = data.interests_correlate.astype(float)\n",
    "data.pref_o_attractive = data.pref_o_attractive.astype(float)\n",
    "data.pref_o_sincere = data.pref_o_sincere.astype(float)\n",
    "data.pref_o_intelligence = data.pref_o_intelligence.astype(float)\n",
    "data.pref_o_funny = data.pref_o_funny.astype(float)\n",
    "data.pref_o_ambitious = data.pref_o_ambitious.astype(float)\n",
    "data.attractive = data.pref_o_attractive.astype(float)\n",
    "data.sincere = data.pref_o_sincere.astype(float)\n",
    "data.intelligence = data.pref_o_intelligence.astype(float)\n",
    "data.funny = data.pref_o_funny.astype(float)\n",
    "data.ambitious = data.pref_o_ambitious.astype(float)\n",
    "\n",
    "data=data_suja_limpo"
   ]
  },
  {
   "cell_type": "code",
   "execution_count": 17,
   "metadata": {},
   "outputs": [],
   "source": [
    "#mudando de string para int\n",
    "data.age = data.age.astype(int)\n",
    "data.age_o = data.age_o.astype(int)\n",
    "data.match  = data.match.astype(int)\n",
    "data.exercise = data.exercise.astype(int)\n",
    "data.interests_correlate = data.interests_correlate.astype(float)\n",
    "data.pref_o_attractive = data.pref_o_attractive.astype(float)\n",
    "data.pref_o_sincere = data.pref_o_sincere.astype(float)\n",
    "data.pref_o_intelligence = data.pref_o_intelligence.astype(float)\n",
    "data.pref_o_funny = data.pref_o_funny.astype(float)\n",
    "data.pref_o_ambitious = data.pref_o_ambitious.astype(float)\n",
    "data.attractive = data.pref_o_attractive.astype(float)\n",
    "data.sincere = data.pref_o_sincere.astype(float)\n",
    "data.intelligence = data.pref_o_intelligence.astype(float)\n",
    "data.funny = data.pref_o_funny.astype(float)\n",
    "data.ambitious = data.pref_o_ambitious.astype(float)"
   ]
  },
  {
   "cell_type": "code",
   "execution_count": 59,
   "metadata": {},
   "outputs": [
    {
     "name": "stdout",
     "output_type": "stream",
     "text": [
      "==================================================\n",
      "d_pref_o_funny\n",
      "[0-15]      0.160164\n",
      "[16-20]     0.164345\n",
      "[21-100]    0.242574\n",
      "dtype: float64\n",
      "==================================================\n",
      "d_pref_o_ambitious\n",
      "[0-15]      0.178733\n",
      "[16-20]     0.181208\n",
      "[21-100]    0.066667\n",
      "dtype: float64\n",
      "==================================================\n",
      "d_pref_o_shared_interests\n",
      "[0-15]      0.170872\n",
      "[16-20]     0.198675\n",
      "[21-100]    0.280000\n",
      "dtype: float64\n",
      "==================================================\n",
      "d_pref_o_sincere\n",
      "[0-15]      0.209544\n",
      "[16-20]     0.126685\n",
      "[21-100]    0.194872\n",
      "dtype: float64\n",
      "==================================================\n",
      "d_pref_o_intelligence\n",
      "[0-15]      0.182540\n",
      "[16-20]     0.165385\n",
      "[21-100]    0.191542\n",
      "dtype: float64\n",
      "==================================================\n",
      "d_pref_o_attractive\n",
      "[0-15]      0.202658\n",
      "[16-20]     0.176471\n",
      "[21-100]    0.160377\n",
      "dtype: float64\n",
      "==================================================\n",
      "d_age\n",
      "0     0.263636\n",
      "1     0.175214\n",
      "2     0.160622\n",
      "3     0.216783\n",
      "4     0.186916\n",
      "5     0.089888\n",
      "6     0.153846\n",
      "7     0.160714\n",
      "8     0.357143\n",
      "9     0.047619\n",
      "10    0.000000\n",
      "11    0.000000\n",
      "13    0.000000\n",
      "14    1.000000\n",
      "dtype: float64\n",
      "==================================================\n",
      "d_importance_same_race\n",
      "[0-1]     0.245562\n",
      "[2-5]     0.170029\n",
      "[6-10]    0.121212\n",
      "dtype: float64\n",
      "==================================================\n",
      "d_importance_same_religion\n",
      "[0-1]     0.252252\n",
      "[2-5]     0.146409\n",
      "[6-10]    0.138810\n",
      "dtype: float64\n",
      "==================================================\n",
      "samerace\n",
      "0    0.166939\n",
      "1    0.192220\n",
      "dtype: float64\n",
      "==================================================\n",
      "d_attractive_o\n",
      "[0-5]     0.044643\n",
      "[6-8]     0.215589\n",
      "[9-10]    0.376147\n",
      "dtype: float64\n",
      "==================================================\n",
      "d_sinsere_o\n",
      "[0-5]     0.052980\n",
      "[6-8]     0.186047\n",
      "[9-10]    0.239234\n",
      "dtype: float64\n",
      "==================================================\n",
      "d_intelligence_o\n",
      "[0-5]     0.009615\n",
      "[6-8]     0.177871\n",
      "[9-10]    0.252174\n",
      "dtype: float64\n",
      "==================================================\n",
      "d_funny_o\n",
      "[0-5]     0.065015\n",
      "[6-8]     0.197302\n",
      "[9-10]    0.363636\n",
      "dtype: float64\n",
      "==================================================\n",
      "d_ambitous_o\n",
      "[0-5]     0.090535\n",
      "[6-8]     0.191318\n",
      "[9-10]    0.245902\n",
      "dtype: float64\n",
      "==================================================\n",
      "d_shared_interests_o\n",
      "[0-5]     0.083179\n",
      "[6-8]     0.245940\n",
      "[9-10]    0.460526\n",
      "dtype: float64\n",
      "==================================================\n",
      "d_attractive_important\n",
      "[0-15]      0.212025\n",
      "[16-20]     0.199367\n",
      "[21-100]    0.134615\n",
      "dtype: float64\n",
      "==================================================\n",
      "d_sincere_important\n",
      "[0-15]      0.200426\n",
      "[16-20]     0.141304\n",
      "[21-100]    0.189573\n",
      "dtype: float64\n",
      "==================================================\n",
      "d_intellicence_important\n",
      "[0-15]      0.144828\n",
      "[16-20]     0.188100\n",
      "[21-100]    0.175393\n",
      "dtype: float64\n",
      "==================================================\n",
      "d_funny_important\n",
      "[0-15]      0.161290\n",
      "[16-20]     0.178571\n",
      "[21-100]    0.229299\n",
      "dtype: float64\n",
      "==================================================\n",
      "d_ambtition_important\n",
      "[0-15]      0.181401\n",
      "[16-20]     0.167702\n",
      "[21-100]    0.062500\n",
      "dtype: float64\n",
      "==================================================\n",
      "d_shared_interests_important\n",
      "[0-15]      0.170991\n",
      "[16-20]     0.200000\n",
      "[21-100]    0.228571\n",
      "dtype: float64\n",
      "==================================================\n",
      "d_attractive\n",
      "[0-5]     0.105590\n",
      "[6-8]     0.171355\n",
      "[9-10]    0.333333\n",
      "dtype: float64\n",
      "==================================================\n",
      "d_sincere\n",
      "[0-5]     0.102041\n",
      "[6-8]     0.176015\n",
      "[9-10]    0.186722\n",
      "dtype: float64\n",
      "==================================================\n",
      "d_intelligence\n",
      "[0-5]     0.120370\n",
      "[6-8]     0.155116\n",
      "[9-10]    0.236527\n",
      "dtype: float64\n",
      "==================================================\n",
      "d_funny\n",
      "[0-5]     0.142857\n",
      "[6-8]     0.154116\n",
      "[9-10]    0.207343\n",
      "dtype: float64\n",
      "==================================================\n",
      "d_ambition\n",
      "[0-5]     0.137931\n",
      "[6-8]     0.190037\n",
      "[9-10]    0.181518\n",
      "dtype: float64\n",
      "==================================================\n",
      "d_attractive_partner\n",
      "[0-5]     0.059347\n",
      "[6-8]     0.205882\n",
      "[9-10]    0.404040\n",
      "dtype: float64\n",
      "==================================================\n",
      "d_sincere_partner\n",
      "[0-5]     0.072848\n",
      "[6-8]     0.177515\n",
      "[9-10]    0.248869\n",
      "dtype: float64\n",
      "==================================================\n",
      "d_intelligence_partner\n",
      "[0-5]     0.031579\n",
      "[6-8]     0.172702\n",
      "[9-10]    0.251064\n",
      "dtype: float64\n",
      "==================================================\n",
      "d_funny_partner\n",
      "[0-5]     0.062500\n",
      "[6-8]     0.193182\n",
      "[9-10]    0.375000\n",
      "dtype: float64\n",
      "==================================================\n",
      "d_ambition_partner\n",
      "[0-5]     0.119658\n",
      "[6-8]     0.188474\n",
      "[9-10]    0.215116\n",
      "dtype: float64\n",
      "==================================================\n",
      "d_shared_interests_partner\n",
      "[0-5]     0.094096\n",
      "[6-8]     0.234624\n",
      "[9-10]    0.477612\n",
      "dtype: float64\n",
      "==================================================\n",
      "d_sports\n",
      "[0-5]     0.198565\n",
      "[6-8]     0.156010\n",
      "[9-10]    0.175732\n",
      "dtype: float64\n",
      "==================================================\n",
      "d_tvsports\n",
      "[0-5]     0.202435\n",
      "[6-8]     0.149425\n",
      "[9-10]    0.107692\n",
      "dtype: float64\n",
      "==================================================\n",
      "d_exercise\n",
      "[0-5]     0.194103\n",
      "[6-8]     0.179325\n",
      "[9-10]    0.131737\n",
      "dtype: float64\n",
      "==================================================\n",
      "d_dining\n",
      "[0-5]     0.189024\n",
      "[6-8]     0.169231\n",
      "[9-10]    0.184066\n",
      "dtype: float64\n",
      "==================================================\n",
      "d_museums\n",
      "[0-5]     0.134921\n",
      "[6-8]     0.163543\n",
      "[9-10]    0.267943\n",
      "dtype: float64\n",
      "==================================================\n",
      "d_art\n",
      "[0-5]     0.120944\n",
      "[6-8]     0.185047\n",
      "[9-10]    0.264368\n",
      "dtype: float64\n",
      "==================================================\n",
      "d_hiking\n",
      "[0-5]     0.193896\n",
      "[6-8]     0.137405\n",
      "[9-10]    0.244898\n",
      "dtype: float64\n",
      "==================================================\n",
      "d_gaming\n",
      "[0-5]     0.183267\n",
      "[6-8]     0.169065\n",
      "[9-10]    0.058824\n",
      "dtype: float64\n",
      "==================================================\n",
      "d_clubbing\n",
      "[0-5]     0.133501\n",
      "[6-8]     0.179752\n",
      "[9-10]    0.275449\n",
      "dtype: float64\n",
      "==================================================\n",
      "d_reading\n",
      "[0-5]     0.152047\n",
      "[6-8]     0.171904\n",
      "[9-10]    0.199405\n",
      "dtype: float64\n",
      "==================================================\n",
      "d_tv\n",
      "[0-5]     0.184322\n",
      "[6-8]     0.177528\n",
      "[9-10]    0.152672\n",
      "dtype: float64\n",
      "==================================================\n",
      "d_theater\n",
      "[0-5]     0.166667\n",
      "[6-8]     0.156109\n",
      "[9-10]    0.221088\n",
      "dtype: float64\n",
      "==================================================\n",
      "d_movies\n",
      "[0-5]     0.203704\n",
      "[6-8]     0.148551\n",
      "[9-10]    0.210407\n",
      "dtype: float64\n",
      "==================================================\n",
      "d_concerts\n",
      "[0-5]     0.108808\n",
      "[6-8]     0.148693\n",
      "[9-10]    0.304527\n",
      "dtype: float64\n",
      "==================================================\n",
      "d_music\n",
      "[0-5]     0.090909\n",
      "[6-8]     0.143369\n",
      "[9-10]    0.252632\n",
      "dtype: float64\n",
      "==================================================\n",
      "d_shopping\n",
      "[0-5]     0.164311\n",
      "[6-8]     0.193651\n",
      "[9-10]    0.191617\n",
      "dtype: float64\n",
      "==================================================\n",
      "d_yoga\n",
      "[0-5]     0.158254\n",
      "[6-8]     0.238739\n",
      "[9-10]    0.182796\n",
      "dtype: float64\n",
      "==================================================\n",
      "d_interests_correlate\n",
      "[-1-0]      0.171196\n",
      "[0-0.33]    0.143266\n",
      "[0.33-1]    0.220544\n",
      "dtype: float64\n",
      "==================================================\n",
      "d_expected_num_interested_in_me\n",
      "[0-3]      0.136471\n",
      "[10-20]    0.257919\n",
      "[4-9]      0.176617\n",
      "dtype: float64\n",
      "==================================================\n",
      "d_expected_num_matches\n",
      "[0-2]     0.114447\n",
      "[3-5]     0.217949\n",
      "[5-18]    0.320000\n",
      "dtype: float64\n",
      "==================================================\n",
      "d_like\n",
      "[0-5]     0.034700\n",
      "[6-8]     0.203733\n",
      "[9-10]    0.500000\n",
      "dtype: float64\n"
     ]
    }
   ],
   "source": [
    "v = 'd_d_age'\n",
    "\n",
    "for v in ['d_pref_o_funny' ,'d_pref_o_ambitious',\n",
    "        'd_pref_o_shared_interests','d_pref_o_sincere', 'd_pref_o_intelligence',\n",
    "        'd_pref_o_attractive',\"d_age\",'d_importance_same_race',\n",
    "        'd_importance_same_religion',\"samerace\", 'd_attractive_o',\n",
    "        'd_sinsere_o' ,'d_intelligence_o' ,'d_funny_o', 'd_ambitous_o',\n",
    "        'd_shared_interests_o', 'd_attractive_important' ,'d_sincere_important' ,'d_intellicence_important',\n",
    "        'd_funny_important', 'd_ambtition_important',\n",
    "        'd_shared_interests_important', 'd_attractive', 'd_sincere',\n",
    "        'd_intelligence', 'd_funny' ,'d_ambition', 'd_attractive_partner' ,'d_sincere_partner',\n",
    "        'd_intelligence_partner', 'd_funny_partner', 'd_ambition_partner',\n",
    "        'd_shared_interests_partner', 'd_sports', 'd_tvsports',\n",
    "        'd_exercise' ,'d_dining' ,'d_museums', 'd_art' ,'d_hiking', 'd_gaming',\n",
    "        'd_clubbing' ,'d_reading', 'd_tv' ,'d_theater' ,'d_movies' ,'d_concerts',\n",
    "        'd_music', 'd_shopping', 'd_yoga', 'd_interests_correlate' ,\n",
    "        'd_expected_num_interested_in_me', 'd_expected_num_matches',\n",
    "        'd_like']:\n",
    "    x = pd.crosstab(data['match'], data[v])\n",
    "    print('='*50)\n",
    "    print((x.loc[1,:] / x.sum()).sort_index())"
   ]
  },
  {
   "cell_type": "markdown",
   "metadata": {},
   "source": [
    "## Numero de match para ambos os sexos."
   ]
  },
  {
   "cell_type": "code",
   "execution_count": 5,
   "metadata": {
    "scrolled": false
   },
   "outputs": [
    {
     "data": {
      "text/plain": [
       "No match    429\n",
       "Match       102\n",
       "Name: match, dtype: int64"
      ]
     },
     "execution_count": 5,
     "metadata": {},
     "output_type": "execute_result"
    },
    {
     "data": {
      "image/png": "[encoded data removed]",
      "text/plain": [
       "<Figure size 432x288 with 1 Axes>"
      ]
     },
     "metadata": {
      "needs_background": "light"
     },
     "output_type": "display_data"
    }
   ],
   "source": [
    "\n",
    "homens=data[data.gender==\"male\"]\n",
    "mulheres=data[data.gender==\"female\"]\n",
    "\n",
    "match_homem = homens.match.value_counts()\n",
    "match_mulher = mulheres.match.value_counts()\n",
    "\n",
    "match_homem = match_homem.rename(index={0: 'No match',1: 'Match'})\n",
    "match_mulher = match_mulher.rename(index={0: 'No match',1: 'Match'})\n",
    "\n",
    "match_mulher.plot.bar()\n",
    "plt.title('Match entre as mulheres.')\n",
    "match_mulher"
   ]
  },
  {
   "cell_type": "code",
   "execution_count": 6,
   "metadata": {},
   "outputs": [
    {
     "data": {
      "text/plain": [
       "No match    433\n",
       "Match        84\n",
       "Name: match, dtype: int64"
      ]
     },
     "execution_count": 6,
     "metadata": {},
     "output_type": "execute_result"
    },
    {
     "data": {
      "image/png": "[encoded data removed]",
      "text/plain": [
       "<Figure size 432x288 with 1 Axes>"
      ]
     },
     "metadata": {
      "needs_background": "light"
     },
     "output_type": "display_data"
    }
   ],
   "source": [
    "match_homem.plot.bar()\n",
    "plt.title('Match entre os homens.')\n",
    "match_homem"
   ]
  },
  {
   "cell_type": "markdown",
   "metadata": {},
   "source": [
    "## “O que esperamos do outro” VS “O que o outro espera de você”"
   ]
  },
  {
   "cell_type": "code",
   "execution_count": 7,
   "metadata": {},
   "outputs": [
    {
     "data": {
      "image/png": "[encoded data removed]",
      "text/plain": [
       "<Figure size 432x288 with 1 Axes>"
      ]
     },
     "metadata": {
      "needs_background": "light"
     },
     "output_type": "display_data"
    }
   ],
   "source": [
    "partnere_attractive = data.pref_o_attractive.astype(float)\n",
    "you_attractive = data.attractive_important.astype(float)\n",
    "\n",
    "sns.scatterplot(you_attractive,partnere_attractive)\n",
    "plt.title('Ser atraente visualmente.')\n",
    "plt.xlabel('Quão importante é para você.')\n",
    "plt.ylabel('Quão importante é para o parceiro.')\n",
    "plt.show()"
   ]
  },
  {
   "cell_type": "code",
   "execution_count": 8,
   "metadata": {},
   "outputs": [
    {
     "data": {
      "image/png": "[encoded data removed]",
      "text/plain": [
       "<Figure size 432x288 with 1 Axes>"
      ]
     },
     "metadata": {
      "needs_background": "light"
     },
     "output_type": "display_data"
    }
   ],
   "source": [
    "partnere_intelligence = data.pref_o_intelligence.astype(float)\n",
    "you_intelligence = data.intellicence_important.astype(float)\n",
    "\n",
    "sns.scatterplot(you_intelligence,partnere_intelligence)\n",
    "plt.title('Ser inteligente.')\n",
    "plt.xlabel('Quão importante é para você.')\n",
    "plt.ylabel('Quão importante é para o parceiro.')\n",
    "plt.show()"
   ]
  },
  {
   "cell_type": "code",
   "execution_count": 26,
   "metadata": {},
   "outputs": [
    {
     "data": {
      "image/png": "[encoded data removed]",
      "text/plain": [
       "<Figure size 432x288 with 1 Axes>"
      ]
     },
     "metadata": {
      "needs_background": "light"
     },
     "output_type": "display_data"
    }
   ],
   "source": [
    "partnere_interes = data.pref_o_shared_interests.astype(float)\n",
    "you_interes = data.shared_interests_important.astype(float)\n",
    "\n",
    "sns.scatterplot(you_interes,partnere_interes)\n",
    "plt.title('Interesses compartilhados.')\n",
    "plt.xlabel('Quão importante é para você.')\n",
    "plt.ylabel('Quão importante é para o parceiro.')\n",
    "plt.show()"
   ]
  },
  {
   "cell_type": "code",
   "execution_count": 27,
   "metadata": {},
   "outputs": [
    {
     "data": {
      "image/png": "[encoded data removed]",
      "text/plain": [
       "<Figure size 432x288 with 1 Axes>"
      ]
     },
     "metadata": {
      "needs_background": "light"
     },
     "output_type": "display_data"
    }
   ],
   "source": [
    "partnere_sincere = data.pref_o_sincere.astype(float)\n",
    "you_sincere = data.sincere_important.astype(float)\n",
    "\n",
    "sns.scatterplot(you_sincere,partnere_sincere)\n",
    "plt.title('Ser sincero.')\n",
    "plt.xlabel('Quão importante é para você.')\n",
    "plt.ylabel('Quão importante é para o parceiro.')\n",
    "plt.show()"
   ]
  },
  {
   "cell_type": "code",
   "execution_count": 28,
   "metadata": {},
   "outputs": [
    {
     "data": {
      "image/png": "[encoded data removed]",
      "text/plain": [
       "<Figure size 432x288 with 1 Axes>"
      ]
     },
     "metadata": {
      "needs_background": "light"
     },
     "output_type": "display_data"
    }
   ],
   "source": [
    "partnere_funny = data.pref_o_funny.astype(float)\n",
    "you_funny = data.funny_important.astype(float)\n",
    "\n",
    "sns.scatterplot(you_funny,partnere_funny)\n",
    "plt.title('Ser engraçado.')\n",
    "plt.xlabel('Quão importante é para você.')\n",
    "plt.ylabel('Quão importante é para o parceiro.')\n",
    "plt.show()"
   ]
  },
  {
   "cell_type": "code",
   "execution_count": 29,
   "metadata": {},
   "outputs": [
    {
     "data": {
      "image/png": "[encoded data removed]",
      "text/plain": [
       "<Figure size 432x288 with 1 Axes>"
      ]
     },
     "metadata": {
      "needs_background": "light"
     },
     "output_type": "display_data"
    }
   ],
   "source": [
    "partnere_ambitious = data.pref_o_ambitious.astype(float)\n",
    "you_ambitious = data.ambtition_important.astype(float)\n",
    "\n",
    "sns.scatterplot(you_ambitious,partnere_ambitious)\n",
    "plt.title('Ser ambicioso.')\n",
    "plt.xlabel('Quão importante é para você.')\n",
    "plt.ylabel('Quão importante é para o parceiro.')\n",
    "plt.show()"
   ]
  },
  {
   "cell_type": "markdown",
   "metadata": {},
   "source": [
    "## Porcentagem de match."
   ]
  },
  {
   "cell_type": "code",
   "execution_count": 13,
   "metadata": {},
   "outputs": [
    {
     "data": {
      "text/plain": [
       "<matplotlib.axes._subplots.AxesSubplot at 0x1f7875e0630>"
      ]
     },
     "execution_count": 13,
     "metadata": {},
     "output_type": "execute_result"
    },
    {
     "data": {
      "image/png": "[encoded data removed]",
      "text/plain": [
       "<Figure size 432x288 with 1 Axes>"
      ]
     },
     "metadata": {
      "needs_background": "light"
     },
     "output_type": "display_data"
    }
   ],
   "source": [
    "match = data.match.value_counts()\n",
    "match_rate = match*0.1\n",
    "match_rate = match_rate.rename(index={0: 'No match',1: 'Match'})\n",
    "\n",
    "match_rate.plot.bar()"
   ]
  },
  {
   "cell_type": "code",
   "execution_count": 14,
   "metadata": {},
   "outputs": [
    {
     "data": {
      "text/plain": [
       "Index(['gender', 'age', 'age_o', 'race', 'race_o', 'importance_same_race',\n",
       "       'importance_same_religion', 'field', 'pref_o_attractive',\n",
       "       'pref_o_sincere', 'pref_o_intelligence', 'pref_o_funny',\n",
       "       'pref_o_ambitious', 'pref_o_shared_interests', 'attractive_o',\n",
       "       'sinsere_o', 'intelligence_o', 'funny_o', 'ambitous_o',\n",
       "       'shared_interests_o', 'attractive_important', 'sincere_important',\n",
       "       'intellicence_important', 'funny_important', 'ambtition_important',\n",
       "       'shared_interests_important', 'attractive', 'sincere', 'intelligence',\n",
       "       'funny', 'ambition', 'attractive_partner', 'sincere_partner',\n",
       "       'intelligence_partner', 'funny_partner', 'ambition_partner',\n",
       "       'shared_interests_partner', 'sports', 'tvsports', 'exercise', 'dining',\n",
       "       'museums', 'art', 'hiking', 'gaming', 'clubbing', 'reading', 'tv',\n",
       "       'theater', 'movies', 'concerts', 'music', 'shopping', 'yoga',\n",
       "       'interests_correlate', 'like', 'met', 'match'],\n",
       "      dtype='object')"
      ]
     },
     "execution_count": 14,
     "metadata": {},
     "output_type": "execute_result"
    }
   ],
   "source": [
    "data.columns"
   ]
  },
  {
   "cell_type": "code",
   "execution_count": 22,
   "metadata": {},
   "outputs": [
    {
     "data": {
      "text/plain": [
       "Text(0.5, 1.0, 'Porcentagem de Match por gênero')"
      ]
     },
     "execution_count": 22,
     "metadata": {},
     "output_type": "execute_result"
    },
    {
     "data": {
      "image/png": "[encoded data removed]",
      "text/plain": [
       "<Figure size 432x288 with 1 Axes>"
      ]
     },
     "metadata": {
      "needs_background": "light"
     },
     "output_type": "display_data"
    }
   ],
   "source": [
    "exercise=pd.crosstab(data.clubbing, data.match)\n",
    "exercise = (exercise/exercise.sum().sum()*100).round(decimals=0)\n",
    "exercise.plot(kind= \"bar\")\n",
    "plt.ylabel('Porcentagem de \"match\" (em %)')\n",
    "plt.legend([\"não match\", \"match\"])\n",
    "plt.title(\"Porcentagem de Match por gênero\")"
   ]
  },
  {
   "cell_type": "code",
   "execution_count": 23,
   "metadata": {},
   "outputs": [
    {
     "data": {
      "text/plain": [
       "Text(0.5, 1.0, 'Porcentagem de Match por gênero')"
      ]
     },
     "execution_count": 23,
     "metadata": {},
     "output_type": "execute_result"
    },
    {
     "data": {
      "image/png": "[encoded data removed]",
      "text/plain": [
       "<Figure size 432x288 with 1 Axes>"
      ]
     },
     "metadata": {
      "needs_background": "light"
     },
     "output_type": "display_data"
    }
   ],
   "source": [
    "exercise=pd.crosstab(data.movies, data.match)\n",
    "exercise = (exercise/exercise.sum().sum()*100).round(decimals=0)\n",
    "exercise.plot(kind= \"bar\")\n",
    "plt.ylabel('Porcentagem de \"match\" (em %)')\n",
    "plt.legend([\"não match\", \"match\"])\n",
    "plt.title(\"Porcentagem de Match por gênero\")"
   ]
  },
  {
   "cell_type": "code",
   "execution_count": 24,
   "metadata": {
    "scrolled": true
   },
   "outputs": [
    {
     "data": {
      "text/plain": [
       "Text(0.5, 1.0, 'Porcentagem de Match por gênero')"
      ]
     },
     "execution_count": 24,
     "metadata": {},
     "output_type": "execute_result"
    },
    {
     "data": {
      "image/png": "[encoded data removed]",
      "text/plain": [
       "<Figure size 432x288 with 1 Axes>"
      ]
     },
     "metadata": {
      "needs_background": "light"
     },
     "output_type": "display_data"
    }
   ],
   "source": [
    "exercise=pd.crosstab(data.shopping, data.match)\n",
    "exercise = (exercise/exercise.sum().sum()*100).round(decimals=0)\n",
    "exercise.plot(kind= \"bar\")\n",
    "plt.ylabel('Porcentagem de \"match\" (em %)')\n",
    "plt.legend([\"não match\", \"match\"])\n",
    "plt.title(\"Porcentagem de Match por gênero\")"
   ]
  },
  {
   "cell_type": "code",
   "execution_count": 34,
   "metadata": {
    "scrolled": true
   },
   "outputs": [
    {
     "name": "stdout",
     "output_type": "stream",
     "text": [
      "['gender' 'age' 'age_o' 'race' 'race_o' 'importance_same_race'\n",
      " 'importance_same_religion' 'field' 'pref_o_attractive' 'pref_o_sincere'\n",
      " 'pref_o_intelligence' 'pref_o_funny' 'pref_o_ambitious'\n",
      " 'pref_o_shared_interests' 'attractive_o' 'sinsere_o' 'intelligence_o'\n",
      " 'funny_o' 'ambitous_o' 'shared_interests_o' 'attractive_important'\n",
      " 'sincere_important' 'intellicence_important' 'funny_important'\n",
      " 'ambtition_important' 'shared_interests_important' 'attractive' 'sincere'\n",
      " 'intelligence' 'funny' 'ambition' 'attractive_partner' 'sincere_partner'\n",
      " 'intelligence_partner' 'funny_partner' 'ambition_partner'\n",
      " 'shared_interests_partner' 'sports' 'tvsports' 'exercise' 'dining'\n",
      " 'museums' 'art' 'hiking' 'gaming' 'clubbing' 'reading' 'tv' 'theater'\n",
      " 'movies' 'concerts' 'music' 'shopping' 'yoga' 'interests_correlate'\n",
      " 'like' 'met' 'match']\n"
     ]
    }
   ],
   "source": [
    "print(data.columns.values)"
   ]
  },
  {
   "cell_type": "code",
   "execution_count": null,
   "metadata": {},
   "outputs": [],
   "source": [
    "exercise=pd.crosstab(data.shopping, data.match)\n",
    "exercise = (exercise/exercise.sum().sum()*100).round(decimals=0)\n",
    "exercise.plot(kind= \"bar\")\n",
    "plt.ylabel('Porcentagem de \"match\" (em %)')\n",
    "plt.legend([\"não match\", \"match\"])\n",
    "plt.title(\"Porcentagem de Match por gênero\")\n",
    "\n",
    "partnere_funny = data.pref_o_funny.astype(float)\n",
    "you_funny = data.funny_important.astype(float)\n",
    "\n",
    "sns.scatterplot(you_funny,partnere_funny)\n",
    "plt.title('Ser engraçado.')\n",
    "plt.xlabel('Quão importante é para você.')\n",
    "plt.ylabel('Quão importante é para o parceiro.')\n",
    "plt.show()"
   ]
  },
  {
   "cell_type": "code",
   "execution_count": 54,
   "metadata": {},
   "outputs": [],
   "source": [
    "x=data.interests_correlate\n",
    "y=data.match\n"
   ]
  },
  {
   "cell_type": "code",
   "execution_count": null,
   "metadata": {},
   "outputs": [],
   "source": []
  },
  {
   "cell_type": "code",
   "execution_count": null,
   "metadata": {},
   "outputs": [],
   "source": []
  },
  {
   "cell_type": "code",
   "execution_count": null,
   "metadata": {},
   "outputs": [],
   "source": []
  },
  {
   "cell_type": "code",
   "execution_count": null,
   "metadata": {},
   "outputs": [],
   "source": []
  },
  {
   "cell_type": "code",
   "execution_count": null,
   "metadata": {},
   "outputs": [],
   "source": []
  },
  {
   "cell_type": "code",
   "execution_count": null,
   "metadata": {},
   "outputs": [],
   "source": []
  },
  {
   "cell_type": "code",
   "execution_count": null,
   "metadata": {},
   "outputs": [],
   "source": []
  },
  {
   "cell_type": "code",
   "execution_count": null,
   "metadata": {},
   "outputs": [],
   "source": []
  },
  {
   "cell_type": "code",
   "execution_count": null,
   "metadata": {},
   "outputs": [],
   "source": []
  },
  {
   "cell_type": "code",
   "execution_count": null,
   "metadata": {},
   "outputs": [],
   "source": []
  },
  {
   "cell_type": "code",
   "execution_count": null,
   "metadata": {},
   "outputs": [],
   "source": []
  },
  {
   "cell_type": "code",
   "execution_count": null,
   "metadata": {},
   "outputs": [],
   "source": []
  },
  {
   "cell_type": "code",
   "execution_count": null,
   "metadata": {},
   "outputs": [],
   "source": []
  }
 ],
 "metadata": {
  "kernelspec": {
   "display_name": "Python 3",
   "language": "python",
   "name": "python3"
  },
  "language_info": {
   "codemirror_mode": {
    "name": "ipython",
    "version": 3
   },
   "file_extension": ".py",
   "mimetype": "text/x-python",
   "name": "python",
   "nbconvert_exporter": "python",
   "pygments_lexer": "ipython3",
   "version": "3.7.1"
  }
 },
 "nbformat": 4,
 "nbformat_minor": 2
}
