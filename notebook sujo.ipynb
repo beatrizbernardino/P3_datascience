{
 "cells": [
  {
   "cell_type": "code",
   "execution_count": 2,
   "metadata": {},
   "outputs": [],
   "source": [
    "import numpy as np\n",
    "import pandas as pd\n",
    "import matplotlib.pyplot as plt\n",
    "import seaborn as sns"
   ]
  },
  {
   "cell_type": "code",
   "execution_count": 3,
   "metadata": {
    "scrolled": true
   },
   "outputs": [
    {
     "name": "stderr",
     "output_type": "stream",
     "text": [
      "/Users/beatrizrianhobernadinho/anaconda3/lib/python3.7/site-packages/IPython/core/interactiveshell.py:3057: DtypeWarning: Columns (3,10,11,15,16,17,18,19,39,40,41,42,43,44,51,52,53,54,55,73,74,75,76,77,78,79,80,81,82,83,84,85,86,87,88,89,107,109) have mixed types. Specify dtype option on import or set low_memory=False.\n",
      "  interactivity=interactivity, compiler=compiler, result=result)\n"
     ]
    }
   ],
   "source": [
    "data_suja_completa=pd.read_csv(\"speeddating.csv\")\n"
   ]
  },
  {
   "cell_type": "code",
   "execution_count": 4,
   "metadata": {},
   "outputs": [
    {
     "name": "stderr",
     "output_type": "stream",
     "text": [
      "/Users/beatrizrianhobernadinho/anaconda3/lib/python3.7/site-packages/pandas/core/ops.py:1649: FutureWarning: elementwise comparison failed; returning scalar instead, but in the future will perform elementwise comparison\n",
      "  result = method(y)\n"
     ]
    }
   ],
   "source": [
    "data_suja_limpo=data_suja_completa[data_suja_completa!= \"?\" ]\n",
    "data_suja_limpo.dropna(inplace=True)\n"
   ]
  },
  {
   "cell_type": "code",
   "execution_count": 5,
   "metadata": {
    "scrolled": true
   },
   "outputs": [
    {
     "data": {
      "text/plain": [
       "Index(['has_null', 'wave', 'gender', 'age', 'age_o', 'd_age', 'd_d_age',\n",
       "       'race', 'race_o', 'samerace',\n",
       "       ...\n",
       "       'd_expected_num_interested_in_me', 'd_expected_num_matches', 'like',\n",
       "       'guess_prob_liked', 'd_like', 'd_guess_prob_liked', 'met', 'decision',\n",
       "       'decision_o', 'match'],\n",
       "      dtype='object', length=123)"
      ]
     },
     "execution_count": 5,
     "metadata": {},
     "output_type": "execute_result"
    }
   ],
   "source": [
    "data_suja_limpo.columns"
   ]
  },
  {
   "cell_type": "code",
   "execution_count": 6,
   "metadata": {},
   "outputs": [],
   "source": [
    "# data=data_suja_limpo.drop(['d_pref_o_funny' ,'d_pref_o_ambitious',\n",
    "#                      'd_pref_o_shared_interests','d_pref_o_sincere', 'd_pref_o_intelligence',\n",
    "#                      \"wave\",'d_pref_o_attractive',\"has_null\",\"d_age\",'d_importance_same_race',\n",
    "#                      'd_importance_same_religion',\"samerace\", \"d_d_age\", \"expected_happy_with_sd_people\", \n",
    "#                      \"expected_num_interested_in_me\", \"expected_num_matches\", \"guess_prob_liked\", \"decision\", \n",
    "#                      \"decision_o\", 'd_attractive_o',\n",
    "#  'd_sinsere_o' ,'d_intelligence_o' ,'d_funny_o', 'd_ambitous_o',\n",
    "#  'd_shared_interests_o', 'd_attractive_important' ,'d_sincere_important' ,'d_intellicence_important',\n",
    "#  'd_funny_important', 'd_ambtition_important',\n",
    "#  'd_shared_interests_important', 'd_attractive', 'd_sincere',\n",
    "#  'd_intelligence', 'd_funny' ,'d_ambition', 'd_attractive_partner' ,'d_sincere_partner',\n",
    "#  'd_intelligence_partner', 'd_funny_partner', 'd_ambition_partner',\n",
    "#  'd_shared_interests_partner', 'd_sports', 'd_tvsports',\n",
    "#  'd_exercise' ,'d_dining' ,'d_museums', 'd_art' ,'d_hiking', 'd_gaming',\n",
    "#  'd_clubbing' ,'d_reading', 'd_tv' ,'d_theater' ,'d_movies' ,'d_concerts',\n",
    "#  'd_music', 'd_shopping', 'd_yoga', 'd_interests_correlate' ,'d_expected_happy_with_sd_people',\n",
    "#  'd_expected_num_interested_in_me', 'd_expected_num_matches',\n",
    "#  'd_like', 'd_guess_prob_liked'], axis=1)\n",
    "\n",
    "data=data_suja_limpo"
   ]
  },
  {
   "cell_type": "code",
   "execution_count": 7,
   "metadata": {},
   "outputs": [
    {
     "data": {
      "text/html": [
       "<div>\n",
       "<style scoped>\n",
       "    .dataframe tbody tr th:only-of-type {\n",
       "        vertical-align: middle;\n",
       "    }\n",
       "\n",
       "    .dataframe tbody tr th {\n",
       "        vertical-align: top;\n",
       "    }\n",
       "\n",
       "    .dataframe thead th {\n",
       "        text-align: right;\n",
       "    }\n",
       "</style>\n",
       "<table border=\"1\" class=\"dataframe\">\n",
       "  <thead>\n",
       "    <tr style=\"text-align: right;\">\n",
       "      <th>d_attractive_important</th>\n",
       "      <th>[0-15]</th>\n",
       "      <th>[16-20]</th>\n",
       "      <th>[21-100]</th>\n",
       "    </tr>\n",
       "    <tr>\n",
       "      <th>match</th>\n",
       "      <th></th>\n",
       "      <th></th>\n",
       "      <th></th>\n",
       "    </tr>\n",
       "  </thead>\n",
       "  <tbody>\n",
       "    <tr>\n",
       "      <th>0</th>\n",
       "      <td>24.0</td>\n",
       "      <td>24.0</td>\n",
       "      <td>34.0</td>\n",
       "    </tr>\n",
       "    <tr>\n",
       "      <th>1</th>\n",
       "      <td>6.0</td>\n",
       "      <td>6.0</td>\n",
       "      <td>5.0</td>\n",
       "    </tr>\n",
       "  </tbody>\n",
       "</table>\n",
       "</div>"
      ],
      "text/plain": [
       "d_attractive_important  [0-15]  [16-20]  [21-100]\n",
       "match                                            \n",
       "0                         24.0     24.0      34.0\n",
       "1                          6.0      6.0       5.0"
      ]
     },
     "execution_count": 7,
     "metadata": {},
     "output_type": "execute_result"
    }
   ],
   "source": [
    "funny=pd.crosstab(data.match, data.d_attractive_important)\n",
    "funny = (funny/funny.sum().sum()*100).round(decimals=0)\n",
    "funny"
   ]
  },
  {
   "cell_type": "code",
   "execution_count": 8,
   "metadata": {},
   "outputs": [
    {
     "data": {
      "text/plain": [
       "<BarContainer object of 1048 artists>"
      ]
     },
     "execution_count": 8,
     "metadata": {},
     "output_type": "execute_result"
    },
    {
     "data": {
      "image/png": "[encoded data removed]",
      "text/plain": [
       "<Figure size 1080x576 with 1 Axes>"
      ]
     },
     "metadata": {
      "needs_background": "light"
     },
     "output_type": "display_data"
    }
   ],
   "source": [
    "fig, ax = plt.subplots(figsize=(15, 8))\n",
    "ax.barh( data['d_attractive_important'], data['age'])"
   ]
  },
  {
   "cell_type": "code",
   "execution_count": 9,
   "metadata": {
    "scrolled": true
   },
   "outputs": [
    {
     "name": "stdout",
     "output_type": "stream",
     "text": [
      "['has_null' 'wave' 'gender' 'age' 'age_o' 'd_age' 'd_d_age' 'race'\n",
      " 'race_o' 'samerace' 'importance_same_race' 'importance_same_religion'\n",
      " 'd_importance_same_race' 'd_importance_same_religion' 'field'\n",
      " 'pref_o_attractive' 'pref_o_sincere' 'pref_o_intelligence' 'pref_o_funny'\n",
      " 'pref_o_ambitious' 'pref_o_shared_interests' 'd_pref_o_attractive'\n",
      " 'd_pref_o_sincere' 'd_pref_o_intelligence' 'd_pref_o_funny'\n",
      " 'd_pref_o_ambitious' 'd_pref_o_shared_interests' 'attractive_o'\n",
      " 'sinsere_o' 'intelligence_o' 'funny_o' 'ambitous_o' 'shared_interests_o'\n",
      " 'd_attractive_o' 'd_sinsere_o' 'd_intelligence_o' 'd_funny_o'\n",
      " 'd_ambitous_o' 'd_shared_interests_o' 'attractive_important'\n",
      " 'sincere_important' 'intellicence_important' 'funny_important'\n",
      " 'ambtition_important' 'shared_interests_important'\n",
      " 'd_attractive_important' 'd_sincere_important' 'd_intellicence_important'\n",
      " 'd_funny_important' 'd_ambtition_important'\n",
      " 'd_shared_interests_important' 'attractive' 'sincere' 'intelligence'\n",
      " 'funny' 'ambition' 'd_attractive' 'd_sincere' 'd_intelligence' 'd_funny'\n",
      " 'd_ambition' 'attractive_partner' 'sincere_partner'\n",
      " 'intelligence_partner' 'funny_partner' 'ambition_partner'\n",
      " 'shared_interests_partner' 'd_attractive_partner' 'd_sincere_partner'\n",
      " 'd_intelligence_partner' 'd_funny_partner' 'd_ambition_partner'\n",
      " 'd_shared_interests_partner' 'sports' 'tvsports' 'exercise' 'dining'\n",
      " 'museums' 'art' 'hiking' 'gaming' 'clubbing' 'reading' 'tv' 'theater'\n",
      " 'movies' 'concerts' 'music' 'shopping' 'yoga' 'd_sports' 'd_tvsports'\n",
      " 'd_exercise' 'd_dining' 'd_museums' 'd_art' 'd_hiking' 'd_gaming'\n",
      " 'd_clubbing' 'd_reading' 'd_tv' 'd_theater' 'd_movies' 'd_concerts'\n",
      " 'd_music' 'd_shopping' 'd_yoga' 'interests_correlate'\n",
      " 'd_interests_correlate' 'expected_happy_with_sd_people'\n",
      " 'expected_num_interested_in_me' 'expected_num_matches'\n",
      " 'd_expected_happy_with_sd_people' 'd_expected_num_interested_in_me'\n",
      " 'd_expected_num_matches' 'like' 'guess_prob_liked' 'd_like'\n",
      " 'd_guess_prob_liked' 'met' 'decision' 'decision_o' 'match']\n"
     ]
    }
   ],
   "source": [
    "print(data.columns.values)"
   ]
  },
  {
   "cell_type": "markdown",
   "metadata": {},
   "source": [
    "# Análise Exploratória "
   ]
  },
  {
   "cell_type": "code",
   "execution_count": 10,
   "metadata": {},
   "outputs": [
    {
     "data": {
      "text/plain": [
       "<matplotlib.axes._subplots.AxesSubplot at 0x1a219e3e48>"
      ]
     },
     "execution_count": 10,
     "metadata": {},
     "output_type": "execute_result"
    },
    {
     "data": {
      "image/png": "[encoded data removed]",
      "text/plain": [
       "<Figure size 432x288 with 1 Axes>"
      ]
     },
     "metadata": {},
     "output_type": "display_data"
    }
   ],
   "source": [
    "genero=data.gender.value_counts()\n",
    "genero.plot(kind='pie', autopct=\"%.2f\",legend=False)"
   ]
  },
  {
   "cell_type": "code",
   "execution_count": 11,
   "metadata": {
    "scrolled": false
   },
   "outputs": [
    {
     "data": {
      "text/plain": [
       "count    1048.000000\n",
       "mean       25.005725\n",
       "std         3.270365\n",
       "min        18.000000\n",
       "25%        22.000000\n",
       "50%        25.000000\n",
       "75%        27.000000\n",
       "max        35.000000\n",
       "Name: age, dtype: float64"
      ]
     },
     "execution_count": 11,
     "metadata": {},
     "output_type": "execute_result"
    },
    {
     "data": {
      "image/png": "[encoded data removed]",
      "text/plain": [
       "<Figure size 432x288 with 1 Axes>"
      ]
     },
     "metadata": {
      "needs_background": "light"
     },
     "output_type": "display_data"
    }
   ],
   "source": [
    "idade=data.age.astype(int)\n",
    "plt.boxplot(idade)\n",
    "plt.title('Idade dos participantes')\n",
    "plt.ylabel('idade')\n",
    "plt.grid(which='both')\n",
    "plt.tight_layout()\n",
    "\n",
    "idade.describe()"
   ]
  },
  {
   "cell_type": "code",
   "execution_count": 13,
   "metadata": {},
   "outputs": [
    {
     "data": {
      "text/plain": [
       "<matplotlib.axes._subplots.AxesSubplot at 0x1a21f93f28>"
      ]
     },
     "execution_count": 13,
     "metadata": {},
     "output_type": "execute_result"
    },
    {
     "data": {
      "image/png": "[encoded data removed]",
      "text/plain": [
       "<Figure size 432x288 with 1 Axes>"
      ]
     },
     "metadata": {
      "needs_background": "light"
     },
     "output_type": "display_data"
    }
   ],
   "source": [
    "a=pd.crosstab(data.age,data.match)\n",
    "data.age.hist()"
   ]
  },
  {
   "cell_type": "code",
   "execution_count": 322,
   "metadata": {
    "scrolled": false
   },
   "outputs": [
    {
     "data": {
      "text/plain": [
       "<BarContainer object of 1048 artists>"
      ]
     },
     "execution_count": 322,
     "metadata": {},
     "output_type": "execute_result"
    },
    {
     "data": {
      "image/png": "[encoded data removed]",
      "text/plain": [
       "<Figure size 1080x576 with 1 Axes>"
      ]
     },
     "metadata": {
      "needs_background": "light"
     },
     "output_type": "display_data"
    }
   ],
   "source": [
    "fig, ax = plt.subplots(figsize=(15, 8))\n",
    "ax.barh( data['race'], data['importance_same_religion'])"
   ]
  },
  {
   "cell_type": "code",
   "execution_count": 323,
   "metadata": {},
   "outputs": [
    {
     "data": {
      "text/plain": [
       "<matplotlib.axes._subplots.AxesSubplot at 0x1a42e04128>"
      ]
     },
     "execution_count": 323,
     "metadata": {},
     "output_type": "execute_result"
    },
    {
     "data": {
      "image/png": "[encoded data removed]",
      "text/plain": [
       "<Figure size 432x288 with 1 Axes>"
      ]
     },
     "metadata": {
      "needs_background": "light"
     },
     "output_type": "display_data"
    }
   ],
   "source": [
    "match = data.match.value_counts()\n",
    "match_rate = match*0.1\n",
    "match_rate = match_rate.rename(index={0: 'No match',1: 'Match'})\n",
    "\n",
    "match_rate.plot.bar()"
   ]
  },
  {
   "cell_type": "code",
   "execution_count": 324,
   "metadata": {},
   "outputs": [
    {
     "data": {
      "text/plain": [
       "Text(0.5, 1.0, 'Porcentagem de Match por gênero')"
      ]
     },
     "execution_count": 324,
     "metadata": {},
     "output_type": "execute_result"
    },
    {
     "data": {
      "image/png": "[encoded data removed]",
      "text/plain": [
       "<Figure size 432x288 with 1 Axes>"
      ]
     },
     "metadata": {
      "needs_background": "light"
     },
     "output_type": "display_data"
    }
   ],
   "source": [
    "match=pd.crosstab(data.gender, data.match)\n",
    "match = (match/match.sum().sum()*100).round(decimals=0)\n",
    "match.plot(kind= \"bar\")\n",
    "plt.ylabel('Porcentagem de \"match\" (em %)')\n",
    "plt.legend([\"não\", \"sim\"])\n",
    "plt.title(\"Porcentagem de Match por gênero\")"
   ]
  },
  {
   "cell_type": "code",
   "execution_count": 325,
   "metadata": {},
   "outputs": [
    {
     "data": {
      "text/html": [
       "<div>\n",
       "<style scoped>\n",
       "    .dataframe tbody tr th:only-of-type {\n",
       "        vertical-align: middle;\n",
       "    }\n",
       "\n",
       "    .dataframe tbody tr th {\n",
       "        vertical-align: top;\n",
       "    }\n",
       "\n",
       "    .dataframe thead th {\n",
       "        text-align: right;\n",
       "    }\n",
       "</style>\n",
       "<table border=\"1\" class=\"dataframe\">\n",
       "  <thead>\n",
       "    <tr style=\"text-align: right;\">\n",
       "      <th>match</th>\n",
       "      <th>0</th>\n",
       "      <th>1</th>\n",
       "    </tr>\n",
       "    <tr>\n",
       "      <th>gender</th>\n",
       "      <th></th>\n",
       "      <th></th>\n",
       "    </tr>\n",
       "  </thead>\n",
       "  <tbody>\n",
       "    <tr>\n",
       "      <th>female</th>\n",
       "      <td>41.0</td>\n",
       "      <td>10.0</td>\n",
       "    </tr>\n",
       "    <tr>\n",
       "      <th>male</th>\n",
       "      <td>41.0</td>\n",
       "      <td>8.0</td>\n",
       "    </tr>\n",
       "  </tbody>\n",
       "</table>\n",
       "</div>"
      ],
      "text/plain": [
       "match      0     1\n",
       "gender            \n",
       "female  41.0  10.0\n",
       "male    41.0   8.0"
      ]
     },
     "execution_count": 325,
     "metadata": {},
     "output_type": "execute_result"
    }
   ],
   "source": [
    "match"
   ]
  },
  {
   "cell_type": "code",
   "execution_count": 326,
   "metadata": {},
   "outputs": [],
   "source": [
    "disse_sim = data[data['match'] == 1]\n",
    "disse_nao  = data[data['match'] == 0]"
   ]
  },
  {
   "cell_type": "code",
   "execution_count": 327,
   "metadata": {},
   "outputs": [
    {
     "name": "stderr",
     "output_type": "stream",
     "text": [
      "/Users/beatrizrianhobernadinho/anaconda3/lib/python3.7/site-packages/ipykernel_launcher.py:6: MatplotlibDeprecationWarning: Adding an axes using the same arguments as a previous axes currently reuses the earlier instance.  In a future version, a new instance will always be created and returned.  Meanwhile, this warning can be suppressed, and the future behavior ensured, by passing a unique label to each axes instance.\n",
      "  \n"
     ]
    },
    {
     "data": {
      "text/plain": [
       "<matplotlib.legend.Legend at 0x1a38de6f28>"
      ]
     },
     "execution_count": 327,
     "metadata": {},
     "output_type": "execute_result"
    },
    {
     "data": {
      "image/png": "[encoded data removed]",
      "text/plain": [
       "<Figure size 720x720 with 1 Axes>"
      ]
     },
     "metadata": {
      "needs_background": "light"
     },
     "output_type": "display_data"
    },
    {
     "data": {
      "image/png": "[encoded data removed]",
      "text/plain": [
       "<Figure size 720x720 with 1 Axes>"
      ]
     },
     "metadata": {
      "needs_background": "light"
     },
     "output_type": "display_data"
    }
   ],
   "source": [
    "plt.figure(figsize=(10,10))\n",
    "plt.title('Race on \"Yes\" Decisions')\n",
    "sns.countplot(x='race', data=disse_sim, hue='race_o')\n",
    "plt.legend(loc='upper right')\n",
    "\n",
    "plt.subplot(111)\n",
    "plt.figure(figsize=(10,10))\n",
    "plt.title('Race on \"No\" Decisions')\n",
    "sns.countplot(x='race', data=disse_nao, hue='race_o')\n",
    "plt.legend(loc='upper right')\n"
   ]
  },
  {
   "cell_type": "code",
   "execution_count": 328,
   "metadata": {},
   "outputs": [
    {
     "data": {
      "image/png": "[encoded data removed]",
      "text/plain": [
       "<Figure size 432x288 with 1 Axes>"
      ]
     },
     "metadata": {
      "needs_background": "light"
     },
     "output_type": "display_data"
    }
   ],
   "source": [
    "partnere_attractive = data.pref_o_attractive.astype(float)\n",
    "you_attractive = data.attractive_important.astype(float)\n",
    "\n",
    "sns.scatterplot(you_attractive,partnere_attractive)\n",
    "plt.title('Ser atraente visualmente.')\n",
    "plt.xlabel('Quão importante é para você.')\n",
    "plt.ylabel('Quão importante é para o parceiro.')\n",
    "plt.show()"
   ]
  },
  {
   "cell_type": "code",
   "execution_count": 329,
   "metadata": {},
   "outputs": [
    {
     "data": {
      "image/png": "[encoded data removed]",
      "text/plain": [
       "<Figure size 432x288 with 1 Axes>"
      ]
     },
     "metadata": {
      "needs_background": "light"
     },
     "output_type": "display_data"
    }
   ],
   "source": [
    "partnere_intelligence = data.pref_o_intelligence.astype(float)\n",
    "you_intelligence = data.intellicence_important.astype(float)\n",
    "\n",
    "sns.scatterplot(you_intelligence,partnere_intelligence)\n",
    "plt.title('Ser inteligente.')\n",
    "plt.xlabel('Quão importante é para você.')\n",
    "plt.ylabel('Quão importante é para o parceiro.')\n",
    "plt.show()"
   ]
  },
  {
   "cell_type": "code",
   "execution_count": 330,
   "metadata": {},
   "outputs": [
    {
     "data": {
      "image/png": "[encoded data removed]",
      "text/plain": [
       "<Figure size 432x288 with 1 Axes>"
      ]
     },
     "metadata": {
      "needs_background": "light"
     },
     "output_type": "display_data"
    }
   ],
   "source": [
    "partnere_interes = data.pref_o_shared_interests\n",
    "you_interes = data.shared_interests_important\n",
    "\n",
    "sns.scatterplot(you_interes,partnere_interes)\n",
    "plt.title('Interesses compartilhados.')\n",
    "plt.xlabel('Quão importante é para você.')\n",
    "plt.ylabel('Quão importante é para o parceiro.')\n",
    "plt.show()"
   ]
  },
  {
   "cell_type": "code",
   "execution_count": 331,
   "metadata": {},
   "outputs": [],
   "source": [
    "X_num = data[['age', \"age_o\", 'importance_same_race',\n",
    " 'importance_same_religion',  'pref_o_attractive', 'pref_o_sincere',\n",
    " 'pref_o_intelligence', 'pref_o_funny', 'pref_o_ambitious',\n",
    " 'pref_o_shared_interests',  'attractive_o' ,'sinsere_o' ,'intelligence_o',\n",
    " 'funny_o' ,'ambitous_o', 'shared_interests_o' ,'attractive_important', 'sincere_important' ,'intellicence_important' ,'funny_important',\n",
    " 'ambtition_important' ,'shared_interests_important' ,'attractive', 'sincere',\n",
    " 'intelligence' ,'funny' ,'ambition' ,'attractive_partner', 'sincere_partner',\n",
    " 'intelligence_partner', 'funny_partner' ,'ambition_partner',\n",
    " 'shared_interests_partner', 'sports', 'tvsports' ,'exercise', 'dining',\n",
    " 'museums', 'art' ,'hiking' ,'gaming' ,'clubbing', 'reading', 'tv' ,'theater',\n",
    " 'movies' ,'concerts', 'music' ,'shopping' ,'yoga', \n",
    " 'like'  \n",
    "]]\n",
    "X_cat = data[['gender', 'race', \"race_o\", 'field', 'met'  ]]"
   ]
  },
  {
   "cell_type": "code",
   "execution_count": 332,
   "metadata": {},
   "outputs": [],
   "source": [
    "y = data['match']"
   ]
  },
  {
   "cell_type": "code",
   "execution_count": 333,
   "metadata": {},
   "outputs": [],
   "source": [
    "from sklearn.preprocessing import OneHotEncoder\n",
    "\n",
    "encoder = OneHotEncoder()\n",
    "\n",
    "X_cat_encoded = encoder.fit_transform(X_cat)"
   ]
  },
  {
   "cell_type": "code",
   "execution_count": 334,
   "metadata": {},
   "outputs": [
    {
     "data": {
      "text/plain": [
       "[array(['female', 'male'], dtype=object),\n",
       " array([\"'Asian/Pacific Islander/Asian-American'\",\n",
       "        \"'Black/African American'\", \"'Latino/Hispanic American'\",\n",
       "        'European/Caucasian-American', 'Other'], dtype=object),\n",
       " array([\"'Asian/Pacific Islander/Asian-American'\",\n",
       "        \"'Black/African American'\", \"'Latino/Hispanic American'\",\n",
       "        'European/Caucasian-American', 'Other'], dtype=object),\n",
       " array([\"'Applied Maths/Econs'\", \"'Art History/medicine'\",\n",
       "        \"'Biomedical Engineering'\", \"'Business & International Affairs'\",\n",
       "        \"'Business [MBA]'\", \"'Business- MBA'\", \"'Computer Science'\",\n",
       "        \"'Economics and Political Science'\", \"'Economics; Sociology'\",\n",
       "        \"'Educational Psychology'\", \"'Electrical Engineering'\",\n",
       "        \"'Elementary/Childhood Education [MA]'\", \"'German Literature'\",\n",
       "        \"'International Educational Development'\",\n",
       "        \"'Masters in Public Administration'\", \"'Masters of Social Work'\",\n",
       "        \"'Mathematical Finance'\", \"'Mechanical Engineering'\",\n",
       "        \"'Operations Research [SEAS]'\", \"'Operations Research'\",\n",
       "        \"'Organizational Psychology'\", \"'Social Work'\",\n",
       "        \"'Speech Language Pathology'\", \"'TC [Health Ed]'\",\n",
       "        \"'Undergrad - GS'\", \"'financial math'\", \"'political science'\",\n",
       "        \"'psychology and english'\", \"'social work'\", 'Business',\n",
       "        'Chemistry', 'Classics', 'Communications', 'Economics',\n",
       "        'Engineering', 'English', 'Film', 'Finanace', 'Finance',\n",
       "        'Finance&Economics', 'Journalism', 'LAW', 'Law', 'MBA',\n",
       "        'Marketing', 'Mathematics', 'Medicine', 'Polish', 'Psychology',\n",
       "        'Sociology', 'Statistics', 'chemistry', 'law', 'microbiology',\n",
       "        'philosophy', 'psychology'], dtype=object),\n",
       " array(['0', '1', '3'], dtype=object)]"
      ]
     },
     "execution_count": 334,
     "metadata": {},
     "output_type": "execute_result"
    }
   ],
   "source": [
    "encoder.categories_"
   ]
  },
  {
   "cell_type": "code",
   "execution_count": 335,
   "metadata": {},
   "outputs": [
    {
     "data": {
      "text/plain": [
       "array([1., 0., 1., 0., 0., 0., 0., 0., 0., 0., 1., 0., 0., 0., 0., 0., 0.,\n",
       "       0., 0., 0., 0., 0., 0., 0., 0., 0., 0., 0., 0., 0., 0., 0., 0., 0.,\n",
       "       0., 0., 0., 0., 0., 0., 0., 0., 0., 0., 0., 0., 0., 0., 0., 0., 0.,\n",
       "       0., 0., 0., 1., 0., 0., 0., 0., 0., 0., 0., 0., 0., 0., 0., 0., 0.,\n",
       "       1., 0., 0.])"
      ]
     },
     "execution_count": 335,
     "metadata": {},
     "output_type": "execute_result"
    }
   ],
   "source": [
    "X_cat_encoded.toarray()[0]"
   ]
  },
  {
   "cell_type": "code",
   "execution_count": 336,
   "metadata": {},
   "outputs": [],
   "source": [
    "X_num_array = X_num.values"
   ]
  },
  {
   "cell_type": "code",
   "execution_count": 337,
   "metadata": {},
   "outputs": [],
   "source": [
    "X_cat_encoded_array = X_cat_encoded.toarray()"
   ]
  },
  {
   "cell_type": "code",
   "execution_count": 338,
   "metadata": {},
   "outputs": [],
   "source": [
    "X = np.concatenate((X_num_array, X_cat_encoded_array), axis=1)"
   ]
  },
  {
   "cell_type": "code",
   "execution_count": 339,
   "metadata": {},
   "outputs": [
    {
     "data": {
      "text/plain": [
       "array(['21', '27', '2', '4', '35', '20', '20', '20', '0', '5', '6', '8',\n",
       "       '8', '8', '8', '6', '15', '20', '20', '15', '15', '15', '6', '8',\n",
       "       '8', '8', '7', '6', '9', '7', '7', '6', '5', '9', '2', '8', '9',\n",
       "       '1', '1', '5', '1', '5', '6', '9', '1', '10', '10', '9', '8', '1',\n",
       "       '7', 1.0, 0.0, 1.0, 0.0, 0.0, 0.0, 0.0, 0.0, 0.0, 0.0, 1.0, 0.0,\n",
       "       0.0, 0.0, 0.0, 0.0, 0.0, 0.0, 0.0, 0.0, 0.0, 0.0, 0.0, 0.0, 0.0,\n",
       "       0.0, 0.0, 0.0, 0.0, 0.0, 0.0, 0.0, 0.0, 0.0, 0.0, 0.0, 0.0, 0.0,\n",
       "       0.0, 0.0, 0.0, 0.0, 0.0, 0.0, 0.0, 0.0, 0.0, 0.0, 0.0, 0.0, 0.0,\n",
       "       0.0, 0.0, 0.0, 1.0, 0.0, 0.0, 0.0, 0.0, 0.0, 0.0, 0.0, 0.0, 0.0,\n",
       "       0.0, 0.0, 0.0, 0.0, 1.0, 0.0, 0.0], dtype=object)"
      ]
     },
     "execution_count": 339,
     "metadata": {},
     "output_type": "execute_result"
    }
   ],
   "source": [
    "X[0]"
   ]
  },
  {
   "cell_type": "code",
   "execution_count": 340,
   "metadata": {},
   "outputs": [
    {
     "data": {
      "text/plain": [
       "0"
      ]
     },
     "execution_count": 340,
     "metadata": {},
     "output_type": "execute_result"
    }
   ],
   "source": [
    "y[0]"
   ]
  },
  {
   "cell_type": "code",
   "execution_count": 341,
   "metadata": {},
   "outputs": [
    {
     "name": "stdout",
     "output_type": "stream",
     "text": [
      "0.8473282442748091\n"
     ]
    },
    {
     "name": "stderr",
     "output_type": "stream",
     "text": [
      "/Users/beatrizrianhobernadinho/anaconda3/lib/python3.7/site-packages/sklearn/ensemble/forest.py:245: FutureWarning: The default value of n_estimators will change from 10 in version 0.20 to 100 in 0.22.\n",
      "  \"10 in version 0.20 to 100 in 0.22.\", FutureWarning)\n"
     ]
    }
   ],
   "source": [
    "from sklearn.ensemble import RandomForestClassifier\n",
    "from sklearn.model_selection import train_test_split\n",
    "from sklearn.metrics import accuracy_score\n",
    "\n",
    "X_train, X_test, y_train, y_test = train_test_split(X, y)\n",
    "\n",
    "model = RandomForestClassifier()\n",
    "model.fit(X_train, y_train)\n",
    "y_pred = model.predict(X_test)\n",
    "\n",
    "print(accuracy_score(y_test, y_pred))"
   ]
  },
  {
   "cell_type": "code",
   "execution_count": 342,
   "metadata": {},
   "outputs": [],
   "source": [
    "novo_dado = [\"female\", 18, 18,'Latino/Hispanic American', 'Latino/Hispanic American','Engineering', 80, 100, 80, 60, 70, 100, 100, 100, 100, 100, 100, 60, 100, 70, 70, 70, 80, 6, 8, 7, 5, 7, 8, 9, 7.5, 9, 8, 6, 0, 8, 10, 5, 7, 0, 7, 0, 6, 10, 6, 10, 8, 10, 8, 3, 10, 1]  \n",
    "novo_x_num = np.array([novo_dado[0]]).reshape(-1,1)\n",
    "novo_x_cat = [novo_dado[1:]]"
   ]
  },
  {
   "cell_type": "code",
   "execution_count": 343,
   "metadata": {
    "scrolled": true
   },
   "outputs": [
    {
     "data": {
      "text/plain": [
       "array([['female']], dtype='<U6')"
      ]
     },
     "execution_count": 343,
     "metadata": {},
     "output_type": "execute_result"
    }
   ],
   "source": [
    "novo_x_num"
   ]
  },
  {
   "cell_type": "code",
   "execution_count": 344,
   "metadata": {},
   "outputs": [
    {
     "data": {
      "text/plain": [
       "[[18,\n",
       "  18,\n",
       "  'Latino/Hispanic American',\n",
       "  'Latino/Hispanic American',\n",
       "  'Engineering',\n",
       "  80,\n",
       "  100,\n",
       "  80,\n",
       "  60,\n",
       "  70,\n",
       "  100,\n",
       "  100,\n",
       "  100,\n",
       "  100,\n",
       "  100,\n",
       "  100,\n",
       "  60,\n",
       "  100,\n",
       "  70,\n",
       "  70,\n",
       "  70,\n",
       "  80,\n",
       "  6,\n",
       "  8,\n",
       "  7,\n",
       "  5,\n",
       "  7,\n",
       "  8,\n",
       "  9,\n",
       "  7.5,\n",
       "  9,\n",
       "  8,\n",
       "  6,\n",
       "  0,\n",
       "  8,\n",
       "  10,\n",
       "  5,\n",
       "  7,\n",
       "  0,\n",
       "  7,\n",
       "  0,\n",
       "  6,\n",
       "  10,\n",
       "  6,\n",
       "  10,\n",
       "  8,\n",
       "  10,\n",
       "  8,\n",
       "  3,\n",
       "  10,\n",
       "  1]]"
      ]
     },
     "execution_count": 344,
     "metadata": {},
     "output_type": "execute_result"
    }
   ],
   "source": [
    "novo_x_cat"
   ]
  },
  {
   "cell_type": "code",
   "execution_count": null,
   "metadata": {},
   "outputs": [],
   "source": []
  },
  {
   "cell_type": "code",
   "execution_count": null,
   "metadata": {},
   "outputs": [],
   "source": []
  },
  {
   "cell_type": "code",
   "execution_count": 345,
   "metadata": {},
   "outputs": [
    {
     "data": {
      "text/plain": [
       "7     2816\n",
       "8     2173\n",
       "6     1100\n",
       "9      707\n",
       "5      642\n",
       "10     246\n",
       "4      238\n",
       "3      145\n",
       "?      105\n",
       "7       98\n",
       "8       44\n",
       "10      22\n",
       "9       22\n",
       "2       20\n",
       "Name: attractive, dtype: int64"
      ]
     },
     "execution_count": 345,
     "metadata": {},
     "output_type": "execute_result"
    }
   ],
   "source": [
    "data_suja_completa.attractive.value_counts()"
   ]
  },
  {
   "cell_type": "code",
   "execution_count": null,
   "metadata": {},
   "outputs": [],
   "source": []
  },
  {
   "cell_type": "code",
   "execution_count": null,
   "metadata": {},
   "outputs": [],
   "source": []
  }
 ],
 "metadata": {
  "kernelspec": {
   "display_name": "Python 3",
   "language": "python",
   "name": "python3"
  },
  "language_info": {
   "codemirror_mode": {
    "name": "ipython",
    "version": 3
   },
   "file_extension": ".py",
   "mimetype": "text/x-python",
   "name": "python",
   "nbconvert_exporter": "python",
   "pygments_lexer": "ipython3",
   "version": "3.7.3"
  }
 },
 "nbformat": 4,
 "nbformat_minor": 2
}
