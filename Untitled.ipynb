{
 "cells": [
  {
   "cell_type": "code",
<<<<<<< HEAD
   "execution_count": 18,
=======
   "execution_count": 19,
>>>>>>> e78c0ee027f91c31fd3e742743a7a0e91aae63dd
   "metadata": {},
   "outputs": [],
   "source": [
    "import numpy as np\n",
    "import pandas as pd\n",
    "import matplotlib.pyplot as plt\n",
    "import seaborn as sns"
   ]
  },
  {
   "cell_type": "code",
<<<<<<< HEAD
   "execution_count": 19,
   "metadata": {
    "scrolled": true
   },
   "outputs": [
    {
     "name": "stderr",
     "output_type": "stream",
     "text": [
      "C:\\Users\\Vitor Bandeira\\AppData\\Local\\Continuum\\anaconda3\\lib\\site-packages\\IPython\\core\\interactiveshell.py:3020: DtypeWarning: Columns (3,10,11,15,16,17,18,19,39,40,41,42,43,44,51,52,53,54,55,73,74,75,76,77,78,79,80,81,82,83,84,85,86,87,88,89,107,109) have mixed types. Specify dtype option on import or set low_memory=False.\n",
      "  interactivity=interactivity, compiler=compiler, result=result)\n"
     ]
    }
   ],
=======
   "execution_count": 5,
   "metadata": {
    "scrolled": true
   },
   "outputs": [],
>>>>>>> e78c0ee027f91c31fd3e742743a7a0e91aae63dd
   "source": [
    "data_suja_completa=pd.read_csv(\"speeddating.csv\")\n"
   ]
  },
  {
   "cell_type": "code",
<<<<<<< HEAD
   "execution_count": 20,
=======
   "execution_count": 17,
>>>>>>> e78c0ee027f91c31fd3e742743a7a0e91aae63dd
   "metadata": {},
   "outputs": [],
   "source": [
    "data_suja_limpo=data_suja_completa[data_suja_completa!= \"?\" ]\n",
    "data_suja_limpo.dropna(inplace=True)\n"
   ]
  },
  {
   "cell_type": "code",
<<<<<<< HEAD
   "execution_count": 21,
=======
   "execution_count": 133,
>>>>>>> e78c0ee027f91c31fd3e742743a7a0e91aae63dd
   "metadata": {
    "scrolled": true
   },
   "outputs": [
    {
     "data": {
      "text/plain": [
       "Index(['has_null', 'wave', 'gender', 'age', 'age_o', 'd_age', 'd_d_age',\n",
       "       'race', 'race_o', 'samerace',\n",
       "       ...\n",
       "       'd_expected_num_interested_in_me', 'd_expected_num_matches', 'like',\n",
       "       'guess_prob_liked', 'd_like', 'd_guess_prob_liked', 'met', 'decision',\n",
       "       'decision_o', 'match'],\n",
       "      dtype='object', length=123)"
      ]
     },
<<<<<<< HEAD
     "execution_count": 21,
=======
     "execution_count": 133,
>>>>>>> e78c0ee027f91c31fd3e742743a7a0e91aae63dd
     "metadata": {},
     "output_type": "execute_result"
    }
   ],
   "source": [
    "data_suja_limpo.columns"
   ]
  },
  {
   "cell_type": "code",
<<<<<<< HEAD
   "execution_count": 22,
=======
   "execution_count": 39,
>>>>>>> e78c0ee027f91c31fd3e742743a7a0e91aae63dd
   "metadata": {},
   "outputs": [],
   "source": [
    "data=data_suja_limpo.drop(['d_pref_o_funny' ,'d_pref_o_ambitious',\n",
    "                     'd_pref_o_shared_interests','d_pref_o_sincere', 'd_pref_o_intelligence',\n",
    "                     \"wave\",'d_pref_o_attractive',\"has_null\",\"d_age\",'d_importance_same_race',\n",
    "                     'd_importance_same_religion',\"samerace\", \"d_d_age\", \"expected_happy_with_sd_people\", \n",
    "                     \"expected_num_interested_in_me\", \"expected_num_matches\", \"guess_prob_liked\", \"decision\", \n",
    "                     \"decision_o\", 'd_attractive_o',\n",
    " 'd_sinsere_o' ,'d_intelligence_o' ,'d_funny_o', 'd_ambitous_o',\n",
    " 'd_shared_interests_o', 'd_attractive_important' ,'d_sincere_important' ,'d_intellicence_important',\n",
    " 'd_funny_important', 'd_ambtition_important',\n",
    " 'd_shared_interests_important', 'd_attractive', 'd_sincere',\n",
    " 'd_intelligence', 'd_funny' ,'d_ambition', 'd_attractive_partner' ,'d_sincere_partner',\n",
    " 'd_intelligence_partner', 'd_funny_partner', 'd_ambition_partner',\n",
    " 'd_shared_interests_partner', 'd_sports', 'd_tvsports',\n",
    " 'd_exercise' ,'d_dining' ,'d_museums', 'd_art' ,'d_hiking', 'd_gaming',\n",
    " 'd_clubbing' ,'d_reading', 'd_tv' ,'d_theater' ,'d_movies' ,'d_concerts',\n",
    " 'd_music', 'd_shopping', 'd_yoga', 'd_interests_correlate' ,'d_expected_happy_with_sd_people',\n",
    " 'd_expected_num_interested_in_me', 'd_expected_num_matches',\n",
    " 'd_like', 'd_guess_prob_liked'], axis=1)\n"
   ]
  },
  {
   "cell_type": "code",
<<<<<<< HEAD
   "execution_count": 23,
   "metadata": {},
   "outputs": [
    {
     "name": "stderr",
     "output_type": "stream",
     "text": [
      "C:\\Users\\Vitor Bandeira\\AppData\\Local\\Continuum\\anaconda3\\lib\\site-packages\\ipykernel_launcher.py:16: UserWarning: Pandas doesn't allow columns to be created via a new attribute name - see https://pandas.pydata.org/pandas-docs/stable/indexing.html#attribute-access\n",
      "  app.launch_new_instance()\n"
     ]
    }
   ],
   "source": [
    "#mudando de string para int\n",
    "data.age = data.age.astype(int)\n",
    "data.age_o = data.age_o.astype(int)\n",
    "data.match  = data.match.astype(int)\n",
    "data.exercise = data.exercise.astype(int)\n",
    "data.interests_correlate = data.interests_correlate.astype(float)\n",
    "data.pref_o_attractive = data.pref_o_attractive.astype(float)\n",
    "data.pref_o_sincere = data.pref_o_sincere.astype(float)\n",
    "data.pref_o_intelligence = data.pref_o_intelligence.astype(float)\n",
    "data.pref_o_funny = data.pref_o_funny.astype(float)\n",
    "data.pref_o_ambitious = data.pref_o_ambitious.astype(float)\n",
    "data.attractive = data.pref_o_attractive.astype(float)\n",
    "data.sincere = data.pref_o_sincere.astype(float)\n",
    "data.intelligence = data.pref_o_intelligence.astype(float)\n",
    "data.funny = data.pref_o_funny.astype(float)\n",
    "data.ambitious = data.pref_o_ambitious.astype(float)"
   ]
  },
  {
   "cell_type": "code",
   "execution_count": 24,
=======
   "execution_count": 40,
>>>>>>> e78c0ee027f91c31fd3e742743a7a0e91aae63dd
   "metadata": {
    "scrolled": false
   },
   "outputs": [
    {
     "name": "stdout",
     "output_type": "stream",
     "text": [
      "['gender' 'age' 'age_o' 'race' 'race_o' 'importance_same_race'\n",
      " 'importance_same_religion' 'field' 'pref_o_attractive' 'pref_o_sincere'\n",
      " 'pref_o_intelligence' 'pref_o_funny' 'pref_o_ambitious'\n",
      " 'pref_o_shared_interests' 'attractive_o' 'sinsere_o' 'intelligence_o'\n",
      " 'funny_o' 'ambitous_o' 'shared_interests_o' 'attractive_important'\n",
      " 'sincere_important' 'intellicence_important' 'funny_important'\n",
      " 'ambtition_important' 'shared_interests_important' 'attractive' 'sincere'\n",
      " 'intelligence' 'funny' 'ambition' 'attractive_partner' 'sincere_partner'\n",
      " 'intelligence_partner' 'funny_partner' 'ambition_partner'\n",
      " 'shared_interests_partner' 'sports' 'tvsports' 'exercise' 'dining'\n",
      " 'museums' 'art' 'hiking' 'gaming' 'clubbing' 'reading' 'tv' 'theater'\n",
      " 'movies' 'concerts' 'music' 'shopping' 'yoga' 'interests_correlate'\n",
      " 'like' 'met' 'match']\n"
     ]
    }
   ],
   "source": [
    "print(data.columns.values)"
   ]
  },
  {
   "cell_type": "markdown",
   "metadata": {},
   "source": [
    "## Numero de match para ambos os sexos."
   ]
  },
  {
   "cell_type": "code",
<<<<<<< HEAD
   "execution_count": 25,
   "metadata": {
    "scrolled": false
   },
=======
   "execution_count": 53,
   "metadata": {},
>>>>>>> e78c0ee027f91c31fd3e742743a7a0e91aae63dd
   "outputs": [
    {
     "data": {
      "text/plain": [
<<<<<<< HEAD
       "No match    429\n",
       "Match       102\n",
       "Name: match, dtype: int64"
      ]
     },
     "execution_count": 25,
=======
       "0.5784484648405478"
      ]
     },
     "execution_count": 53,
>>>>>>> e78c0ee027f91c31fd3e742743a7a0e91aae63dd
     "metadata": {},
     "output_type": "execute_result"
    },
    {
     "data": {
<<<<<<< HEAD
      "image/png": "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\n",
=======
      "image/png": "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\n",
>>>>>>> e78c0ee027f91c31fd3e742743a7a0e91aae63dd
      "text/plain": [
       "<Figure size 432x288 with 1 Axes>"
      ]
     },
     "metadata": {
      "needs_background": "light"
     },
     "output_type": "display_data"
    }
   ],
   "source": [
<<<<<<< HEAD
    "homens=data[data.gender==\"male\"]\n",
    "mulheres=data[data.gender==\"female\"]\n",
    "\n",
    "match_homem = homens.match.value_counts()\n",
    "match_mulher = mulheres.match.value_counts()\n",
    "\n",
    "match_homem = match_homem.rename(index={0: 'No match',1: 'Match'})\n",
    "match_mulher = match_mulher.rename(index={0: 'No match',1: 'Match'})\n",
    "\n",
    "match_mulher.plot.bar()\n",
    "plt.title('Match entre as mulheres.')\n",
    "match_mulher"
=======
    "mesma_raça=data.importance_same_race.astype(int)\n",
    "mesma_rel=data.importance_same_religion.astype(int)\n",
    "sns.regplot(mesma_raça, mesma_rel, color=('red'))\n",
    "a.corr(b)"
>>>>>>> e78c0ee027f91c31fd3e742743a7a0e91aae63dd
   ]
  },
  {
   "cell_type": "code",
<<<<<<< HEAD
   "execution_count": 26,
=======
   "execution_count": 79,
>>>>>>> e78c0ee027f91c31fd3e742743a7a0e91aae63dd
   "metadata": {},
   "outputs": [
    {
     "data": {
      "text/plain": [
<<<<<<< HEAD
       "No match    433\n",
       "Match        84\n",
       "Name: match, dtype: int64"
      ]
     },
     "execution_count": 26,
=======
       "0.137921972550661"
      ]
     },
     "execution_count": 79,
>>>>>>> e78c0ee027f91c31fd3e742743a7a0e91aae63dd
     "metadata": {},
     "output_type": "execute_result"
    },
    {
     "data": {
<<<<<<< HEAD
      "image/png": "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\n",
=======
      "image/png": "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\n",
>>>>>>> e78c0ee027f91c31fd3e742743a7a0e91aae63dd
      "text/plain": [
       "<Figure size 432x288 with 1 Axes>"
      ]
     },
     "metadata": {
      "needs_background": "light"
     },
     "output_type": "display_data"
    }
   ],
   "source": [
<<<<<<< HEAD
    "match_homem.plot.bar()\n",
    "plt.title('Match entre os homens.')\n",
    "match_homem"
   ]
  },
  {
   "cell_type": "code",
   "execution_count": 27,
   "metadata": {},
   "outputs": [],
   "source": [
    "#data.interests_correlate.astype(float).plot()"
   ]
  },
  {
   "cell_type": "markdown",
   "metadata": {},
   "source": [
    "## “O que esperamos do outro” VS “O que o outro espera de você”"
   ]
  },
  {
   "cell_type": "code",
   "execution_count": 28,
   "metadata": {
    "scrolled": true
   },
   "outputs": [
    {
     "data": {
      "image/png": "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\n",
      "text/plain": [
       "<Figure size 432x288 with 1 Axes>"
      ]
     },
     "metadata": {
      "needs_background": "light"
     },
     "output_type": "display_data"
    }
   ],
   "source": [
    "partnere_attractive = data.pref_o_attractive.astype(float)\n",
    "you_attractive = data.attractive_important.astype(float)\n",
    "\n",
    "sns.scatterplot(you_attractive,partnere_attractive)\n",
    "plt.title('Ser atraente visualmente.')\n",
    "plt.xlabel('Quão importante é para você.')\n",
    "plt.ylabel('Quão importante é para o parceiro.')\n",
    "plt.show()"
   ]
  },
  {
   "cell_type": "markdown",
   "metadata": {},
   "source": [
    "Portanto, é mais fácil conseguir um match caso você seja uma pessoa que não liga muito para beleza."
   ]
  },
  {
   "cell_type": "code",
   "execution_count": 29,
   "metadata": {
    "scrolled": true
   },
   "outputs": [
    {
     "data": {
      "image/png": "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\n",
      "text/plain": [
       "<Figure size 432x288 with 1 Axes>"
      ]
     },
     "metadata": {
      "needs_background": "light"
     },
     "output_type": "display_data"
    }
   ],
   "source": [
    "partnere_intelligence = data.pref_o_intelligence.astype(float)\n",
    "you_intelligence = data.intellicence_important.astype(float)\n",
    "\n",
    "sns.scatterplot(you_intelligence,partnere_intelligence)\n",
    "plt.title('Ser inteligente.')\n",
    "plt.xlabel('Quão importante é para você.')\n",
    "plt.ylabel('Quão importante é para o parceiro.')\n",
    "plt.show()"
   ]
  },
  {
   "cell_type": "code",
   "execution_count": 30,
   "metadata": {
    "scrolled": false
   },
   "outputs": [
    {
     "data": {
      "image/png": "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\n",
      "text/plain": [
       "<Figure size 432x288 with 1 Axes>"
      ]
     },
     "metadata": {
      "needs_background": "light"
     },
     "output_type": "display_data"
    }
   ],
   "source": [
    "partnere_interes = data.pref_o_shared_interests\n",
    "you_interes = data.shared_interests_important\n",
    "\n",
    "sns.scatterplot(you_interes,partnere_interes)\n",
    "plt.title('Interesses compartilhados.')\n",
    "plt.xlabel('Quão importante é para você.')\n",
    "plt.ylabel('Quão importante é para o parceiro.')\n",
    "plt.show()"
   ]
  },
  {
   "cell_type": "code",
   "execution_count": 39,
   "metadata": {
    "scrolled": true
   },
   "outputs": [
    {
     "data": {
      "image/png": "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\n",
      "text/plain": [
       "<Figure size 432x288 with 1 Axes>"
      ]
     },
     "metadata": {
      "needs_background": "light"
     },
     "output_type": "display_data"
    }
   ],
   "source": [
    "partnere_sincere = data.pref_o_sincere\n",
    "you_sincere = data.sincere_important\n",
    "\n",
    "sns.scatterplot(you_sincere,partnere_sincere)\n",
    "plt.title('Ser sincero.')\n",
    "plt.xlabel('Quão importante é para você.')\n",
    "plt.ylabel('Quão importante é para o parceiro.')\n",
    "plt.show()"
   ]
  },
  {
   "cell_type": "code",
   "execution_count": 41,
   "metadata": {
    "scrolled": false
   },
   "outputs": [
    {
     "data": {
      "image/png": "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\n",
      "text/plain": [
       "<Figure size 432x288 with 1 Axes>"
      ]
     },
     "metadata": {
      "needs_background": "light"
     },
     "output_type": "display_data"
    }
   ],
   "source": [
    "partnere_funny = data.pref_o_funny\n",
    "you_funny = data.funny_important\n",
    "\n",
    "sns.scatterplot(you_funny,partnere_funny)\n",
    "plt.title('Ser engraçado.')\n",
    "plt.xlabel('Quão importante é para você.')\n",
    "plt.ylabel('Quão importante é para o parceiro.')\n",
    "plt.show()"
   ]
  },
  {
   "cell_type": "code",
   "execution_count": 43,
   "metadata": {},
   "outputs": [
    {
     "data": {
      "image/png": "iVBORw0KGgoAAAANSUhEUgAAAYIAAAEXCAYAAACgUUN5AAAABHNCSVQICAgIfAhkiAAAAAlwSFlzAAALEgAACxIB0t1+/AAAADl0RVh0U29mdHdhcmUAbWF0cGxvdGxpYiB2ZXJzaW9uIDMuMC4yLCBodHRwOi8vbWF0cGxvdGxpYi5vcmcvOIA7rQAAIABJREFUeJzt3XmcHHWd//HXe67cISGZxECAgHIs8BCUoCiInK4HgrqAurAEPALigrrqgscqrLo/vHVBQFAQRDlEUWRdhUUCioAkIGdABAOEI5nERHJMMpmZz++P+nbSmemZqan+Vk/19Of5ePRjuqu7PvWp6er+dlV96/OVmeGcc65xNY10As4550aWNwTOOdfgvCFwzrkG5w2Bc841OG8InHOuwXlD4JxzDc4bAufqnKQFkj4w0nm4+uUNgSsUSQdJ+oOkv0v6m6Q7Je0/0nk5N5q1jHQCzpVImgzcBHwIuA5oA94AbMwQq8XMuuNmWD/Ld244fI/AFcluAGZ2tZn1mFmnmd1sZg+WXiDpfZIWS1ol6TeSdip7ziR9WNITwBOVFiDpgLDHsVrSA5IOKXtugaQvhL2QNZJuljS97PmTJD0taaWk/5C0RNIR4blzJF0v6SpJLwEnS3qNpLvCsl6QdIGktrJ4e0m6Jez5LJP06TB9qPmOlPRY2Gu6AFDZc02SPhvyXC7pSknbVPOmuNHPGwJXJH8GeiRdIektkqaWPynpHcCngXcB7cDvgKv7xHgH8Fpgz77BJW0P/A/wRWBb4BPATyW1l73sn4FTgBkkeySfCPPuCVwInADMArYBtu+ziGOA64EpwI+AHuBjwHTgdcDhwOkh3iTg/4BfA9sBrwBuDXEGm2868FPgs+H5J4EDy3I4OdwOBXYBJgIX9P1fOLcVM/Ob3wpzA/4B+AGwFOgGbgRmhuf+F3h/2WubgPXATuGxAYcNEvss4Id9pv0GmBfuLwA+W/bc6cCvw/3PAVeXPTce6AKOCI/PAe4YYt0+CtwQ7r8XuD/l/6R8vpOAu8ueU/hffSA8vhU4vez53YFNQMtIv7d+K+7N9whcoZjZYjM72cxmA3uT/Fr+Vnh6J+Db4ZDJauBvJF+E5b/Mnx0k/E7AcaX5Q4yDSH7hl7xYdn89yS9qQh6bY5vZemBln/hbLVvSbpJukvRiOFz0XyS/4gF2IPk1388Q8/XNw/osdzvg6bLHT5OcC5xZaVnOgR8acgVmZo+R7B3sHSY9C5xqZlPKbuPM7A/lsw0S8lmSPYLy+SeY2Xkp0nkBmF16IGkcMK1vyn0eXwQ8BuxqZpNJDmuVjuc/C7x8gGUNNt8LJI1IKQ+VPwaeJ2nwSnYk2bNaNsi6uQbnDYErDEl7SPq4pNnh8Q4kh1DuDi+5GPiUpL3C89tIOm4Yi7gKeLukf5TULGmspENKyxvC9WHe14cTt+dSdpJ2AJOAl4C1kvYg6Q1VchPwMkkflTRG0iRJr00x3/8Ae0l6l6QW4EzgZWXPXw18TNLOkiaS7E1ca96DyQ3CGwJXJGtITvTeI2kdSQPwMPBxADO7AfgycE04ZPIw8Ja0wc3sWZITup8GOkh+lX+SFJ8DM3sEOAO4huRX+RpgOYN3bf0EycnnNcClwLVl8dYARwJvBzYAz5Gc4B1qvhXAccB5JIemdgXuLFvmZcAPgTuAv4bYZ5SelLRW0huGWl/XWJQcYnTODUf4tb2a5PDNX6uM9QbgTWb2H1GSc26YfI/AuZQkvV3SeEkTgK8BDwFLqow5EXiGLXsDztWcNwTOpXcMycnY50kOybzHqt+lPhd4lOScgXMjwg8NOedcg/M9Aueca3DeEDjnXIOri+qj06dPtzlz5ox0Gs45V1cWLVq0wszah3pdXTQEc+bMYeHChSOdhnPO1RVJTw/9Kj805JxzDc8bAueca3DeEDjnXIPzhsA55xqcNwTOOdfg6qLXUFa9vcbKdV10dffQ1tLMtAltNDUNVTm4drq7e1m+diObenppbW5ixsQxtLR42+wG59uNi23UNgS9vcbjy9bwwSsXsnRVJ7OnjuPSk+ay+8xJhWgMurt7eWzZGk67atHm/C4+cT/2mDnJP9RuQL7duDyM2i1n5bquzY0AwNJVnXzwyoWsXNc1wpkllq/duPnDDEl+p121iOVrBytv7xqdbzcuD6O2Iejq7tn8YSlZuqqTru6eEcpoa5t6eivm193TO0IZuXrg243Lw6htCNpampk9ddxW02ZPHUdbS/MIZbS11uamivm1NI/at8RF4NuNy8Oo3XqmTWjj0pPmbv7QlM4RTJvQNsKZJWZMHMPFJ+63VX4Xn7gfMyaOGeHMXJH5duPyUBfjEcydO9ey1Bqql15D3T29tHjvD5eSbzcuLUmLzGzuUK8btb2GAJqaRPuk4v5SamlpYrsp44Z+oXNlfLtxsfnPCOeca3DeEDjnXIPL/dCQpCXAGqAH6DazuZK2Ba4F5gBLgOPNbFXeuTjnnOuvVnsEh5rZvmUnLc4GbjWzXYFbw2PnnHMjYKQODR0DXBHuXwG8Y4TycM65hleLhsCAmyUtkjQ/TJtpZi8AhL8zapCHc865CmrRffRAM3te0gzgFkmPpZkpNBrzAXbcccc883POuYaWeY9A0svSvM7Mng9/lwM3AK8BlkmaFeLMApZXmO8SM5trZnPb29uzpumcc24I1Rwa+v5QL5A0QdKk0n3gTcDDwI3AvPCyecAvqsjDOedcFTIfGjKzt6V42UzgBkmlZf3YzH4t6V7gOknvB54Bjsuah3POueqkbggk7QO8ITz8nZk9MNQ8ZvYUsE+F6SuBw9Mu2znnXH5SHRqS9BHgRyS9e2YAV0k6I8/EnHPO1UbaPYL3A681s3UAkr4M3AWcn1dizjnnaiPtyWKRlIgo6QnTnHPO1bm0ewSXA/dIuiE8fgcpeg0555wrvlQNgZl9Q9IC4CCSPYFTzOz+PBNzzjlXG0M2BJKagAfNbG/gvvxTcs45V0tDniMws17gAUle58E550ahtOcIZgGPSPojsK400cyOziUr55xzNZO2ITg31yycc86NmLQni2/POxHnnHMjY9CGQNLvzewgSWtIxhXY/BRgZjY51+ycc87lbtCGwMwOCn8n1SYd55xztZa6DLWkgySdEu5Pl7Rzfmk555yrlbRF5z4PnAV8KkxqA67KKynnnHO1k3aP4J3A0YSuo2HUMT9c5Jxzo0DahqDLzIxwwjiMNuacc24USNsQXCfpu8AUSR8E/g+4NL+0nHPO1Ura6wi+JulI4CVgd+BzZnZLrpk555yriVQNQegh9LvSl7+kcZLmmNmSPJNzzjmXv7SHhn4C9JY97gnTnHPO1bm0DUGLmXWVHoT7bfmk5JxzrpbSNgQdkjZXGpV0DLAin5Scc87VUtrqo6cBP5J0QXi8FPiXfFJyzjlXS2lHKNvPzA6QNBGQma3JPzXnnHO1kHaEsn8N99d6I+Ccc6NL2nMEt0j6hKQdJG1buuWamXPOuZpIe47gfeHvh8umGbBL3HScc87VWtori73ktHPOjVJp9wiQtDewJzC2NM3MrswjKeecc7UznPEIzg+3Q4GvkJSlTjNvs6T7Jd0UHu8s6R5JT0i6VpJfmOaccyMo7cniY4HDgRfN7BRgH2BMynk/Aiwue/xl4JtmtiuwCnh/yjjOOedykLYh6AzdSLslTQaWk+JEsaTZwNuA74XHAg4Drg8vuQJ4x3CTds45F0/acwQLJU0hGYNgEbAW+GOK+b4F/DtbRjObBqw2s+7weCmwfaUZJc0H5gPsuOOOKdN0zjk3XKn2CMzsdDNbbWYXA0cC88IhogFJOgpYbmaLyidXCj/AMi8xs7lmNre9vT1Nms455zIYTq+hdwEHkXxx/x54cIhZDgSOlvRWkp5Gk0n2EKZIagl7BbOB57Mk7pxzLo60vYYuJCk89xDwMHCqpO8MNo+ZfcrMZpvZHOA9wG/N7ATgNpKTzwDzgF9kzN0551wEafcI3gjsHQawR9IVJI1CFmcB10j6InA/8P2McZxzzkWQtiF4HNgReDo83oGhDw1tZmYLgAXh/lPAa1Jn6JxzLldpG4JpwGJJpZ5C+wN3SboRwMxSXVzmnHOueNI2BJ/LNQvnnHMjJm3RudvzTsQ559zISHtlsXPOuVHKGwLnnGtww7mgrA3YLTx83Mw25ZOSc865WkrVEEg6hKRA3BKSMhE7SJpnZnfkl5pzzrlaSLtH8HXgTWb2OICk3YCrgf3ySsw551xtpD1H0FpqBADM7M9Aaz4pOeecq6XhlKH+PvDD8PgEknLUzjnn6lzahuBDwIeBM0nOEdwBXJhXUs4552on7QVlG4FvhJtzzrlRxK8jcM65BucNgXPONThvCJxzrsGlvaCsnWRAmT1Jhp0EwMwOyykv55xzNZJ2j+BHwGJgZ+BckiuM780pJ+ecczWUtiGYZmbfBzaZ2e1m9j7ggBzzcs45VyNpryMoFZh7QdLbgOeB2fmk5JxzrpbSNgRflLQN8HHgfGAy8LHcsnLOOVczQzYEkpqBXc3sJuDvwKG5Z+Wcc65mhjxHYGY9gA9O75xzo1TaQ0N/kHQBcC2wrjTRzO7LJSvnnHM1k7YheH34+59l0wzw6wicc67OpS065+cFnHNulBrOmMVvA/Zi6yuL/3PgOZxzztWDVBeUSboYeDdwBsl4BMcBO+WYl3POuRpJe2Xx683sJGCVmZ0LvA7YIb+0nHPO1UrahqAz/F0vaTuSK413HmomSWMl/VHSA5IekXRumL6zpHskPSHpWklt2dJ3zjlXrbQNwU2SpgBfBe4jKTp3dYr5NgKHmdk+wL7AmyUdAHwZ+KaZ7QqsAt4/3MSdc87FkaohMLMvmNlqM/spybmBPczscynmMzNbGx62hlup2+n1YfoVwDuGnblzzrko0o5HMBY4HTiI5Iv895IuMrMNKeZtBhYBrwC+AzwJrDaz7vCSpcD2GXJ3zjkXQdpDQ1eSdB09H7gA+Afgh2lmNLMeM9uXpFrpa8K8/V7Wd4Kk+ZIWSlrY0dGRMk3nnHPDlfY6gt3Dcf6S2yQ9MJwFmdlqSQtIxjGYIqkl7BXMJilr3ff1lwCXAMydO7dfQ+Gccy6OtHsE94eTvABIei1w51AzSWoPJ5mRNA44gmSks9uAY8PL5gG/GE7Szjnn4km7R/Ba4CRJz4THOwKLJT1Eck74lQPMNwu4IpwnaAKuM7ObJD0KXCPpi8D9wPezr4JzzrlqpG0I3pwluJk9CLyqwvSnSM4XOOecG2Fpi849nXcizjnnRkbacwTOOedGKW8InHOuwaVuCCTtJOmIcH+cpEn5peWcc65WBmwIJM0uu/9BkpIQ3w2TZgM/zzc155xztTDYHsHBks4M9z8MHAi8BGBmTwAzcs7NOedcDQzYEJjZj4FSwbguM+sqPSephQplIZxzztWfQc8RmNll4e4CSZ8Gxkk6EvgJ8Mu8k3POOZe/tCeLzwY6gIeAU4FfAZ/NKynnnHO1k/aCsl7g0nBzzjk3iqQtMVGXenuNleu66Oruoa2lmWkT2mhqUuZ4XV3ddKzrorvXaGkS7RPaaGvL/i/s7u5l+dqNbOrppbW5iRkTx9DSkv3Sjk2beli+duPm/GZMHENra3PmeM65xjBqG4LeXuPxZWv44JULWbqqk9lTx3HpSXPZfeakTI1BV1c3j3es40NXLdoc76IT92P39gmZGoPu7l4eW7aG08riXXzifuwxc1KmxmDTph4eW762X357zJjojYFzblDD+saRNCGvRGJbua5rcyMAsHRVJx+8ciEr13UNMWdlHeu6Nn/JluJ96KpFdGSMt3ztxs2NQCneaVctYvnajZnjVcovazznXONI1RBIen0oHb04PN5H0oW5Zlalru6ezV+KJUtXddLV3ZMpXnevVYzX3ZutF+2mnt7K8Xp6C5Gfc65xpN0j+Cbwj8BKADN7ADg4r6RiaGtpZvbUcVtNmz11HG0t2Q6TtDSpYryWjOccWpubKsdrznaOIHZ+zrnGkfpbx8ye7TMp20/rGpk2oY1LT5q7+cuxdI5g2oS2TPHaJ7Rx0Yn7bRXvohP3oz1jvBkTx3Bxn3gXn7gfMyaOyRyvUn5Z4znnGofMhj50IOl64BskA9cfAJwJzDWz9+SbXmLu3Lm2cOHCYc9XL72Gunt6afFeQ865yCQtMrO5Q70u7bfYacC3ge2BpcDNwOnZ06uNpibRPineL+K2tha2r+KLv6+Wlia2mzJu6Bem1NrazPZTx0eL55xrDGm/1XY3sxPKJ0g6kBQD2DvnnCu2tMchzk85zTnnXJ0ZdI9A0uuA1wPtkv6t7KnJgB98ds65UWCoQ0NtwMTwuvIRyV4Cjs0rKeecc7UzaENgZrcDt0v6gZk9XaOcnHPO1VDak8VjJF0CzCmfx8wOyyMp55xztZO2IfgJcDHwPQp+IZlzzrnhSdsQdJvZRblm4pxzbkSk7T76S0mnS5oladvSLdfMnHPO1UTaPYJ54e8ny6YZsEvcdJxzztVa2qEqdx5uYEk7AFcCLwN6gUvM7NthT+JakhPPS4DjzWzVcOM755yLI3XhHEl7A3sCY0vTzOzKQWbpBj5uZvdJmgQsknQLcDJwq5mdJ+ls4GzgrCzJDyX2UJAbNnSzsnNL0blp49oYOzZ77aGix6sHjbjO9SB2wcfY73Ps/PIQ+/trMKn+k5I+DxxC0hD8CngL8HuSX/wVmdkLwAvh/hpJi0mK1h0TYgFcASwgh4Yg9lCQGzZ088TK/kNV7jptQqYNsujx6kEjrnM9iD1MbOz3OXZ+eYj9/TWUtBGPBQ4HXjSzU4B9gNRlPSXNAV4F3APMDI1EqbGYMYx8U4s9FOTKzspDVa7szDZUZdHj1YNGXOd6EHuY2Oiflcj55SH299dQ0jYEnWbWC3RLmgwsJ+WJYkkTgZ8CHzWzl9ImJmm+pIWSFnZ0dKSdbbOiDwVZ9Hj1oBHXuR4UfZjY2PnlIfb311DSNgQLJU0BLgUWAfcBfxxqJkmtJI3Aj8zsZ2HyMkmzwvOzSBqVfszsEjOba2Zz29vbU6a5RdGHgix6vHrQiOtcD4o+TGzs/PIQ+/trKKmimtnpZrbazC4GjgTmhUNEA5Ik4PvAYjP7RtlTN7KlO+o84BfDT3tosYeCnDau8lCV08ZlG6qy6PHqQSOucz2IPUxs9M9K5PzyEPv7ayhph6q81cwOH2pan+cPAn4HPETSfRTg0yTnCa4DdgSeAY4zs78NtvysQ1XGHgqy6L18GrEHTSOucz3wXkPVi/H9FWWoSkljgfHAdElTgdJ/ajKw3WDzmtnvy17f14ANSEyxh4KUBn88XM3NGvTxcMXOD4r/gWlra6ZtUzOE/NrairN738jiDxMb932OnV8eYn9/DbqsIZ4/FfgoyZf+IrZ8sb8EfCfHvApn48Zu/ryifxe23aZPYMyY4f8y2bSph8eWr+0Xb48ZEzMNOB87Pyh+N7ui5+fi8Pc5f4PuZ5jZt4FXAF80s13MbOdw28fMLqhNisWwYn3lLmwr1mfrcrZ87caK8bJ2D4udHxS/m13R83Nx+PucvyEPOJlZD/DWGuRSaEXv7plHV8qid7Mren4uDn+f85f2zMPNkv4p9ASqG93dvTy/upOnV67j+dWddHdn74Nb9O6eeXSlLHo3u6LnVy9ifk7y4O9z/tI2BP9GMjhNl6SXJK2RlPrisJFQukT7+O/exRu/uoDjv3sXjy1bk3kjL3p3zzy6Uha9m13R86sHsT8nefD3OX+puo+OtCzdR59f3cnx371rq13K2VPHcd2pr8t0Jv65Ves595eP8E/77cCUca2s7tzETxc9y+ffvhfbTx2fKd4tj7zAYXvOwsyQxG8ffYEj95qVKd7zqztZtGQFr9ppGj29RnOTuP/plew3Z3pVPQ+K3muo6PkVXezPSV78fc4mSvfRPgGPBg4ODxeY2U1Zk6uFPEpM3Pzocm5+dOsLoT/ztj0zxzvnpsc456bHtpp+6D+8LFO8TT29nHHNg/2m3/HJQzLFKyl6N7ui51d0tS5lkJW/z/lKdWhI0nnAR4BHw+0jYVphNVqJiVpfku5GB99uHKQ/R/BW4Egzu8zMLgPeTMF7ErVPqHzMvL0ol7lHjrft2NaK8bYd25opnmsMtS5l4IppOFcaTQFKpSC2ySGXqFZv6OamPy3l8pP3p7lJ9PQa1y98hpcd/AraM1ywtbKzi1VrO7l2/gGbL3N/cvlLrBzfyvYZLnVf2dnFko6XuGb+AVsd09+2iniV1vek1++cKZ5rDC0tTewxcxLXnfq6aKVYXP1J+w3x/4D7Jd1GcnXxwcCncssqgq7uHj548C5s7Da6e40xLU3hcfZSuHvPnkJn15Zjp3vPnsKaDdnjHbZHO6s7k3gCDtujnRXrssc78/CXs7qzd/P6nnn4yzPH2xw38ihJsU/6dXV107FuSw2a9glttLVV1/AV/cRk7PekqUm0NjdhZrQ2NxVqXUs2bepJ6u6E93nGxDGZrsCvJ7Vc57RjFl8taQGwf5h0lpm9mEtGkUwZ18RTKzf2K7mwy7Rsu7zTJzQ3VDyIP0pS7FIBXV3dPN7Rv6zG7u0TMjcGRS9nUPT3JA+xy7HUg1qv83C2nNeRDDH5xnC/0FZ39lYsuVD6Be7xhhZ9lLfIpQI61lUuq9FRRemBopczKPp7kofY5VjqQa3XOW2voQuB00hKSj8MnCqp0EXnil7CoejxIH7XwqKPXJVHjrEV/T3JQyOORFfrdU67R/BG4B/N7HIzu5ykx9AhuWQUSdG7exY9HsTvWlj0kavyyDG2or8neWjEkehqvc5pt57HSQaSKdkB6H/1UoEUvbtn0eNBDqO8RS4VELuLcB45xlb09yQPMyaOqfg+j+YurrVe57QjlN1OcqK4NE7x/sBdwHoAMzs6l+yCLCUmOtZsZFyr8ffQi6alSWwzronOTdmuUOxYs5Hxrba5V05Lk5gyron1GeM9v7qTbcaqX7y/b7BMl/bHzq8k9ihv3muoekV/T/LgvYayrXPsEhOfG9bSC6Cru4f9v3Rbv+l3nnVoIeJt6ullr3MW9JuetSRE7PxKYo+SFH/kqha2r/KLv6+ilzMo+nuSh9bW5kw1uOpZLdc5bffR2wEkTS6fZ6ixhkdSW0szb9pzRr8icVmPfcaO19rcxKlvmMOxc3fc6gKwao71xsyvXviYxcVUD3sZbotUnxhJ84EvAJ0kA9ELMGCX/FKrztRxrZx5+G79+ltPHZet5ELseNPHt3LUvrM55Qf3btVPePr4YuRXDzZs6OaJlf2vI9h12gRvDEZQPVyb4LaW9ufnJ4G9zGxO2ZCVhW0EAFZ1bqrY33pV56ZCxFuxftMAQ0sWI796sLKz8nUEKzuL0we+EdXDtQlua2kbgicJJ4brRez+0bHjNWJ/8NgasX95PWjEbbHepd1//hTwB0n3AJsvbTOzM3PJKoK2lmbOOWoPDttzFr1mNIWBX6o5RzB76rh+A3hUc46g0jH9avuDx8qvHrQ0qfJ5Fj/8MKIacVuE+j4vkrb76B+B35NcWbz5J6uZXZFfaltk6T4auw5N7OOesWuJNOJxWT9HUEyNuC0WdZ3Tdh9N2xD8wcxeHyWzDLI0BM+tWs+7L7m736+Sa+cfkLlLVswWv2PNRt554Z398rvh9AMzd+Wr518kWdTLMIuNqNG2xTw+zzHEvo7gttBz6JdsfWiosN1H8zh+3NtrbOpJLthSTy+9vZZ5487jOGp3dw9d3T3JOnb30N3dU/XFVUVWL8MsNqLY1yYUvWGp9/Miab8l/jn8LR+DoNDdR0u1Ovq20FmPH8cu/9vS1DRAftnOEeRRkrnoSnV3+v0PfZjFUaWoh13K1ft5kVSfmNBdtO+tsI0AwMSxzRVrdUwcm+2NiV3+F4yvHvvKrfL76rGvJGlfhy+PksxFN76tiQtPePVW/8MLT3g149u8IRhN6qE7aj3UbBrMoD8VJR1mZr+V9K5Kz5vZz4aY/zLgKGC5me0dpm0LXAvMAZYAx5vZquGnPri1G3pYsHgZP/7gAZgZkvjFfUt5136z2SbD4ePYhyE2dPfylV8/zn8ctefmXkNf+fXjfOs9+2aK14hdKddt7OGqu57eanjOS+94io8csStTGqsawahWD4ddmprE7jMnccPpBxb28NVghjpm8Ebgt8DbKzxnwKANAfAD4ALgyrJpZwO3mtl5ks4Oj89Kle0wtLU0876DdkyKsBk0C9530I6s35TtjYnd3bOlSVx44r709oruXkt+zYbHWePd9alDNsdraRJNTZY5Xknsom4xi4e1tTRz1CtnMr6tefPwnEe9cmbVu+Oxh4KM/T+MXVYj9voCbNzYzYr1W3KcPr6NMWOy5Vgv5VN6enq3OkfX09NLU1P2HAszVKWZfT78PSVLcDO7Q9KcPpOPYctYBlcAC8ihIZjU2jxg18Isth3byhmH79Yv3rZjs5VwmDauLWp+seNB/PMOsbvMTmptZurEcZt7h5XiTariwxL7XFDs/2HsLrOx1xeSRuDPK/rnuNv0CZkagyljWyp+9qYUqItw7G27yENVxjLTzF4ACH9n5LGQ2OUHGi0exD/vEHv4vTzWOfa5oNj/w9jrHP/cF6xYXznHFeuLMyRpbLG37UIOVTkSJM2XtFDSwo6OjmHPX/ShIIserx5yrIfhOYu+znl0wa2HHGMr+vs8lJFoCJZJmgUQ/i6v9CIzu8TM5prZ3Pb29mEvpOhDQRY9Xj3kWA/DcxZ9nWOvb73kGFvR3+ehpB28vlXSmZKuD7czJGWtb3wjMC/cnwf8ImOcQRV9KMiix4P4Q0HGHn6vHobnjP0/jL3OsdcXYPr4yjlOH1+cHGOLvW0XdajK7wGtJCd3Af4F6DGzDwwx39UkJ4anA8uAzwM/B64jGQP5GeC4oa5QzlJiAuL3rmi0eFDsXkOQzzrHHgqyXnoNxVpfiNtrKK8cY4u9bddyqMq0DcEDZrbPUNPykrUhcM65Rha71lCPpJeb2ZMh+C5Aca7mGEDRB7yO/aspj4HcXfEUve6Oi6OW73Pab4lPkhSee4pkmMqdgEzXFtRKrfvhDlfsvtaNWGuoEdVD3R1XvVq/z2k8ztabAAARwElEQVRrDd0K7AqcGW67m9lt0bOJqNb9cIerEftau+rVQ90dV71av8/D+am4K7AHMBbYRxJmduUQ84yYPPrhxjz0Uu/9jt3IqIe6O656tX6fB90jkPTO8PfzwPnhdijwFeDoXDKKJHY/3NKhl3dfcjdv/OoC3n3J3TzesY6uru5C5FfrfsduZJTKHZerp3LHLp1av89DHRo6Mfw9FjgceDHUHdoHKE4n3gpi98ONfehl4timAcpkZ+sSN2FM5XgTxhSri52rTr2XO3bp1Pp9Huq4xqzwd4OZ9UrqljSZ5GrgQo9H0NrazB4zJnLt/AOi9BqKfehl9foeXly9fqv8Hn3+70we25KpTPbfO3tY/Nxqrpl/AD29RnOT+MMTHUweO91LMo8i9V7u2KVT6/d5qIbg0+HvvZKmAJcCi4C1wB9zySii1tbmzOMT99XSpMplqKs4lHPuTYv7jWh07fwDMsf779ue5N9/9vDW8XYdfnmOetKIXSljDwPpiqmW73OqC8q2miEpKz3ZzB7MI6FKinBBWdG7e8bOrx54V0rnBhf7yuKDK003szsy5DZsRWgIOtZs5J0X3tnvF/wNpx+YudWOfQFY7AvUii6P98S50ST2lcWfLLs/FngNySGiwzLkVpfy6M7V1tbC9hEv9hozpoXtR/EXf1/eldK5OFJ9a5jZVkNVStqBpAtpocUsztXW0syVp+zHy2dM3hzvyeUvVdWdqx6KzsU+Bh97CMNHzjk8GY40xJsyrinzcKQlsUuT5FWALebQkrHF3tuth3NB9VziJWuWS4G9YyYSW+wh/WIPixg7v9jxIP4x+NjnMWIPRwrxS5PEXuc8hpaMLfb5r3o4F1TvJV7SjkdwvqT/DrcLgN8BD+SbWnWKPhRk0eNB/MvcY5fVyGuoypilSWKvcx5DS8YWfXjOOiirUe8lXtI2VeVnaruBq83szhzyiaboJRyKHg/iH4Ovh3Uueo6NOGxjPZwLqvcSL2n3JX8C3B9u1xe9EYDil3AoejyIf5l7Paxz0XNsxGEb66GsRr2XeBmq1lCrpG8BzwKXk4xQ9pSks8Pzr8o/xWyKPhRk0eNB/MvcYw9hmNdQlTFLkzTisI3Rh+esg7Iasde51ga9jkDSfwPjgY+Z2ZowbTLwNZKBad5sZjvnnaQPVTky8aDYvYYgn3Wul15DRR620XsNFaPXUJQLyiT9BdjV+rxIUjOwAniLmd1dbbJDKcIFZc45V2/SNgRD/Yzo7dsIAJhZD9BRi0bAOedcvoZqCB6VdFLfiZJOBBbnk5JzzrlaGuoA1oeBn0l6H0lJCQP2B8YB78w5N+ecczUwaENgZs8Br5V0GLAXycD1/xvGMG44sU9Y1cMJMOdGI//sbS1traHfAr/NOZdCi32Zez1cNu/caOSfvf6K1eeswGJf5l4Pl807Nxr5Z68/bwhSin2Zez1cNu/caOSfvf68IUgp9mXu9XDZvHOjkX/2+vOGIKXYl7nXw2Xzzo1G/tnrb9hjFo+EolxZ7L2GnBsdGuWzF3uoyugkvRn4NtAMfM/Mzou9jNh1aLq6eujq7klKy3b30NXVU6h49VBrKHY9ljzWOXaORR+bOo8vxdj1mhrli3ukjEhDEGoVfQc4kmS0s3sl3Whmj8ZaRtFHACt6PIjfzS72KE55rHPsHGPHiz3iWR5dKWOP8uZdt/M3UucIXgP8xcyeMrMu4BrgmJgLKPoIYEWPB/G72UUfuSqHdY6dY+x40Ud5y6ErZexR3rzrdv5GqiHYnmSMg5KlYdpmkuZLWihpYUdHx7AXUPSRpooeD3yEsiLmWA+jfxU9R+8+2t9INQSV9r+22krM7BIzm2tmc9vb24e9gKKPNFX0eOAjlBUxx3oY/avoOXr30f5GqiFYCuxQ9ng28HzMBRR9BLCix4P43eyij1yVwzrHzjF2vOijvOXQlTL2KG/edTt/I9J9VFIL8GfgcOA54F7gn83skUqv9xHKRiYeeK8h7zWUTdF7DTVKL6QoI5TlSdJbgW+RdB+9zMy+NNBri3IdgXPO1ZPCX0dgZr8CfjVSy3fOOZfwEhPOOdfgvCFwzrkG5w2Bc841OG8InHOuwdVF9VFJHcDTVYSYDqyIlE4jxssjZtHj5RGz0eLlEbPo8fKIWU28ncxsyCty66IhqJakhWm6UHm82sUserw8YjZavDxiFj1eHjHzyLEvPzTknHMNzhsC55xrcI3SEFzi8QoXs+jx8ojZaPHyiFn0eHnEzCPHrTTEOQLnnHMDa5Q9AueccwPwhsA55xrcqGoIJF0mabmkh8umnSPpOUl/Cre3VhH/zZIel/QXSWdHzHFbSbdIeiL8nVpFjkskPRTWtV/J1gGWf5ykRyT1Shqwm1qledPMP8h8Z4T/5yOSvjKMddxB0m2SFod5PxKmZ/o/DhKv6m1H0u5l8/9J0kuSPpohTqX37dqyuEsk/WmYMfttK5K+IOnBMO1mSdtVkV+q7WqYMTPlN0D8KZKul/RYeO9flzVWiPexsL4PS7pa0tgMMSqt81dDjg9KukHSlGryrMjMRs0NOBh4NfBw2bRzgE9EiN0MPAnsArQBDwB7RsrxK8DZ4f7ZwJeryHMJMH2Yy/8HYHdgATB3OPOmmX+AZR4K/B8wJjyeMYx1nAW8OtyfRDK2xZ5Z/4+DxIuy7fTZhl4kucin6u2mz/NfBz5X7bYCTC67fyZwcRXbdartapgxM+U3QPwrgA+E+23AlCpibQ/8FRgXHl8HnBxpnd8EtIT7X67m+2Gg26jaIzCzO4C/5RT+NcBfzOwpM+sCrgGOGW6QAXI8hmSjJPx9RzWJDnf5ZrbYzB7PMm+a+QeY70PAeWa2MbxmeYr0S/FeMLP7wv01wGKSD2Km/+Mg8WI7HHjSzIZ9lfxg27YkAccDV1eXHpjZS2UPJ9BnCNnh5Jd2uxpmzEz59SVpMsmX7vdD3C4zW50x1ZIWYJySgbfGk2HUxQHW+WYz6w4P7yYZ0TGqUdUQDOJfw27VZVUcdtkeeLbs8VLifVnMNLMXIPlSAmZUEcuAmyUtkjQ/Snb52A14g6R7JN0uaf8sQSTNAV4F3EOE/2OfeBBn2yl5DxG+rCt4A7DMzJ4Y5nwVtxVJX5L0LHAC8LmIeUYRKb9dgA7gckn3S/qepAlZczKz54CvAc8ALwB/N7Obs8YbxPuA/40dtBEagouAlwP7krxBX88Yp9I4dkXse3ugmb0aeAvwYUkHj3RCA2gBpgIHAJ8Ergu/bFOTNBH4KfDRPr8UM6kQL9a2g6Q24GjgJ9XmWcF7ydbAVNxWzOwzZrYD8CPgX+OlGUek/FpIDsFcZGavAtaRHE7MJPxIOAbYGdgOmCDpxKzxBljGZ4BukvWOatQ3BGa2zMx6zKwXuJTkEE8WS4Edyh7PJsOu3wCWSZoFEP6mPkzSl5k9H/4uB24g+/rmbSnwM0v8EeglKa6ViqRWki/tH5nZz8LkzP/HSvEibjuQfNneZ2bLqojRTzgM8S7g2uHOm2Jb+THwT9XmmKNq8lsKLDWz0p7f9SQNQ1ZHAH81sw4z2wT8DHh9FfG2ImkecBRwgoWTBTGN+oag9MUQvBN4eKDXDuFeYFdJO4dfd+8Bbqw2v+BGYF64Pw/4RZYgkiZImlS6T3KSKev65u3nwGEAknYjOVmXqsJi2HP4PrDYzL5R9lSm/+NA8SJuO5D9V/tQjgAeM7Olw5lpoG1F0q5lLzsaeCxaphHEys/MXgSelbR7mHQ48GgVqT0DHCBpfNieDic511Q1SW8GzgKONrP1MWL2E/vs80jeSD5oLwCbSFr89wM/BB4CHiT5ophVRfy3kvQoeRL4TMQcpwG3Ak+Ev9tmjL0LSW+mB4BHKuU4wPLfGe5vBJYBvwmv3Q741WDzhukV5x9imW3AVSRfrvcBhw1jPQ8iOSz3IPCncHtr1v/jIPGibDskJw5XAtvE3LbD9B8Ap8XaVkj2ih4O6/xLYPsqtutBt4uMMTPlN0D8fYGFIdbPgalZY4V455I0TA+HbWdMjPcZ+AvJ+cnStpm5p9RANy8x4ZxzDW7UHxpyzjk3OG8InHOuwXlD4JxzDc4bAueca3DeEDg3wiSdIGnHkc4jBkl7SXr/SOfhhscbAjcgSbMl/UJJNc+nJF0gaUyK+Q6VdFeolDisC34k/aekI7JnPXySPippfBXzHyIp08VD4Uuz3cyeybr8oghX134i3P+XEU7HDYN3H3UVhYti7iG5BP9ySc0kQ+atNbOPjGx28YT1epKkOmaqC9oqxDiH5P/ytZi5VUtSi20pVubcgHyPwA3kMGCDmV0OYGY9wMeAkyRNlHSypAtKL5Z0k6RDwv2LJC0MtdnPLXvN4aHA10OhiFu/vQtJP5B0bLi/RNJ/hb2LhZJeLek3kp6UdFp4zSGS7gh7H49KulhSU3juvWFZD0v6ctky1oY9j3uAz5BcOHebpNuGyH+JpHMl3Rfi7qGkSN1pwMeU1Mh/g6R2ST+VdG+4HVhhPZuV1Jm/V0lRu1MrvGaOkjr0V4TXXF/ac5H0uTDvw5IuCQ03khaE/9ntwEckvV1JYb/7Jf2fpJkVlnOPpL3KHi+QtJ+S8R1+HpZ9t6RXhucnSro8/A8eLO31SXpTeK/uk/QTJbWbXD2IfYWa30bHjaTW+zcrTL+f5IrMk4ELyqbfBBwS7m8b/jaT1KJ/JTCW5OrI3cJzV5IUd+sb/wfAseH+EuBD4f43Sa4AnQS0A8vD9EOADSRXyjYDtwDHkny5PxNe2wL8FnhHmMeA48uWuYSyuvyV8i973Rnh/unA98L9cygbt4CkBs5B4f6OJKUr+q7nfOCz4f4Ykitcd+7zmjkh1wPD48tKy6HsqmmSq1jfHu4vAC4se24qW/b8PwB8vUIuHwPODfdnAX8O988HPh/uHwb8Kdz/MvCtPsuYDtwBTAjTzmKY4yP4beRuvkfgBiIqV1dNUyH0eEn3kTQae5EM8rI7SVGuP4fXXEFSD34opXpODwH3mNkaM+sANmjLSE1/tGSciB6SS/QPAvYHFlhSBKxUsbG0vB6SUgXDyb+kVOBuEckXdSVHABcoGTHsRmCyQl2fMm8i2bv6E8khuGnArvT3rJndGe5fFdYN4NDwS/4hki/pvcrmKS9ANxv4TXjdJ/u8ruQ64Lhw/3i2VEg9iKSRwcx+C0yTtE1Yv++UZjazVSRVZPcE7gzrNA/YqcKyXAG1jHQCrrAeoU9lRyWDecwEHgf2ZutDi2PDa3YmOWG4v5mtkvSD8NywSkyX2Rj+9pbdLz0ubb99GywbYnkbQqPRzyD5982nh4E/P03A68ysc5AcRLJ38ZtBXgMV1k3JEIgXkpzXeDacoyjPcV3Z/fOBb5jZjeHQ3Tn9FmD2nKSV4dDPu4HSYaqBSq9X+pEg4BYze+8Q6+MKyPcI3EBuBcZLOgk2n1T9OsnhoE6SwyT7SmqStANbShhPJvki+ns4Hv2WMP0xYI6kV4TH/wLcHinX1yipCttE8kX2e5Jf2W+UND3k/t5BlreG5JDTYPkPpnx+gJspq5Mvad8K8/wG+JCS8tdI2k2VB0bZUVvG0n1vWLfSl/6KcBz+2EFy2wZ4LtyfN8jrrgH+naQw3kNh2h0kg78QGpEVlozT0Hf9ppKMnHVg6f1VUoVzt0GW5wrEGwJXkZkZSfXIYyU9QVI9s9fMvhRecifJGK0PkYzMVBrq8QGSQyqPkBzTvjNM3wCcAvwkHKboBS6OlO5dwHkkVR//CtxgyQhlnwJuI6mweZ+ZDVSW+hLgfyXdNlD+Q/gl8M7SyWKS8ytzw4nUR0lOJvf1PZKyx/cpGaj8u1Tew1gMzJP0ILAtSS+u1STjIzxEUjXz3kFyO4fkf/47Bi/zfT1JafXr+sw7Nyz7PLY0JF8EpoYT1Q8Ah4bDdScDV4fX3w3sAZu7BB89yLLdCPPuoy4VJf3krwbeZWaLRjqfkvBL9RNmdtRI5xJb6JF0k5ntPcKpuFHOzxG4VMzsD/jJP+dGJd8jcM65BufnCJxzrsF5Q+Cccw3OGwLnnGtw3hA451yD84bAOecanDcEzjnX4P4/XMTyaAEXg3UAAAAASUVORK5CYII=\n",
      "text/plain": [
       "<Figure size 432x288 with 1 Axes>"
      ]
     },
     "metadata": {
      "needs_background": "light"
     },
     "output_type": "display_data"
    }
   ],
   "source": [
    "partnere_ambitious = data.pref_o_ambitious\n",
    "you_ambitious = data.ambtition_important\n",
    "\n",
    "sns.scatterplot(you_ambitious,partnere_ambitious)\n",
    "plt.title('Ser engraçado.')\n",
    "plt.xlabel('Quão importante é para você.')\n",
    "plt.ylabel('Quão importante é para o parceiro.')\n",
    "plt.show()"
   ]
  },
  {
   "cell_type": "markdown",
   "metadata": {},
   "source": [
    "## Porcentagem de match."
   ]
  },
  {
   "cell_type": "code",
   "execution_count": null,
   "metadata": {
    "scrolled": true
   },
   "outputs": [],
   "source": [
    "match = data.match.value_counts()\n",
    "match_rate = match*0.1\n",
    "match_rate = match_rate.rename(index={0: 'No match',1: 'Match'})\n",
    "\n",
    "match_rate.plot.bar()"
   ]
  },
  {
   "cell_type": "code",
   "execution_count": null,
   "metadata": {
    "scrolled": true
   },
   "outputs": [],
   "source": [
    "#match_rate.plot(kind='pie', colors=('pink', 'gold'), autopct=\"%0.2f\",legend=False)"
   ]
  },
  {
   "cell_type": "code",
   "execution_count": null,
   "metadata": {},
   "outputs": [],
   "source": [
    "sucesso=match_rate.Match\n",
    "data.field.value_couts"
=======
    "sns.regplot(data.funny.astype(int), data.attractive_partner.astype(int), color=('red'))\n",
    "data.funny.astype(int).corr(data.attractive_partner.astype(int))"
>>>>>>> e78c0ee027f91c31fd3e742743a7a0e91aae63dd
   ]
  },
  {
   "cell_type": "code",
<<<<<<< HEAD
   "execution_count": null,
   "metadata": {},
   "outputs": [],
   "source": [
    "mesma_raça=data.importance_same_race.astype(int)\n",
    "mesma_rel=data.importance_same_religion.astype(int)\n",
    "sns.regplot(mesma_raça, mesma_rel, color=('red'))\n",
    "a.corr(b)"
   ]
  },
  {
   "cell_type": "code",
   "execution_count": null,
   "metadata": {},
   "outputs": [],
   "source": [
    "sns.regplot(data.funny.astype(int), data.attractive_partner.astype(int), color=('red'))\n",
    "data.funny.astype(int).corr(data.attractive_partner.astype(int))"
   ]
  },
  {
   "cell_type": "code",
   "execution_count": null,
   "metadata": {},
   "outputs": [],
=======
   "execution_count": 81,
   "metadata": {},
   "outputs": [
    {
     "data": {
      "text/plain": [
       "<matplotlib.axes._subplots.AxesSubplot at 0x1a265e16d8>"
      ]
     },
     "execution_count": 81,
     "metadata": {},
     "output_type": "execute_result"
    },
    {
     "data": {
      "image/png": "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\n",
      "text/plain": [
       "<Figure size 432x288 with 1 Axes>"
      ]
     },
     "metadata": {},
     "output_type": "display_data"
    }
   ],
>>>>>>> e78c0ee027f91c31fd3e742743a7a0e91aae63dd
   "source": [
    "genero=data.gender.value_counts()\n",
    "genero.plot(kind='pie', autopct=\"%.2f\",legend=False)"
   ]
  },
  {
   "cell_type": "code",
<<<<<<< HEAD
   "execution_count": null,
   "metadata": {},
   "outputs": [],
=======
   "execution_count": 90,
   "metadata": {},
   "outputs": [
    {
     "data": {
      "text/plain": [
       "count    1048.000000\n",
       "mean       25.005725\n",
       "std         3.270365\n",
       "min        18.000000\n",
       "25%        22.000000\n",
       "50%        25.000000\n",
       "75%        27.000000\n",
       "max        35.000000\n",
       "Name: age, dtype: float64"
      ]
     },
     "execution_count": 90,
     "metadata": {},
     "output_type": "execute_result"
    },
    {
     "data": {
      "image/png": "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\n",
      "text/plain": [
       "<Figure size 432x288 with 1 Axes>"
      ]
     },
     "metadata": {
      "needs_background": "light"
     },
     "output_type": "display_data"
    }
   ],
>>>>>>> e78c0ee027f91c31fd3e742743a7a0e91aae63dd
   "source": [
    "idade=data.age.astype(int)\n",
    "plt.boxplot(idade)\n",
    "plt.title('Idade dos participantes')\n",
    "plt.ylabel('idade')\n",
    "plt.grid(which='both')\n",
    "plt.tight_layout()\n",
    "\n",
    "idade.describe()"
   ]
  },
  {
   "cell_type": "code",
<<<<<<< HEAD
   "execution_count": null,
   "metadata": {},
   "outputs": [],
=======
   "execution_count": 91,
   "metadata": {},
   "outputs": [
    {
     "data": {
      "text/html": [
       "<div>\n",
       "<style scoped>\n",
       "    .dataframe tbody tr th:only-of-type {\n",
       "        vertical-align: middle;\n",
       "    }\n",
       "\n",
       "    .dataframe tbody tr th {\n",
       "        vertical-align: top;\n",
       "    }\n",
       "\n",
       "    .dataframe thead th {\n",
       "        text-align: right;\n",
       "    }\n",
       "</style>\n",
       "<table border=\"1\" class=\"dataframe\">\n",
       "  <thead>\n",
       "    <tr style=\"text-align: right;\">\n",
       "      <th>match</th>\n",
       "      <th>0</th>\n",
       "      <th>1</th>\n",
       "    </tr>\n",
       "    <tr>\n",
       "      <th>age</th>\n",
       "      <th></th>\n",
       "      <th></th>\n",
       "    </tr>\n",
       "  </thead>\n",
       "  <tbody>\n",
       "    <tr>\n",
       "      <th>18</th>\n",
       "      <td>8</td>\n",
       "      <td>0</td>\n",
       "    </tr>\n",
       "    <tr>\n",
       "      <th>19</th>\n",
       "      <td>5</td>\n",
       "      <td>1</td>\n",
       "    </tr>\n",
       "    <tr>\n",
       "      <th>20</th>\n",
       "      <td>8</td>\n",
       "      <td>8</td>\n",
       "    </tr>\n",
       "    <tr>\n",
       "      <th>21</th>\n",
       "      <td>85</td>\n",
       "      <td>31</td>\n",
       "    </tr>\n",
       "    <tr>\n",
       "      <th>22</th>\n",
       "      <td>103</td>\n",
       "      <td>27</td>\n",
       "    </tr>\n",
       "    <tr>\n",
       "      <th>23</th>\n",
       "      <td>130</td>\n",
       "      <td>15</td>\n",
       "    </tr>\n",
       "    <tr>\n",
       "      <th>24</th>\n",
       "      <td>77</td>\n",
       "      <td>16</td>\n",
       "    </tr>\n",
       "    <tr>\n",
       "      <th>25</th>\n",
       "      <td>69</td>\n",
       "      <td>21</td>\n",
       "    </tr>\n",
       "    <tr>\n",
       "      <th>26</th>\n",
       "      <td>81</td>\n",
       "      <td>17</td>\n",
       "    </tr>\n",
       "    <tr>\n",
       "      <th>27</th>\n",
       "      <td>88</td>\n",
       "      <td>15</td>\n",
       "    </tr>\n",
       "    <tr>\n",
       "      <th>28</th>\n",
       "      <td>88</td>\n",
       "      <td>20</td>\n",
       "    </tr>\n",
       "    <tr>\n",
       "      <th>29</th>\n",
       "      <td>19</td>\n",
       "      <td>5</td>\n",
       "    </tr>\n",
       "    <tr>\n",
       "      <th>30</th>\n",
       "      <td>60</td>\n",
       "      <td>5</td>\n",
       "    </tr>\n",
       "    <tr>\n",
       "      <th>32</th>\n",
       "      <td>28</td>\n",
       "      <td>3</td>\n",
       "    </tr>\n",
       "    <tr>\n",
       "      <th>34</th>\n",
       "      <td>1</td>\n",
       "      <td>0</td>\n",
       "    </tr>\n",
       "    <tr>\n",
       "      <th>35</th>\n",
       "      <td>12</td>\n",
       "      <td>2</td>\n",
       "    </tr>\n",
       "  </tbody>\n",
       "</table>\n",
       "</div>"
      ],
      "text/plain": [
       "match    0   1\n",
       "age           \n",
       "18       8   0\n",
       "19       5   1\n",
       "20       8   8\n",
       "21      85  31\n",
       "22     103  27\n",
       "23     130  15\n",
       "24      77  16\n",
       "25      69  21\n",
       "26      81  17\n",
       "27      88  15\n",
       "28      88  20\n",
       "29      19   5\n",
       "30      60   5\n",
       "32      28   3\n",
       "34       1   0\n",
       "35      12   2"
      ]
     },
     "execution_count": 91,
     "metadata": {},
     "output_type": "execute_result"
    }
   ],
>>>>>>> e78c0ee027f91c31fd3e742743a7a0e91aae63dd
   "source": [
    "pd.crosstab(data.age,data.match)"
   ]
  },
  {
   "cell_type": "code",
<<<<<<< HEAD
   "execution_count": null,
   "metadata": {
    "scrolled": false
   },
   "outputs": [],
=======
   "execution_count": 151,
   "metadata": {
    "scrolled": false
   },
   "outputs": [
    {
     "data": {
      "text/plain": [
       "<BarContainer object of 1048 artists>"
      ]
     },
     "execution_count": 151,
     "metadata": {},
     "output_type": "execute_result"
    },
    {
     "data": {
      "image/png": "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\n",
      "text/plain": [
       "<Figure size 1080x576 with 1 Axes>"
      ]
     },
     "metadata": {
      "needs_background": "light"
     },
     "output_type": "display_data"
    }
   ],
>>>>>>> e78c0ee027f91c31fd3e742743a7a0e91aae63dd
   "source": [
    "fig, ax = plt.subplots(figsize=(15, 8))\n",
    "ax.barh( data['race'], data['importance_same_religion'])"
   ]
  },
  {
   "cell_type": "code",
   "execution_count": null,
   "metadata": {},
   "outputs": [],
   "source": []
  },
  {
   "cell_type": "code",
<<<<<<< HEAD
   "execution_count": null,
=======
   "execution_count": 8,
>>>>>>> e78c0ee027f91c31fd3e742743a7a0e91aae63dd
   "metadata": {},
   "outputs": [],
   "source": [
    "X_num = data[['age', \"age_o\", 'importance_same_race',\n",
    " 'importance_same_religion',  'pref_o_attractive', 'pref_o_sincere',\n",
    " 'pref_o_intelligence', 'pref_o_funny', 'pref_o_ambitious',\n",
    " 'pref_o_shared_interests',  'attractive_o' ,'sinsere_o' ,'intelligence_o',\n",
    " 'funny_o' ,'ambitous_o', 'shared_interests_o' ,'attractive_important', 'sincere_important' ,'intellicence_important' ,'funny_important',\n",
    " 'ambtition_important' ,'shared_interests_important' ,'attractive', 'sincere',\n",
    " 'intelligence' ,'funny' ,'ambition' ,'attractive_partner', 'sincere_partner',\n",
    " 'intelligence_partner', 'funny_partner' ,'ambition_partner',\n",
    " 'shared_interests_partner', 'sports', 'tvsports' ,'exercise', 'dining',\n",
    " 'museums', 'art' ,'hiking' ,'gaming' ,'clubbing', 'reading', 'tv' ,'theater',\n",
    " 'movies' ,'concerts', 'music' ,'shopping' ,'yoga', \n",
    " 'like'  \n",
    "]]\n",
    "X_cat = data[['gender', 'race', \"race_o\", 'field', 'met'  ]]"
   ]
  },
  {
   "cell_type": "code",
<<<<<<< HEAD
   "execution_count": null,
=======
   "execution_count": 9,
>>>>>>> e78c0ee027f91c31fd3e742743a7a0e91aae63dd
   "metadata": {},
   "outputs": [],
   "source": [
    "y = data['match']"
   ]
  },
  {
   "cell_type": "code",
<<<<<<< HEAD
   "execution_count": null,
=======
   "execution_count": 10,
>>>>>>> e78c0ee027f91c31fd3e742743a7a0e91aae63dd
   "metadata": {},
   "outputs": [],
   "source": [
    "from sklearn.preprocessing import OneHotEncoder\n",
    "\n",
    "encoder = OneHotEncoder()\n",
    "\n",
    "X_cat_encoded = encoder.fit_transform(X_cat)"
   ]
  },
  {
   "cell_type": "code",
<<<<<<< HEAD
   "execution_count": null,
   "metadata": {},
   "outputs": [],
=======
   "execution_count": 11,
   "metadata": {},
   "outputs": [
    {
     "data": {
      "text/plain": [
       "[array(['female', 'male'], dtype=object),\n",
       " array([\"'Asian/Pacific Islander/Asian-American'\",\n",
       "        \"'Black/African American'\", \"'Latino/Hispanic American'\",\n",
       "        'European/Caucasian-American', 'Other'], dtype=object),\n",
       " array([\"'Asian/Pacific Islander/Asian-American'\",\n",
       "        \"'Black/African American'\", \"'Latino/Hispanic American'\",\n",
       "        'European/Caucasian-American', 'Other'], dtype=object),\n",
       " array([\"'Applied Maths/Econs'\", \"'Art History/medicine'\",\n",
       "        \"'Biomedical Engineering'\", \"'Business & International Affairs'\",\n",
       "        \"'Business [MBA]'\", \"'Business- MBA'\", \"'Computer Science'\",\n",
       "        \"'Economics and Political Science'\", \"'Economics; Sociology'\",\n",
       "        \"'Educational Psychology'\", \"'Electrical Engineering'\",\n",
       "        \"'Elementary/Childhood Education [MA]'\", \"'German Literature'\",\n",
       "        \"'International Educational Development'\",\n",
       "        \"'Masters in Public Administration'\", \"'Masters of Social Work'\",\n",
       "        \"'Mathematical Finance'\", \"'Mechanical Engineering'\",\n",
       "        \"'Operations Research [SEAS]'\", \"'Operations Research'\",\n",
       "        \"'Organizational Psychology'\", \"'Social Work'\",\n",
       "        \"'Speech Language Pathology'\", \"'TC [Health Ed]'\",\n",
       "        \"'Undergrad - GS'\", \"'financial math'\", \"'political science'\",\n",
       "        \"'psychology and english'\", \"'social work'\", 'Business',\n",
       "        'Chemistry', 'Classics', 'Communications', 'Economics',\n",
       "        'Engineering', 'English', 'Film', 'Finanace', 'Finance',\n",
       "        'Finance&Economics', 'Journalism', 'LAW', 'Law', 'MBA',\n",
       "        'Marketing', 'Mathematics', 'Medicine', 'Polish', 'Psychology',\n",
       "        'Sociology', 'Statistics', 'chemistry', 'law', 'microbiology',\n",
       "        'philosophy', 'psychology'], dtype=object),\n",
       " array(['0', '1', '3'], dtype=object)]"
      ]
     },
     "execution_count": 11,
     "metadata": {},
     "output_type": "execute_result"
    }
   ],
>>>>>>> e78c0ee027f91c31fd3e742743a7a0e91aae63dd
   "source": [
    "encoder.categories_"
   ]
  },
  {
   "cell_type": "code",
<<<<<<< HEAD
   "execution_count": null,
   "metadata": {},
   "outputs": [],
=======
   "execution_count": 12,
   "metadata": {},
   "outputs": [
    {
     "data": {
      "text/plain": [
       "array([1., 0., 1., 0., 0., 0., 0., 0., 0., 0., 1., 0., 0., 0., 0., 0., 0.,\n",
       "       0., 0., 0., 0., 0., 0., 0., 0., 0., 0., 0., 0., 0., 0., 0., 0., 0.,\n",
       "       0., 0., 0., 0., 0., 0., 0., 0., 0., 0., 0., 0., 0., 0., 0., 0., 0.,\n",
       "       0., 0., 0., 1., 0., 0., 0., 0., 0., 0., 0., 0., 0., 0., 0., 0., 0.,\n",
       "       1., 0., 0.])"
      ]
     },
     "execution_count": 12,
     "metadata": {},
     "output_type": "execute_result"
    }
   ],
>>>>>>> e78c0ee027f91c31fd3e742743a7a0e91aae63dd
   "source": [
    "X_cat_encoded.toarray()[0]"
   ]
  },
  {
   "cell_type": "code",
<<<<<<< HEAD
   "execution_count": null,
=======
   "execution_count": 13,
>>>>>>> e78c0ee027f91c31fd3e742743a7a0e91aae63dd
   "metadata": {},
   "outputs": [],
   "source": [
    "X_num_array = X_num.values"
   ]
  },
  {
   "cell_type": "code",
   "execution_count": null,
   "metadata": {},
   "outputs": [],
   "source": [
    "X_cat_encoded_array = X_cat_encoded.toarray()"
   ]
  },
  {
   "cell_type": "code",
   "execution_count": null,
   "metadata": {},
   "outputs": [],
   "source": [
    "X = np.concatenate((X_num_array, X_cat_encoded_array), axis=1)"
   ]
  },
  {
   "cell_type": "code",
   "execution_count": null,
   "metadata": {},
   "outputs": [],
   "source": [
    "X[0]"
   ]
  },
  {
   "cell_type": "code",
   "execution_count": null,
   "metadata": {},
   "outputs": [],
   "source": [
    "y[0]"
   ]
  },
  {
   "cell_type": "code",
   "execution_count": null,
   "metadata": {},
   "outputs": [],
   "source": [
    "from sklearn.ensemble import RandomForestClassifier\n",
    "from sklearn.model_selection import train_test_split\n",
    "from sklearn.metrics import accuracy_score\n",
    "\n",
    "X_train, X_test, y_train, y_test = train_test_split(X, y)\n",
    "\n",
    "model = RandomForestClassifier()\n",
    "model.fit(X_train, y_train)\n",
    "y_pred = model.predict(X_test)\n",
    "\n",
    "print(accuracy_score(y_test, y_pred))"
   ]
  },
  {
   "cell_type": "code",
   "execution_count": null,
   "metadata": {},
   "outputs": [],
   "source": [
    "novo_dado = [\"female\", 18, 18,'Latino/Hispanic American', 'Latino/Hispanic American','Engineering', 80, 100, 80, 60, 70, 100, 100, 100, 100, 100, 100, 60, 100, 70, 70, 70, 80, 6, 8, 7, 5, 7, 8, 9, 7.5, 9, 8, 6, 0, 8, 10, 5, 7, 0, 7, 0, 6, 10, 6, 10, 8, 10, 8, 3, 10, 1]  \n",
    "novo_x_num = np.array([novo_dado[0]]).reshape(-1,1)\n",
    "novo_x_cat = [novo_dado[1:]]"
   ]
  },
  {
   "cell_type": "code",
   "execution_count": null,
   "metadata": {
    "scrolled": true
   },
   "outputs": [],
   "source": [
    "novo_x_num"
   ]
  },
  {
   "cell_type": "code",
   "execution_count": null,
   "metadata": {},
   "outputs": [],
   "source": [
    "novo_x_cat"
   ]
  },
  {
   "cell_type": "code",
   "execution_count": null,
   "metadata": {},
   "outputs": [],
   "source": [
    "            "
   ]
  },
  {
   "cell_type": "code",
   "execution_count": null,
   "metadata": {},
   "outputs": [],
   "source": []
  },
  {
   "cell_type": "code",
   "execution_count": null,
   "metadata": {},
   "outputs": [],
   "source": [
    "data_suja_completa.attractive.value_counts()"
   ]
  },
  {
   "cell_type": "code",
   "execution_count": null,
   "metadata": {},
   "outputs": [],
   "source": []
  }
 ],
 "metadata": {
  "kernelspec": {
   "display_name": "Python 3",
   "language": "python",
   "name": "python3"
  },
  "language_info": {
   "codemirror_mode": {
    "name": "ipython",
    "version": 3
   },
   "file_extension": ".py",
   "mimetype": "text/x-python",
   "name": "python",
   "nbconvert_exporter": "python",
   "pygments_lexer": "ipython3",
   "version": "3.7.1"
  }
 },
 "nbformat": 4,
 "nbformat_minor": 2
}
