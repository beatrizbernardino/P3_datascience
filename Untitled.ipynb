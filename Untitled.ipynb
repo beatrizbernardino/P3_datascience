{
 "cells": [
  {
   "cell_type": "code",
   "execution_count": 18,
   "metadata": {},
   "outputs": [],
   "source": [
    "import numpy as np\n",
    "import pandas as pd\n",
    "import matplotlib.pyplot as plt\n",
    "import seaborn as sns"
   ]
  },
  {
   "cell_type": "code",
   "execution_count": 19,
   "metadata": {
    "scrolled": true
   },
   "outputs": [
    {
     "name": "stderr",
     "output_type": "stream",
     "text": [
      "C:\\Users\\Vitor Bandeira\\AppData\\Local\\Continuum\\anaconda3\\lib\\site-packages\\IPython\\core\\interactiveshell.py:3020: DtypeWarning: Columns (3,10,11,15,16,17,18,19,39,40,41,42,43,44,51,52,53,54,55,73,74,75,76,77,78,79,80,81,82,83,84,85,86,87,88,89,107,109) have mixed types. Specify dtype option on import or set low_memory=False.\n",
      "  interactivity=interactivity, compiler=compiler, result=result)\n"
     ]
    }
   ],
   "source": [
    "data_suja_completa=pd.read_csv(\"speeddating.csv\")\n"
   ]
  },
  {
   "cell_type": "code",
   "execution_count": 20,
   "metadata": {},
   "outputs": [],
   "source": [
    "data_suja_limpo=data_suja_completa[data_suja_completa!= \"?\" ]\n",
    "data_suja_limpo.dropna(inplace=True)\n"
   ]
  },
  {
   "cell_type": "code",
   "execution_count": 21,
   "metadata": {
    "scrolled": true
   },
   "outputs": [
    {
     "data": {
      "text/plain": [
       "Index(['has_null', 'wave', 'gender', 'age', 'age_o', 'd_age', 'd_d_age',\n",
       "       'race', 'race_o', 'samerace',\n",
       "       ...\n",
       "       'd_expected_num_interested_in_me', 'd_expected_num_matches', 'like',\n",
       "       'guess_prob_liked', 'd_like', 'd_guess_prob_liked', 'met', 'decision',\n",
       "       'decision_o', 'match'],\n",
       "      dtype='object', length=123)"
      ]
     },
     "execution_count": 21,
     "metadata": {},
     "output_type": "execute_result"
    }
   ],
   "source": [
    "data_suja_limpo.columns"
   ]
  },
  {
   "cell_type": "code",
   "execution_count": 22,
   "metadata": {},
   "outputs": [],
   "source": [
    "data=data_suja_limpo.drop(['d_pref_o_funny' ,'d_pref_o_ambitious',\n",
    "                     'd_pref_o_shared_interests','d_pref_o_sincere', 'd_pref_o_intelligence',\n",
    "                     \"wave\",'d_pref_o_attractive',\"has_null\",\"d_age\",'d_importance_same_race',\n",
    "                     'd_importance_same_religion',\"samerace\", \"d_d_age\", \"expected_happy_with_sd_people\", \n",
    "                     \"expected_num_interested_in_me\", \"expected_num_matches\", \"guess_prob_liked\", \"decision\", \n",
    "                     \"decision_o\", 'd_attractive_o',\n",
    " 'd_sinsere_o' ,'d_intelligence_o' ,'d_funny_o', 'd_ambitous_o',\n",
    " 'd_shared_interests_o', 'd_attractive_important' ,'d_sincere_important' ,'d_intellicence_important',\n",
    " 'd_funny_important', 'd_ambtition_important',\n",
    " 'd_shared_interests_important', 'd_attractive', 'd_sincere',\n",
    " 'd_intelligence', 'd_funny' ,'d_ambition', 'd_attractive_partner' ,'d_sincere_partner',\n",
    " 'd_intelligence_partner', 'd_funny_partner', 'd_ambition_partner',\n",
    " 'd_shared_interests_partner', 'd_sports', 'd_tvsports',\n",
    " 'd_exercise' ,'d_dining' ,'d_museums', 'd_art' ,'d_hiking', 'd_gaming',\n",
    " 'd_clubbing' ,'d_reading', 'd_tv' ,'d_theater' ,'d_movies' ,'d_concerts',\n",
    " 'd_music', 'd_shopping', 'd_yoga', 'd_interests_correlate' ,'d_expected_happy_with_sd_people',\n",
    " 'd_expected_num_interested_in_me', 'd_expected_num_matches',\n",
    " 'd_like', 'd_guess_prob_liked'], axis=1)\n"
   ]
  },
  {
   "cell_type": "code",
   "execution_count": 23,
   "metadata": {},
   "outputs": [
    {
     "name": "stderr",
     "output_type": "stream",
     "text": [
      "C:\\Users\\Vitor Bandeira\\AppData\\Local\\Continuum\\anaconda3\\lib\\site-packages\\ipykernel_launcher.py:16: UserWarning: Pandas doesn't allow columns to be created via a new attribute name - see https://pandas.pydata.org/pandas-docs/stable/indexing.html#attribute-access\n",
      "  app.launch_new_instance()\n"
     ]
    }
   ],
   "source": [
    "#mudando de string para int\n",
    "data.age = data.age.astype(int)\n",
    "data.age_o = data.age_o.astype(int)\n",
    "data.match  = data.match.astype(int)\n",
    "data.exercise = data.exercise.astype(int)\n",
    "data.interests_correlate = data.interests_correlate.astype(float)\n",
    "data.pref_o_attractive = data.pref_o_attractive.astype(float)\n",
    "data.pref_o_sincere = data.pref_o_sincere.astype(float)\n",
    "data.pref_o_intelligence = data.pref_o_intelligence.astype(float)\n",
    "data.pref_o_funny = data.pref_o_funny.astype(float)\n",
    "data.pref_o_ambitious = data.pref_o_ambitious.astype(float)\n",
    "data.attractive = data.pref_o_attractive.astype(float)\n",
    "data.sincere = data.pref_o_sincere.astype(float)\n",
    "data.intelligence = data.pref_o_intelligence.astype(float)\n",
    "data.funny = data.pref_o_funny.astype(float)\n",
    "data.ambitious = data.pref_o_ambitious.astype(float)"
   ]
  },
  {
   "cell_type": "code",
   "execution_count": 24,
   "metadata": {
    "scrolled": true
   },
   "outputs": [
    {
     "name": "stdout",
     "output_type": "stream",
     "text": [
      "['gender' 'age' 'age_o' 'race' 'race_o' 'importance_same_race'\n",
      " 'importance_same_religion' 'field' 'pref_o_attractive' 'pref_o_sincere'\n",
      " 'pref_o_intelligence' 'pref_o_funny' 'pref_o_ambitious'\n",
      " 'pref_o_shared_interests' 'attractive_o' 'sinsere_o' 'intelligence_o'\n",
      " 'funny_o' 'ambitous_o' 'shared_interests_o' 'attractive_important'\n",
      " 'sincere_important' 'intellicence_important' 'funny_important'\n",
      " 'ambtition_important' 'shared_interests_important' 'attractive' 'sincere'\n",
      " 'intelligence' 'funny' 'ambition' 'attractive_partner' 'sincere_partner'\n",
      " 'intelligence_partner' 'funny_partner' 'ambition_partner'\n",
      " 'shared_interests_partner' 'sports' 'tvsports' 'exercise' 'dining'\n",
      " 'museums' 'art' 'hiking' 'gaming' 'clubbing' 'reading' 'tv' 'theater'\n",
      " 'movies' 'concerts' 'music' 'shopping' 'yoga' 'interests_correlate'\n",
      " 'like' 'met' 'match']\n"
     ]
    }
   ],
   "source": [
    "print(data.columns.values)"
   ]
  },
  {
   "cell_type": "markdown",
   "metadata": {},
   "source": [
    "## Numero de match para ambos os sexos."
   ]
  },
  {
   "cell_type": "code",
   "execution_count": 25,
   "metadata": {
    "scrolled": false
   },
   "outputs": [
    {
     "data": {
      "text/plain": [
       "No match    429\n",
       "Match       102\n",
       "Name: match, dtype: int64"
      ]
     },
     "execution_count": 25,
     "metadata": {},
     "output_type": "execute_result"
    },
    {
     "data": {
      "image/png": "[encoded data removed]",
      "text/plain": [
       "<Figure size 432x288 with 1 Axes>"
      ]
     },
     "metadata": {
      "needs_background": "light"
     },
     "output_type": "display_data"
    }
   ],
   "source": [
    "homens=data[data.gender==\"male\"]\n",
    "mulheres=data[data.gender==\"female\"]\n",
    "\n",
    "match_homem = homens.match.value_counts()\n",
    "match_mulher = mulheres.match.value_counts()\n",
    "\n",
    "match_homem = match_homem.rename(index={0: 'No match',1: 'Match'})\n",
    "match_mulher = match_mulher.rename(index={0: 'No match',1: 'Match'})\n",
    "\n",
    "match_mulher.plot.bar()\n",
    "plt.title('Match entre as mulheres.')\n",
    "match_mulher"
   ]
  },
  {
   "cell_type": "code",
   "execution_count": 26,
   "metadata": {},
   "outputs": [
    {
     "data": {
      "text/plain": [
       "No match    433\n",
       "Match        84\n",
       "Name: match, dtype: int64"
      ]
     },
     "execution_count": 26,
     "metadata": {},
     "output_type": "execute_result"
    },
    {
     "data": {
      "image/png": "[encoded data removed]",
      "text/plain": [
       "<Figure size 432x288 with 1 Axes>"
      ]
     },
     "metadata": {
      "needs_background": "light"
     },
     "output_type": "display_data"
    }
   ],
   "source": [
    "match_homem.plot.bar()\n",
    "plt.title('Match entre os homens.')\n",
    "match_homem"
   ]
  },
  {
   "cell_type": "code",
   "execution_count": 27,
   "metadata": {},
   "outputs": [],
   "source": [
    "#data.interests_correlate.astype(float).plot()"
   ]
  },
  {
   "cell_type": "markdown",
   "metadata": {},
   "source": [
    "## “O que esperamos do outro” VS “O que o outro espera de você”"
   ]
  },
  {
   "cell_type": "code",
   "execution_count": 28,
   "metadata": {
    "scrolled": true
   },
   "outputs": [
    {
     "data": {
      "image/png": "[encoded data removed]",
      "text/plain": [
       "<Figure size 432x288 with 1 Axes>"
      ]
     },
     "metadata": {
      "needs_background": "light"
     },
     "output_type": "display_data"
    }
   ],
   "source": [
    "partnere_attractive = data.pref_o_attractive.astype(float)\n",
    "you_attractive = data.attractive_important.astype(float)\n",
    "\n",
    "sns.scatterplot(you_attractive,partnere_attractive)\n",
    "plt.title('Ser atraente visualmente.')\n",
    "plt.xlabel('Quão importante é para você.')\n",
    "plt.ylabel('Quão importante é para o parceiro.')\n",
    "plt.show()"
   ]
  },
  {
   "cell_type": "markdown",
   "metadata": {},
   "source": [
    "Portanto, é mais fácil conseguir um match caso você seja uma pessoa que não liga muito para beleza."
   ]
  },
  {
   "cell_type": "code",
   "execution_count": 29,
   "metadata": {
    "scrolled": true
   },
   "outputs": [
    {
     "data": {
      "image/png": "[encoded data removed]",
      "text/plain": [
       "<Figure size 432x288 with 1 Axes>"
      ]
     },
     "metadata": {
      "needs_background": "light"
     },
     "output_type": "display_data"
    }
   ],
   "source": [
    "partnere_intelligence = data.pref_o_intelligence.astype(float)\n",
    "you_intelligence = data.intellicence_important.astype(float)\n",
    "\n",
    "sns.scatterplot(you_intelligence,partnere_intelligence)\n",
    "plt.title('Ser inteligente.')\n",
    "plt.xlabel('Quão importante é para você.')\n",
    "plt.ylabel('Quão importante é para o parceiro.')\n",
    "plt.show()"
   ]
  },
  {
   "cell_type": "code",
   "execution_count": 30,
   "metadata": {
    "scrolled": false
   },
   "outputs": [
    {
     "data": {
      "image/png": "[encoded data removed]",
      "text/plain": [
       "<Figure size 432x288 with 1 Axes>"
      ]
     },
     "metadata": {
      "needs_background": "light"
     },
     "output_type": "display_data"
    }
   ],
   "source": [
    "partnere_interes = data.pref_o_shared_interests\n",
    "you_interes = data.shared_interests_important\n",
    "\n",
    "sns.scatterplot(you_interes,partnere_interes)\n",
    "plt.title('Interesses compartilhados.')\n",
    "plt.xlabel('Quão importante é para você.')\n",
    "plt.ylabel('Quão importante é para o parceiro.')\n",
    "plt.show()"
   ]
  },
  {
   "cell_type": "code",
   "execution_count": 39,
   "metadata": {
    "scrolled": true
   },
   "outputs": [
    {
     "data": {
      "image/png": "[encoded data removed]",
      "text/plain": [
       "<Figure size 432x288 with 1 Axes>"
      ]
     },
     "metadata": {
      "needs_background": "light"
     },
     "output_type": "display_data"
    }
   ],
   "source": [
    "partnere_sincere = data.pref_o_sincere\n",
    "you_sincere = data.sincere_important\n",
    "\n",
    "sns.scatterplot(you_sincere,partnere_sincere)\n",
    "plt.title('Ser sincero.')\n",
    "plt.xlabel('Quão importante é para você.')\n",
    "plt.ylabel('Quão importante é para o parceiro.')\n",
    "plt.show()"
   ]
  },
  {
   "cell_type": "code",
   "execution_count": 41,
   "metadata": {
    "scrolled": false
   },
   "outputs": [
    {
     "data": {
      "image/png": "[encoded data removed]",
      "text/plain": [
       "<Figure size 432x288 with 1 Axes>"
      ]
     },
     "metadata": {
      "needs_background": "light"
     },
     "output_type": "display_data"
    }
   ],
   "source": [
    "partnere_funny = data.pref_o_funny\n",
    "you_funny = data.funny_important\n",
    "\n",
    "sns.scatterplot(you_funny,partnere_funny)\n",
    "plt.title('Ser engraçado.')\n",
    "plt.xlabel('Quão importante é para você.')\n",
    "plt.ylabel('Quão importante é para o parceiro.')\n",
    "plt.show()"
   ]
  },
  {
   "cell_type": "code",
   "execution_count": 43,
   "metadata": {},
   "outputs": [
    {
     "data": {
      "image/png": "[encoded data removed]",
      "text/plain": [
       "<Figure size 432x288 with 1 Axes>"
      ]
     },
     "metadata": {
      "needs_background": "light"
     },
     "output_type": "display_data"
    }
   ],
   "source": [
    "partnere_ambitious = data.pref_o_ambitious\n",
    "you_ambitious = data.ambtition_important\n",
    "\n",
    "sns.scatterplot(you_ambitious,partnere_ambitious)\n",
    "plt.title('Ser engraçado.')\n",
    "plt.xlabel('Quão importante é para você.')\n",
    "plt.ylabel('Quão importante é para o parceiro.')\n",
    "plt.show()"
   ]
  },
  {
   "cell_type": "markdown",
   "metadata": {},
   "source": [
    "## Porcentagem de match."
   ]
  },
  {
   "cell_type": "code",
   "execution_count": null,
   "metadata": {
    "scrolled": true
   },
   "outputs": [],
   "source": [
    "match = data.match.value_counts()\n",
    "match_rate = match*0.1\n",
    "match_rate = match_rate.rename(index={0: 'No match',1: 'Match'})\n",
    "\n",
    "match_rate.plot.bar()"
   ]
  },
  {
   "cell_type": "code",
   "execution_count": null,
   "metadata": {
    "scrolled": true
   },
   "outputs": [],
   "source": [
    "#match_rate.plot(kind='pie', colors=('pink', 'gold'), autopct=\"%0.2f\",legend=False)"
   ]
  },
  {
   "cell_type": "code",
   "execution_count": null,
   "metadata": {},
   "outputs": [],
   "source": [
    "sucesso=match_rate.Match\n",
    "data.field.value_couts"
   ]
  },
  {
   "cell_type": "code",
   "execution_count": null,
   "metadata": {},
   "outputs": [],
   "source": [
    "mesma_raça=data.importance_same_race.astype(int)\n",
    "mesma_rel=data.importance_same_religion.astype(int)\n",
    "sns.regplot(mesma_raça, mesma_rel, color=('red'))\n",
    "a.corr(b)"
   ]
  },
  {
   "cell_type": "code",
   "execution_count": null,
   "metadata": {},
   "outputs": [],
   "source": [
    "sns.regplot(data.funny.astype(int), data.attractive_partner.astype(int), color=('red'))\n",
    "data.funny.astype(int).corr(data.attractive_partner.astype(int))"
   ]
  },
  {
   "cell_type": "code",
   "execution_count": null,
   "metadata": {},
   "outputs": [],
   "source": [
    "genero=data.gender.value_counts()\n",
    "genero.plot(kind='pie', autopct=\"%.2f\",legend=False)"
   ]
  },
  {
   "cell_type": "code",
   "execution_count": null,
   "metadata": {},
   "outputs": [],
   "source": [
    "idade=data.age.astype(int)\n",
    "plt.boxplot(idade)\n",
    "plt.title('Idade dos participantes')\n",
    "plt.ylabel('idade')\n",
    "plt.grid(which='both')\n",
    "plt.tight_layout()\n",
    "\n",
    "idade.describe()"
   ]
  },
  {
   "cell_type": "code",
   "execution_count": null,
   "metadata": {},
   "outputs": [],
   "source": [
    "pd.crosstab(data.age,data.match)"
   ]
  },
  {
   "cell_type": "code",
   "execution_count": null,
   "metadata": {
    "scrolled": false
   },
   "outputs": [],
   "source": [
    "fig, ax = plt.subplots(figsize=(15, 8))\n",
    "ax.barh( data['race'], data['importance_same_religion'])"
   ]
  },
  {
   "cell_type": "code",
   "execution_count": null,
   "metadata": {},
   "outputs": [],
   "source": []
  },
  {
   "cell_type": "code",
   "execution_count": null,
   "metadata": {},
   "outputs": [],
   "source": [
    "X_num = data[['age', \"age_o\", 'importance_same_race',\n",
    " 'importance_same_religion',  'pref_o_attractive', 'pref_o_sincere',\n",
    " 'pref_o_intelligence', 'pref_o_funny', 'pref_o_ambitious',\n",
    " 'pref_o_shared_interests',  'attractive_o' ,'sinsere_o' ,'intelligence_o',\n",
    " 'funny_o' ,'ambitous_o', 'shared_interests_o' ,'attractive_important', 'sincere_important' ,'intellicence_important' ,'funny_important',\n",
    " 'ambtition_important' ,'shared_interests_important' ,'attractive', 'sincere',\n",
    " 'intelligence' ,'funny' ,'ambition' ,'attractive_partner', 'sincere_partner',\n",
    " 'intelligence_partner', 'funny_partner' ,'ambition_partner',\n",
    " 'shared_interests_partner', 'sports', 'tvsports' ,'exercise', 'dining',\n",
    " 'museums', 'art' ,'hiking' ,'gaming' ,'clubbing', 'reading', 'tv' ,'theater',\n",
    " 'movies' ,'concerts', 'music' ,'shopping' ,'yoga', \n",
    " 'like'  \n",
    "]]\n",
    "X_cat = data[['gender', 'race', \"race_o\", 'field', 'met'  ]]"
   ]
  },
  {
   "cell_type": "code",
   "execution_count": null,
   "metadata": {},
   "outputs": [],
   "source": [
    "y = data['match']"
   ]
  },
  {
   "cell_type": "code",
   "execution_count": null,
   "metadata": {},
   "outputs": [],
   "source": [
    "from sklearn.preprocessing import OneHotEncoder\n",
    "\n",
    "encoder = OneHotEncoder()\n",
    "\n",
    "X_cat_encoded = encoder.fit_transform(X_cat)"
   ]
  },
  {
   "cell_type": "code",
   "execution_count": null,
   "metadata": {},
   "outputs": [],
   "source": [
    "encoder.categories_"
   ]
  },
  {
   "cell_type": "code",
   "execution_count": null,
   "metadata": {},
   "outputs": [],
   "source": [
    "X_cat_encoded.toarray()[0]"
   ]
  },
  {
   "cell_type": "code",
   "execution_count": null,
   "metadata": {},
   "outputs": [],
   "source": [
    "X_num_array = X_num.values"
   ]
  },
  {
   "cell_type": "code",
   "execution_count": null,
   "metadata": {},
   "outputs": [],
   "source": [
    "X_cat_encoded_array = X_cat_encoded.toarray()"
   ]
  },
  {
   "cell_type": "code",
   "execution_count": null,
   "metadata": {},
   "outputs": [],
   "source": [
    "X = np.concatenate((X_num_array, X_cat_encoded_array), axis=1)"
   ]
  },
  {
   "cell_type": "code",
   "execution_count": null,
   "metadata": {},
   "outputs": [],
   "source": [
    "X[0]"
   ]
  },
  {
   "cell_type": "code",
   "execution_count": null,
   "metadata": {},
   "outputs": [],
   "source": [
    "y[0]"
   ]
  },
  {
   "cell_type": "code",
   "execution_count": null,
   "metadata": {},
   "outputs": [],
   "source": [
    "from sklearn.ensemble import RandomForestClassifier\n",
    "from sklearn.model_selection import train_test_split\n",
    "from sklearn.metrics import accuracy_score\n",
    "\n",
    "X_train, X_test, y_train, y_test = train_test_split(X, y)\n",
    "\n",
    "model = RandomForestClassifier()\n",
    "model.fit(X_train, y_train)\n",
    "y_pred = model.predict(X_test)\n",
    "\n",
    "print(accuracy_score(y_test, y_pred))"
   ]
  },
  {
   "cell_type": "code",
   "execution_count": null,
   "metadata": {},
   "outputs": [],
   "source": [
    "novo_dado = [\"female\", 18, 18,'Latino/Hispanic American', 'Latino/Hispanic American','Engineering', 80, 100, 80, 60, 70, 100, 100, 100, 100, 100, 100, 60, 100, 70, 70, 70, 80, 6, 8, 7, 5, 7, 8, 9, 7.5, 9, 8, 6, 0, 8, 10, 5, 7, 0, 7, 0, 6, 10, 6, 10, 8, 10, 8, 3, 10, 1]  \n",
    "novo_x_num = np.array([novo_dado[0]]).reshape(-1,1)\n",
    "novo_x_cat = [novo_dado[1:]]"
   ]
  },
  {
   "cell_type": "code",
   "execution_count": null,
   "metadata": {
    "scrolled": true
   },
   "outputs": [],
   "source": [
    "novo_x_num"
   ]
  },
  {
   "cell_type": "code",
   "execution_count": null,
   "metadata": {},
   "outputs": [],
   "source": [
    "novo_x_cat"
   ]
  },
  {
   "cell_type": "code",
   "execution_count": null,
   "metadata": {},
   "outputs": [],
   "source": [
    "            "
   ]
  },
  {
   "cell_type": "code",
   "execution_count": null,
   "metadata": {},
   "outputs": [],
   "source": []
  },
  {
   "cell_type": "code",
   "execution_count": null,
   "metadata": {},
   "outputs": [],
   "source": [
    "data_suja_completa.attractive.value_counts()"
   ]
  },
  {
   "cell_type": "code",
   "execution_count": null,
   "metadata": {},
   "outputs": [],
   "source": []
  }
 ],
 "metadata": {
  "kernelspec": {
   "display_name": "Python 3",
   "language": "python",
   "name": "python3"
  },
  "language_info": {
   "codemirror_mode": {
    "name": "ipython",
    "version": 3
   },
   "file_extension": ".py",
   "mimetype": "text/x-python",
   "name": "python",
   "nbconvert_exporter": "python",
   "pygments_lexer": "ipython3",
   "version": "3.7.1"
  }
 },
 "nbformat": 4,
 "nbformat_minor": 2
}
