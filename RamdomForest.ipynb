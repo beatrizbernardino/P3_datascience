{
 "cells": [
  {
   "cell_type": "code",
   "execution_count": 1,
   "metadata": {},
   "outputs": [],
   "source": [
    "import numpy as np\n",
    "import pandas as pd\n",
    "import matplotlib.pyplot as plt\n"
   ]
  },
  {
   "cell_type": "code",
   "execution_count": 2,
   "metadata": {
    "scrolled": true
   },
   "outputs": [
    {
     "name": "stderr",
     "output_type": "stream",
     "text": [
      "/anaconda3/lib/python3.7/site-packages/IPython/core/interactiveshell.py:3020: DtypeWarning: Columns (3,10,11,15,16,17,18,19,39,40,41,42,43,44,51,52,53,54,55,73,74,75,76,77,78,79,80,81,82,83,84,85,86,87,88,89,107,109) have mixed types. Specify dtype option on import or set low_memory=False.\n",
      "  interactivity=interactivity, compiler=compiler, result=result)\n"
     ]
    }
   ],
   "source": [
    "data_suja_completa=pd.read_csv(\"speeddating.csv\")\n",
    "# data_suja_completa.head()"
   ]
  },
  {
   "cell_type": "code",
   "execution_count": 3,
   "metadata": {},
   "outputs": [],
   "source": [
    "data_suja_limpo=data_suja_completa[data_suja_completa!= \"?\" ]\n",
    "data_suja_limpo.dropna(inplace=True)"
   ]
  },
  {
   "cell_type": "code",
   "execution_count": 4,
   "metadata": {
    "scrolled": true
   },
   "outputs": [],
   "source": [
    "# data_suja_limpo.columns"
   ]
  },
  {
   "cell_type": "code",
   "execution_count": 5,
   "metadata": {},
   "outputs": [],
   "source": [
    "data=data_suja_limpo.drop(['d_expected_num_matches','d_expected_num_interested_in_me',\n",
    "                           'd_expected_happy_with_sd_people',\"expected_num_matches\",\n",
    "                           \"expected_num_interested_in_me\", \"guess_prob_liked\",\"decision\", \n",
    "                           \"decision_o\",\"expected_happy_with_sd_people\", \"samerace\",\"wave\",\n",
    "                           'has_null','d_d_age', 'd_guess_prob_liked'], axis=1)\n"
   ]
  },
  {
   "cell_type": "code",
   "execution_count": 6,
   "metadata": {},
   "outputs": [],
   "source": [
    "def dummify(data, column_name):\n",
    "    \"\"\"\n",
    "        Converte a coluna column_name em dummies / one-hot e as adiciona ao dataframe\n",
    "        retorna uma copia do  df original *sem* a coluna que foi dummified\n",
    "    \"\"\"\n",
    "    df = data.copy()\n",
    "    # Nota: se você for um econometrista, pode se interessar por usar a opção dropFirst = True na get_dummies\n",
    "    df2 = pd.concat([df.drop(column_name, axis=1), pd.get_dummies(data[column_name], prefix=column_name)], axis=1)\n",
    "    return df2"
   ]
  },
  {
   "cell_type": "code",
   "execution_count": 7,
   "metadata": {},
   "outputs": [],
   "source": [
    "X_num = data[['age', \"age_o\", 'importance_same_race',\n",
    " 'importance_same_religion',  'pref_o_attractive', 'pref_o_sincere',\n",
    " 'pref_o_intelligence', 'pref_o_funny', 'pref_o_ambitious',\n",
    " 'pref_o_shared_interests',  'attractive_o' ,'sinsere_o' ,'intelligence_o',\n",
    " 'funny_o' ,'ambitous_o', 'shared_interests_o' ,'attractive_important', 'sincere_important',\n",
    " 'intellicence_important' ,'funny_important',\n",
    " 'ambtition_important' ,'shared_interests_important' ,'attractive', 'sincere',\n",
    " 'intelligence' ,'funny' ,'ambition' ,'attractive_partner', 'sincere_partner',\n",
    " 'intelligence_partner', 'funny_partner' ,'ambition_partner',\n",
    " 'shared_interests_partner', 'sports', 'tvsports' ,'exercise', 'dining',\n",
    " 'museums', 'art' ,'hiking' ,'gaming' ,'clubbing', 'reading', 'tv' ,'theater',\n",
    " 'movies' ,'concerts', 'music' ,'shopping' ,'yoga', \n",
    " 'like']]\n",
    "\n",
    "X_cat = data[['gender', 'race', \"race_o\", 'field', 'met']]\n",
    "\n",
    "diferenças = ['d_pref_o_funny' ,'d_pref_o_ambitious','d_pref_o_shared_interests',\n",
    "'d_pref_o_sincere', 'd_pref_o_intelligence',\n",
    "'d_pref_o_attractive',\"d_age\",'d_importance_same_race',\n",
    "'d_importance_same_religion', 'd_attractive_o',\n",
    "'d_sinsere_o' ,'d_intelligence_o' ,'d_funny_o', 'd_ambitous_o',\n",
    "'d_shared_interests_o', 'd_attractive_important' ,'d_sincere_important' ,'d_intellicence_important',\n",
    "'d_funny_important', 'd_ambtition_important',\n",
    "'d_shared_interests_important', 'd_attractive', 'd_sincere',\n",
    "'d_intelligence', 'd_funny' ,'d_ambition', 'd_attractive_partner' ,'d_sincere_partner',\n",
    "'d_intelligence_partner', 'd_funny_partner', 'd_ambition_partner',\n",
    "'d_shared_interests_partner', 'd_sports', 'd_tvsports',\n",
    "'d_exercise' ,'d_dining' ,'d_museums', 'd_art' ,'d_hiking', 'd_gaming',\n",
    "'d_clubbing' ,'d_reading', 'd_tv' ,'d_theater' ,'d_movies' ,'d_concerts',\n",
    "'d_music', 'd_shopping', 'd_yoga', 'd_interests_correlate' ,\n",
    "'d_like']"
   ]
  },
  {
   "cell_type": "code",
   "execution_count": 8,
   "metadata": {},
   "outputs": [],
   "source": [
    "novo = data\n",
    "for i in X_cat:\n",
    "#     print(i)\n",
    "    novo = dummify(novo, i)\n",
    "    \n",
    "# for a in novo.columns:\n",
    "#     print(a)"
   ]
  },
  {
   "cell_type": "code",
   "execution_count": 9,
   "metadata": {},
   "outputs": [],
   "source": [
    "# novo[[\"gender_female\",\"gender_male\"]]\n",
    "# novo"
   ]
  },
  {
   "cell_type": "code",
   "execution_count": 10,
   "metadata": {},
   "outputs": [],
   "source": [
    "for i in diferenças:\n",
    "#     print(i)\n",
    "    novo = dummify(novo, i)"
   ]
  },
  {
   "cell_type": "code",
   "execution_count": 19,
   "metadata": {
    "scrolled": false
   },
   "outputs": [
    {
     "data": {
      "text/html": [
       "<div>\n",
       "<style scoped>\n",
       "    .dataframe tbody tr th:only-of-type {\n",
       "        vertical-align: middle;\n",
       "    }\n",
       "\n",
       "    .dataframe tbody tr th {\n",
       "        vertical-align: top;\n",
       "    }\n",
       "\n",
       "    .dataframe thead th {\n",
       "        text-align: right;\n",
       "    }\n",
       "</style>\n",
       "<table border=\"1\" class=\"dataframe\">\n",
       "  <thead>\n",
       "    <tr style=\"text-align: right;\">\n",
       "      <th></th>\n",
       "      <th>age</th>\n",
       "      <th>age_o</th>\n",
       "      <th>importance_same_race</th>\n",
       "      <th>importance_same_religion</th>\n",
       "      <th>pref_o_attractive</th>\n",
       "      <th>pref_o_sincere</th>\n",
       "      <th>pref_o_intelligence</th>\n",
       "      <th>pref_o_funny</th>\n",
       "      <th>pref_o_ambitious</th>\n",
       "      <th>pref_o_shared_interests</th>\n",
       "      <th>...</th>\n",
       "      <th>d_shopping_[9-10]</th>\n",
       "      <th>d_yoga_[0-5]</th>\n",
       "      <th>d_yoga_[6-8]</th>\n",
       "      <th>d_yoga_[9-10]</th>\n",
       "      <th>d_interests_correlate_[-1-0]</th>\n",
       "      <th>d_interests_correlate_[0-0.33]</th>\n",
       "      <th>d_interests_correlate_[0.33-1]</th>\n",
       "      <th>d_like_[0-5]</th>\n",
       "      <th>d_like_[6-8]</th>\n",
       "      <th>d_like_[9-10]</th>\n",
       "    </tr>\n",
       "  </thead>\n",
       "  <tbody>\n",
       "    <tr>\n",
       "      <th>0</th>\n",
       "      <td>21</td>\n",
       "      <td>27</td>\n",
       "      <td>2</td>\n",
       "      <td>4</td>\n",
       "      <td>35</td>\n",
       "      <td>20</td>\n",
       "      <td>20</td>\n",
       "      <td>20</td>\n",
       "      <td>0</td>\n",
       "      <td>5</td>\n",
       "      <td>...</td>\n",
       "      <td>0</td>\n",
       "      <td>1</td>\n",
       "      <td>0</td>\n",
       "      <td>0</td>\n",
       "      <td>0</td>\n",
       "      <td>1</td>\n",
       "      <td>0</td>\n",
       "      <td>0</td>\n",
       "      <td>1</td>\n",
       "      <td>0</td>\n",
       "    </tr>\n",
       "    <tr>\n",
       "      <th>1</th>\n",
       "      <td>21</td>\n",
       "      <td>22</td>\n",
       "      <td>2</td>\n",
       "      <td>4</td>\n",
       "      <td>60</td>\n",
       "      <td>0</td>\n",
       "      <td>0</td>\n",
       "      <td>40</td>\n",
       "      <td>0</td>\n",
       "      <td>0</td>\n",
       "      <td>...</td>\n",
       "      <td>0</td>\n",
       "      <td>1</td>\n",
       "      <td>0</td>\n",
       "      <td>0</td>\n",
       "      <td>0</td>\n",
       "      <td>0</td>\n",
       "      <td>1</td>\n",
       "      <td>0</td>\n",
       "      <td>1</td>\n",
       "      <td>0</td>\n",
       "    </tr>\n",
       "    <tr>\n",
       "      <th>3</th>\n",
       "      <td>21</td>\n",
       "      <td>23</td>\n",
       "      <td>2</td>\n",
       "      <td>4</td>\n",
       "      <td>30</td>\n",
       "      <td>5</td>\n",
       "      <td>15</td>\n",
       "      <td>40</td>\n",
       "      <td>5</td>\n",
       "      <td>5</td>\n",
       "      <td>...</td>\n",
       "      <td>0</td>\n",
       "      <td>1</td>\n",
       "      <td>0</td>\n",
       "      <td>0</td>\n",
       "      <td>0</td>\n",
       "      <td>0</td>\n",
       "      <td>1</td>\n",
       "      <td>0</td>\n",
       "      <td>1</td>\n",
       "      <td>0</td>\n",
       "    </tr>\n",
       "    <tr>\n",
       "      <th>4</th>\n",
       "      <td>21</td>\n",
       "      <td>24</td>\n",
       "      <td>2</td>\n",
       "      <td>4</td>\n",
       "      <td>30</td>\n",
       "      <td>10</td>\n",
       "      <td>20</td>\n",
       "      <td>10</td>\n",
       "      <td>10</td>\n",
       "      <td>20</td>\n",
       "      <td>...</td>\n",
       "      <td>0</td>\n",
       "      <td>1</td>\n",
       "      <td>0</td>\n",
       "      <td>0</td>\n",
       "      <td>0</td>\n",
       "      <td>1</td>\n",
       "      <td>0</td>\n",
       "      <td>0</td>\n",
       "      <td>1</td>\n",
       "      <td>0</td>\n",
       "    </tr>\n",
       "    <tr>\n",
       "      <th>5</th>\n",
       "      <td>21</td>\n",
       "      <td>25</td>\n",
       "      <td>2</td>\n",
       "      <td>4</td>\n",
       "      <td>50</td>\n",
       "      <td>0</td>\n",
       "      <td>30</td>\n",
       "      <td>10</td>\n",
       "      <td>0</td>\n",
       "      <td>10</td>\n",
       "      <td>...</td>\n",
       "      <td>0</td>\n",
       "      <td>1</td>\n",
       "      <td>0</td>\n",
       "      <td>0</td>\n",
       "      <td>0</td>\n",
       "      <td>1</td>\n",
       "      <td>0</td>\n",
       "      <td>0</td>\n",
       "      <td>1</td>\n",
       "      <td>0</td>\n",
       "    </tr>\n",
       "  </tbody>\n",
       "</table>\n",
       "<p>5 rows × 288 columns</p>\n",
       "</div>"
      ],
      "text/plain": [
       "  age age_o importance_same_race importance_same_religion pref_o_attractive  \\\n",
       "0  21    27                    2                        4                35   \n",
       "1  21    22                    2                        4                60   \n",
       "3  21    23                    2                        4                30   \n",
       "4  21    24                    2                        4                30   \n",
       "5  21    25                    2                        4                50   \n",
       "\n",
       "  pref_o_sincere pref_o_intelligence pref_o_funny pref_o_ambitious  \\\n",
       "0             20                  20           20                0   \n",
       "1              0                   0           40                0   \n",
       "3              5                  15           40                5   \n",
       "4             10                  20           10               10   \n",
       "5              0                  30           10                0   \n",
       "\n",
       "  pref_o_shared_interests      ...      d_shopping_[9-10] d_yoga_[0-5]  \\\n",
       "0                       5      ...                      0            1   \n",
       "1                       0      ...                      0            1   \n",
       "3                       5      ...                      0            1   \n",
       "4                      20      ...                      0            1   \n",
       "5                      10      ...                      0            1   \n",
       "\n",
       "  d_yoga_[6-8] d_yoga_[9-10] d_interests_correlate_[-1-0]  \\\n",
       "0            0             0                            0   \n",
       "1            0             0                            0   \n",
       "3            0             0                            0   \n",
       "4            0             0                            0   \n",
       "5            0             0                            0   \n",
       "\n",
       "  d_interests_correlate_[0-0.33] d_interests_correlate_[0.33-1] d_like_[0-5]  \\\n",
       "0                              1                              0            0   \n",
       "1                              0                              1            0   \n",
       "3                              0                              1            0   \n",
       "4                              1                              0            0   \n",
       "5                              1                              0            0   \n",
       "\n",
       "  d_like_[6-8] d_like_[9-10]  \n",
       "0            1             0  \n",
       "1            1             0  \n",
       "3            1             0  \n",
       "4            1             0  \n",
       "5            1             0  \n",
       "\n",
       "[5 rows x 288 columns]"
      ]
     },
     "execution_count": 19,
     "metadata": {},
     "output_type": "execute_result"
    }
   ],
   "source": [
    "novo.head()\n",
    "# for a in novo.columns:\n",
    "#     print(a)"
   ]
  },
  {
   "cell_type": "code",
   "execution_count": 12,
   "metadata": {
    "scrolled": true
   },
   "outputs": [],
   "source": [
    "# print(novo.columns.values)"
   ]
  },
  {
   "cell_type": "code",
   "execution_count": 13,
   "metadata": {},
   "outputs": [],
   "source": [
    "y = novo['match']"
   ]
  },
  {
   "cell_type": "code",
   "execution_count": 17,
   "metadata": {},
   "outputs": [
    {
     "name": "stdout",
     "output_type": "stream",
     "text": [
      "0.9694656488549618\n"
     ]
    }
   ],
   "source": [
    "from sklearn.ensemble import RandomForestClassifier\n",
    "from sklearn.model_selection import train_test_split\n",
    "from sklearn.metrics import accuracy_score\n",
    "\n",
    "X_train, X_test, y_train, y_test = train_test_split(novo, y)\n",
    "\n",
    "model = RandomForestClassifier(n_estimators=1000)\n",
    "model.fit(X_train, y_train)\n",
    "y_pred = model.predict(X_test)\n",
    "\n",
    "print(accuracy_score(y_test, y_pred))"
   ]
  },
  {
   "cell_type": "code",
   "execution_count": null,
   "metadata": {},
   "outputs": [],
   "source": []
  }
 ],
 "metadata": {
  "kernelspec": {
   "display_name": "Python 3",
   "language": "python",
   "name": "python3"
  },
  "language_info": {
   "codemirror_mode": {
    "name": "ipython",
    "version": 3
   },
   "file_extension": ".py",
   "mimetype": "text/x-python",
   "name": "python",
   "nbconvert_exporter": "python",
   "pygments_lexer": "ipython3",
   "version": "3.7.1"
  }
 },
 "nbformat": 4,
 "nbformat_minor": 2
}
